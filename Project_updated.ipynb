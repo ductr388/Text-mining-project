{
  "cells": [
    {
      "cell_type": "markdown",
      "id": "2a60a6a1-8958-4dd2-97c2-94ab2266de67",
      "metadata": {
        "id": "2a60a6a1-8958-4dd2-97c2-94ab2266de67"
      },
      "source": [
        "# Introduction\n",
        "* This notebook presents the workflow of the project for the course Text-Mining\n",
        "* Project is about sentiment analysis of reviews of seven different apps"
      ]
    },
    {
      "cell_type": "markdown",
      "id": "f827e786-f405-4f24-b529-62f7d32d505b",
      "metadata": {
        "id": "f827e786-f405-4f24-b529-62f7d32d505b"
      },
      "source": [
        "# Investigation of data"
      ]
    },
    {
      "cell_type": "code",
      "execution_count": 1,
      "id": "GQO0oQcM1rdy",
      "metadata": {
        "id": "GQO0oQcM1rdy",
        "colab": {
          "base_uri": "https://localhost:8080/"
        },
        "outputId": "1cca14f5-0595-4ff6-f9fe-ab3f6c1a3f8a"
      },
      "outputs": [
        {
          "output_type": "stream",
          "name": "stdout",
          "text": [
            "\u001b[?25l   \u001b[90m━━━━━━━━━━━━━━━━━━━━━━━━━━━━━━━━━━━━━━━━\u001b[0m \u001b[32m0.0/485.4 kB\u001b[0m \u001b[31m?\u001b[0m eta \u001b[36m-:--:--\u001b[0m\r\u001b[2K   \u001b[91m━━━━━━━━━━━━━━━━━━━━━━━━━━━━━━━━━━━━━━━\u001b[0m\u001b[91m╸\u001b[0m \u001b[32m481.3/485.4 kB\u001b[0m \u001b[31m15.6 MB/s\u001b[0m eta \u001b[36m0:00:01\u001b[0m\r\u001b[2K   \u001b[90m━━━━━━━━━━━━━━━━━━━━━━━━━━━━━━━━━━━━━━━━\u001b[0m \u001b[32m485.4/485.4 kB\u001b[0m \u001b[31m8.2 MB/s\u001b[0m eta \u001b[36m0:00:00\u001b[0m\n",
            "\u001b[?25h\u001b[?25l   \u001b[90m━━━━━━━━━━━━━━━━━━━━━━━━━━━━━━━━━━━━━━━━\u001b[0m \u001b[32m0.0/116.3 kB\u001b[0m \u001b[31m?\u001b[0m eta \u001b[36m-:--:--\u001b[0m\r\u001b[2K   \u001b[90m━━━━━━━━━━━━━━━━━━━━━━━━━━━━━━━━━━━━━━━━\u001b[0m \u001b[32m116.3/116.3 kB\u001b[0m \u001b[31m6.3 MB/s\u001b[0m eta \u001b[36m0:00:00\u001b[0m\n",
            "\u001b[2K   \u001b[90m━━━━━━━━━━━━━━━━━━━━━━━━━━━━━━━━━━━━━━━━\u001b[0m \u001b[32m143.5/143.5 kB\u001b[0m \u001b[31m7.4 MB/s\u001b[0m eta \u001b[36m0:00:00\u001b[0m\n",
            "\u001b[2K   \u001b[90m━━━━━━━━━━━━━━━━━━━━━━━━━━━━━━━━━━━━━━━━\u001b[0m \u001b[32m194.8/194.8 kB\u001b[0m \u001b[31m10.2 MB/s\u001b[0m eta \u001b[36m0:00:00\u001b[0m\n",
            "\u001b[?25h"
          ]
        }
      ],
      "source": [
        "pip install -q datasets"
      ]
    },
    {
      "cell_type": "code",
      "execution_count": 2,
      "id": "B1_dtTXVDyYr",
      "metadata": {
        "colab": {
          "base_uri": "https://localhost:8080/"
        },
        "id": "B1_dtTXVDyYr",
        "outputId": "c4ef043e-128e-460b-a928-8744968affe9"
      },
      "outputs": [
        {
          "output_type": "stream",
          "name": "stdout",
          "text": [
            "\u001b[?25l   \u001b[90m━━━━━━━━━━━━━━━━━━━━━━━━━━━━━━━━━━━━━━━━\u001b[0m \u001b[32m0.0/84.0 kB\u001b[0m \u001b[31m?\u001b[0m eta \u001b[36m-:--:--\u001b[0m\r\u001b[2K   \u001b[90m━━━━━━━━━━━━━━━━━━━━━━━━━━━━━━━━━━━━━━━━\u001b[0m \u001b[32m84.0/84.0 kB\u001b[0m \u001b[31m3.0 MB/s\u001b[0m eta \u001b[36m0:00:00\u001b[0m\n",
            "\u001b[?25h"
          ]
        }
      ],
      "source": [
        "pip install -q evaluate"
      ]
    },
    {
      "cell_type": "code",
      "execution_count": 3,
      "id": "e866e02f-2e97-4216-9c11-bc0c35fb1fd0",
      "metadata": {
        "id": "e866e02f-2e97-4216-9c11-bc0c35fb1fd0"
      },
      "outputs": [],
      "source": [
        "import pandas as pd\n",
        "import numpy as np\n",
        "import seaborn as sns\n",
        "import random\n",
        "\n",
        "from datasets import Dataset\n",
        "from random import sample\n",
        "random.seed(13)\n",
        "\n",
        "# Multinomial Naive Bayes\n",
        "from sklearn.feature_extraction.text import CountVectorizer\n",
        "from sklearn.naive_bayes import MultinomialNB\n",
        "from sklearn.metrics import classification_report\n",
        "from sklearn.pipeline import make_pipeline\n",
        "from sklearn.metrics import ConfusionMatrixDisplay\n",
        "\n",
        "# Distilled BERT\n",
        "# https://huggingface.co/blog/sentiment-analysis-python\n",
        "from transformers import AutoModelForSequenceClassification, AutoTokenizer, DistilBertConfig, DistilBertModel, TrainingArguments, Trainer, TextClassificationPipeline\n",
        "# tokenizer = AutoTokenizer.from_pretrained(\"distilbert-base-uncased\")\n",
        "\n"
      ]
    },
    {
      "cell_type": "code",
      "execution_count": 4,
      "id": "db0c9742-1aba-46a5-9731-2b094ac93cf5",
      "metadata": {
        "colab": {
          "base_uri": "https://localhost:8080/"
        },
        "id": "db0c9742-1aba-46a5-9731-2b094ac93cf5",
        "outputId": "29f9992f-a4d8-4d37-e668-bfe85f8d5ce2"
      },
      "outputs": [
        {
          "output_type": "stream",
          "name": "stderr",
          "text": [
            "/usr/local/lib/python3.11/dist-packages/huggingface_hub/utils/_auth.py:94: UserWarning: \n",
            "The secret `HF_TOKEN` does not exist in your Colab secrets.\n",
            "To authenticate with the Hugging Face Hub, create a token in your settings tab (https://huggingface.co/settings/tokens), set it as secret in your Google Colab and restart your session.\n",
            "You will be able to reuse this secret in all of your notebooks.\n",
            "Please note that authentication is recommended but still optional to access public models or datasets.\n",
            "  warnings.warn(\n"
          ]
        }
      ],
      "source": [
        "df = pd.read_json(\"hf://datasets/Gopalatius/google-play-review/google_play_dataset.json\", lines=True)"
      ]
    },
    {
      "cell_type": "code",
      "execution_count": 5,
      "id": "6463a729-6ad4-435e-9037-a8fe05f027d5",
      "metadata": {
        "colab": {
          "base_uri": "https://localhost:8080/",
          "height": 222
        },
        "id": "6463a729-6ad4-435e-9037-a8fe05f027d5",
        "outputId": "59cc99ea-4b2e-4439-a833-f6e1d38c83bf"
      },
      "outputs": [
        {
          "output_type": "stream",
          "name": "stdout",
          "text": [
            "Index(['reviewId', 'userName', 'userImage', 'content', 'score',\n",
            "       'thumbsUpCount', 'reviewCreatedVersion', 'at', 'replyContent',\n",
            "       'repliedAt', 'appVersion', 'packageName', 'appName'],\n",
            "      dtype='object')\n"
          ]
        },
        {
          "output_type": "execute_result",
          "data": {
            "text/plain": [
              "                               reviewId        userName  \\\n",
              "0  00938cb6-5ae6-4ac5-aeb0-9c7f8d57ca9e  Janel Reliford   \n",
              "\n",
              "                                           userImage  \\\n",
              "0  https://play-lh.googleusercontent.com/a-/ALV-U...   \n",
              "\n",
              "                                             content  score  thumbsUpCount  \\\n",
              "0  I love Reddit it's a great resource, Community...      5              6   \n",
              "\n",
              "  reviewCreatedVersion             at replyContent  repliedAt appVersion  \\\n",
              "0            2024.12.0  1710976714000         None        NaN  2024.12.0   \n",
              "\n",
              "            packageName appName  \n",
              "0  com.reddit.frontpage  Reddit  "
            ],
            "text/html": [
              "\n",
              "  <div id=\"df-89685062-5603-43d1-bb19-683c38762fc4\" class=\"colab-df-container\">\n",
              "    <div>\n",
              "<style scoped>\n",
              "    .dataframe tbody tr th:only-of-type {\n",
              "        vertical-align: middle;\n",
              "    }\n",
              "\n",
              "    .dataframe tbody tr th {\n",
              "        vertical-align: top;\n",
              "    }\n",
              "\n",
              "    .dataframe thead th {\n",
              "        text-align: right;\n",
              "    }\n",
              "</style>\n",
              "<table border=\"1\" class=\"dataframe\">\n",
              "  <thead>\n",
              "    <tr style=\"text-align: right;\">\n",
              "      <th></th>\n",
              "      <th>reviewId</th>\n",
              "      <th>userName</th>\n",
              "      <th>userImage</th>\n",
              "      <th>content</th>\n",
              "      <th>score</th>\n",
              "      <th>thumbsUpCount</th>\n",
              "      <th>reviewCreatedVersion</th>\n",
              "      <th>at</th>\n",
              "      <th>replyContent</th>\n",
              "      <th>repliedAt</th>\n",
              "      <th>appVersion</th>\n",
              "      <th>packageName</th>\n",
              "      <th>appName</th>\n",
              "    </tr>\n",
              "  </thead>\n",
              "  <tbody>\n",
              "    <tr>\n",
              "      <th>0</th>\n",
              "      <td>00938cb6-5ae6-4ac5-aeb0-9c7f8d57ca9e</td>\n",
              "      <td>Janel Reliford</td>\n",
              "      <td>https://play-lh.googleusercontent.com/a-/ALV-U...</td>\n",
              "      <td>I love Reddit it's a great resource, Community...</td>\n",
              "      <td>5</td>\n",
              "      <td>6</td>\n",
              "      <td>2024.12.0</td>\n",
              "      <td>1710976714000</td>\n",
              "      <td>None</td>\n",
              "      <td>NaN</td>\n",
              "      <td>2024.12.0</td>\n",
              "      <td>com.reddit.frontpage</td>\n",
              "      <td>Reddit</td>\n",
              "    </tr>\n",
              "  </tbody>\n",
              "</table>\n",
              "</div>\n",
              "    <div class=\"colab-df-buttons\">\n",
              "\n",
              "  <div class=\"colab-df-container\">\n",
              "    <button class=\"colab-df-convert\" onclick=\"convertToInteractive('df-89685062-5603-43d1-bb19-683c38762fc4')\"\n",
              "            title=\"Convert this dataframe to an interactive table.\"\n",
              "            style=\"display:none;\">\n",
              "\n",
              "  <svg xmlns=\"http://www.w3.org/2000/svg\" height=\"24px\" viewBox=\"0 -960 960 960\">\n",
              "    <path d=\"M120-120v-720h720v720H120Zm60-500h600v-160H180v160Zm220 220h160v-160H400v160Zm0 220h160v-160H400v160ZM180-400h160v-160H180v160Zm440 0h160v-160H620v160ZM180-180h160v-160H180v160Zm440 0h160v-160H620v160Z\"/>\n",
              "  </svg>\n",
              "    </button>\n",
              "\n",
              "  <style>\n",
              "    .colab-df-container {\n",
              "      display:flex;\n",
              "      gap: 12px;\n",
              "    }\n",
              "\n",
              "    .colab-df-convert {\n",
              "      background-color: #E8F0FE;\n",
              "      border: none;\n",
              "      border-radius: 50%;\n",
              "      cursor: pointer;\n",
              "      display: none;\n",
              "      fill: #1967D2;\n",
              "      height: 32px;\n",
              "      padding: 0 0 0 0;\n",
              "      width: 32px;\n",
              "    }\n",
              "\n",
              "    .colab-df-convert:hover {\n",
              "      background-color: #E2EBFA;\n",
              "      box-shadow: 0px 1px 2px rgba(60, 64, 67, 0.3), 0px 1px 3px 1px rgba(60, 64, 67, 0.15);\n",
              "      fill: #174EA6;\n",
              "    }\n",
              "\n",
              "    .colab-df-buttons div {\n",
              "      margin-bottom: 4px;\n",
              "    }\n",
              "\n",
              "    [theme=dark] .colab-df-convert {\n",
              "      background-color: #3B4455;\n",
              "      fill: #D2E3FC;\n",
              "    }\n",
              "\n",
              "    [theme=dark] .colab-df-convert:hover {\n",
              "      background-color: #434B5C;\n",
              "      box-shadow: 0px 1px 3px 1px rgba(0, 0, 0, 0.15);\n",
              "      filter: drop-shadow(0px 1px 2px rgba(0, 0, 0, 0.3));\n",
              "      fill: #FFFFFF;\n",
              "    }\n",
              "  </style>\n",
              "\n",
              "    <script>\n",
              "      const buttonEl =\n",
              "        document.querySelector('#df-89685062-5603-43d1-bb19-683c38762fc4 button.colab-df-convert');\n",
              "      buttonEl.style.display =\n",
              "        google.colab.kernel.accessAllowed ? 'block' : 'none';\n",
              "\n",
              "      async function convertToInteractive(key) {\n",
              "        const element = document.querySelector('#df-89685062-5603-43d1-bb19-683c38762fc4');\n",
              "        const dataTable =\n",
              "          await google.colab.kernel.invokeFunction('convertToInteractive',\n",
              "                                                    [key], {});\n",
              "        if (!dataTable) return;\n",
              "\n",
              "        const docLinkHtml = 'Like what you see? Visit the ' +\n",
              "          '<a target=\"_blank\" href=https://colab.research.google.com/notebooks/data_table.ipynb>data table notebook</a>'\n",
              "          + ' to learn more about interactive tables.';\n",
              "        element.innerHTML = '';\n",
              "        dataTable['output_type'] = 'display_data';\n",
              "        await google.colab.output.renderOutput(dataTable, element);\n",
              "        const docLink = document.createElement('div');\n",
              "        docLink.innerHTML = docLinkHtml;\n",
              "        element.appendChild(docLink);\n",
              "      }\n",
              "    </script>\n",
              "  </div>\n",
              "\n",
              "\n",
              "    </div>\n",
              "  </div>\n"
            ],
            "application/vnd.google.colaboratory.intrinsic+json": {
              "type": "dataframe",
              "variable_name": "df"
            }
          },
          "metadata": {},
          "execution_count": 5
        }
      ],
      "source": [
        "# Available columns and values\n",
        "print(df.columns)\n",
        "df.head(1)\n"
      ]
    },
    {
      "cell_type": "code",
      "execution_count": 6,
      "id": "5e5b76c9-b3c7-4eca-badb-857abd77ddd9",
      "metadata": {
        "colab": {
          "base_uri": "https://localhost:8080/"
        },
        "id": "5e5b76c9-b3c7-4eca-badb-857abd77ddd9",
        "outputId": "d13c68f9-03f7-40c2-f4c2-5f506b53a423"
      },
      "outputs": [
        {
          "output_type": "stream",
          "name": "stdout",
          "text": [
            "appName\n",
            "Facebook              11940\n",
            "Facebook Messenger    14726\n",
            "Google Maps           12935\n",
            "Instagram             13930\n",
            "Reddit                13134\n",
            "TikTok                13532\n",
            "Twitter               13532\n",
            "WhatsApp              12736\n",
            "dtype: int64\n",
            "\n",
            "Total number of observations:  106465\n"
          ]
        }
      ],
      "source": [
        "# Number of reviews for the different apps\n",
        "print(df.groupby([\"appName\"]).size())\n",
        "print(\"\\nTotal number of observations: \", sum(df.groupby([\"appName\"]).size()))"
      ]
    },
    {
      "cell_type": "code",
      "execution_count": 7,
      "id": "a4627839-edf2-49dc-b705-7d186b13df57",
      "metadata": {
        "colab": {
          "base_uri": "https://localhost:8080/",
          "height": 272
        },
        "id": "a4627839-edf2-49dc-b705-7d186b13df57",
        "outputId": "a386c4ad-1641-4c90-f0ef-85e2be8bba54"
      },
      "outputs": [
        {
          "output_type": "execute_result",
          "data": {
            "text/plain": [
              "score\n",
              "1    20895\n",
              "2    19502\n",
              "3    18706\n",
              "4    25074\n",
              "5    22288\n",
              "dtype: int64"
            ],
            "text/html": [
              "<div>\n",
              "<style scoped>\n",
              "    .dataframe tbody tr th:only-of-type {\n",
              "        vertical-align: middle;\n",
              "    }\n",
              "\n",
              "    .dataframe tbody tr th {\n",
              "        vertical-align: top;\n",
              "    }\n",
              "\n",
              "    .dataframe thead th {\n",
              "        text-align: right;\n",
              "    }\n",
              "</style>\n",
              "<table border=\"1\" class=\"dataframe\">\n",
              "  <thead>\n",
              "    <tr style=\"text-align: right;\">\n",
              "      <th></th>\n",
              "      <th>0</th>\n",
              "    </tr>\n",
              "    <tr>\n",
              "      <th>score</th>\n",
              "      <th></th>\n",
              "    </tr>\n",
              "  </thead>\n",
              "  <tbody>\n",
              "    <tr>\n",
              "      <th>1</th>\n",
              "      <td>20895</td>\n",
              "    </tr>\n",
              "    <tr>\n",
              "      <th>2</th>\n",
              "      <td>19502</td>\n",
              "    </tr>\n",
              "    <tr>\n",
              "      <th>3</th>\n",
              "      <td>18706</td>\n",
              "    </tr>\n",
              "    <tr>\n",
              "      <th>4</th>\n",
              "      <td>25074</td>\n",
              "    </tr>\n",
              "    <tr>\n",
              "      <th>5</th>\n",
              "      <td>22288</td>\n",
              "    </tr>\n",
              "  </tbody>\n",
              "</table>\n",
              "</div><br><label><b>dtype:</b> int64</label>"
            ]
          },
          "metadata": {},
          "execution_count": 7
        }
      ],
      "source": [
        "# Number of reviews per score\n",
        "df.groupby([\"score\"]).size()"
      ]
    },
    {
      "cell_type": "code",
      "execution_count": 8,
      "id": "f2a134ef-9da1-4fce-8a14-3b7a1e0513dd",
      "metadata": {
        "colab": {
          "base_uri": "https://localhost:8080/",
          "height": 1000
        },
        "id": "f2a134ef-9da1-4fce-8a14-3b7a1e0513dd",
        "outputId": "6c06debe-6fc5-41cf-876a-8ab2a8aa1176"
      },
      "outputs": [
        {
          "output_type": "execute_result",
          "data": {
            "text/plain": [
              "appName             score\n",
              "Facebook            1        2587\n",
              "                    2        2985\n",
              "                    3        2189\n",
              "                    4        2388\n",
              "                    5        1791\n",
              "Facebook Messenger  1        3980\n",
              "                    2        1393\n",
              "                    3        3781\n",
              "                    4        3383\n",
              "                    5        2189\n",
              "Google Maps         1        2985\n",
              "                    2        2786\n",
              "                    3        2189\n",
              "                    4        2388\n",
              "                    5        2587\n",
              "Instagram           1        2587\n",
              "                    2        2587\n",
              "                    3        1791\n",
              "                    4        2985\n",
              "                    5        3980\n",
              "Reddit              1        1990\n",
              "                    2        1990\n",
              "                    3        1990\n",
              "                    4        3383\n",
              "                    5        3781\n",
              "TikTok              1        2587\n",
              "                    2        2587\n",
              "                    3        2786\n",
              "                    4        3184\n",
              "                    5        2388\n",
              "Twitter             1        2587\n",
              "                    2        2388\n",
              "                    3        1990\n",
              "                    4        4577\n",
              "                    5        1990\n",
              "WhatsApp            1        1592\n",
              "                    2        2786\n",
              "                    3        1990\n",
              "                    4        2786\n",
              "                    5        3582\n",
              "dtype: int64"
            ],
            "text/html": [
              "<div>\n",
              "<style scoped>\n",
              "    .dataframe tbody tr th:only-of-type {\n",
              "        vertical-align: middle;\n",
              "    }\n",
              "\n",
              "    .dataframe tbody tr th {\n",
              "        vertical-align: top;\n",
              "    }\n",
              "\n",
              "    .dataframe thead th {\n",
              "        text-align: right;\n",
              "    }\n",
              "</style>\n",
              "<table border=\"1\" class=\"dataframe\">\n",
              "  <thead>\n",
              "    <tr style=\"text-align: right;\">\n",
              "      <th></th>\n",
              "      <th></th>\n",
              "      <th>0</th>\n",
              "    </tr>\n",
              "    <tr>\n",
              "      <th>appName</th>\n",
              "      <th>score</th>\n",
              "      <th></th>\n",
              "    </tr>\n",
              "  </thead>\n",
              "  <tbody>\n",
              "    <tr>\n",
              "      <th rowspan=\"5\" valign=\"top\">Facebook</th>\n",
              "      <th>1</th>\n",
              "      <td>2587</td>\n",
              "    </tr>\n",
              "    <tr>\n",
              "      <th>2</th>\n",
              "      <td>2985</td>\n",
              "    </tr>\n",
              "    <tr>\n",
              "      <th>3</th>\n",
              "      <td>2189</td>\n",
              "    </tr>\n",
              "    <tr>\n",
              "      <th>4</th>\n",
              "      <td>2388</td>\n",
              "    </tr>\n",
              "    <tr>\n",
              "      <th>5</th>\n",
              "      <td>1791</td>\n",
              "    </tr>\n",
              "    <tr>\n",
              "      <th rowspan=\"5\" valign=\"top\">Facebook Messenger</th>\n",
              "      <th>1</th>\n",
              "      <td>3980</td>\n",
              "    </tr>\n",
              "    <tr>\n",
              "      <th>2</th>\n",
              "      <td>1393</td>\n",
              "    </tr>\n",
              "    <tr>\n",
              "      <th>3</th>\n",
              "      <td>3781</td>\n",
              "    </tr>\n",
              "    <tr>\n",
              "      <th>4</th>\n",
              "      <td>3383</td>\n",
              "    </tr>\n",
              "    <tr>\n",
              "      <th>5</th>\n",
              "      <td>2189</td>\n",
              "    </tr>\n",
              "    <tr>\n",
              "      <th rowspan=\"5\" valign=\"top\">Google Maps</th>\n",
              "      <th>1</th>\n",
              "      <td>2985</td>\n",
              "    </tr>\n",
              "    <tr>\n",
              "      <th>2</th>\n",
              "      <td>2786</td>\n",
              "    </tr>\n",
              "    <tr>\n",
              "      <th>3</th>\n",
              "      <td>2189</td>\n",
              "    </tr>\n",
              "    <tr>\n",
              "      <th>4</th>\n",
              "      <td>2388</td>\n",
              "    </tr>\n",
              "    <tr>\n",
              "      <th>5</th>\n",
              "      <td>2587</td>\n",
              "    </tr>\n",
              "    <tr>\n",
              "      <th rowspan=\"5\" valign=\"top\">Instagram</th>\n",
              "      <th>1</th>\n",
              "      <td>2587</td>\n",
              "    </tr>\n",
              "    <tr>\n",
              "      <th>2</th>\n",
              "      <td>2587</td>\n",
              "    </tr>\n",
              "    <tr>\n",
              "      <th>3</th>\n",
              "      <td>1791</td>\n",
              "    </tr>\n",
              "    <tr>\n",
              "      <th>4</th>\n",
              "      <td>2985</td>\n",
              "    </tr>\n",
              "    <tr>\n",
              "      <th>5</th>\n",
              "      <td>3980</td>\n",
              "    </tr>\n",
              "    <tr>\n",
              "      <th rowspan=\"5\" valign=\"top\">Reddit</th>\n",
              "      <th>1</th>\n",
              "      <td>1990</td>\n",
              "    </tr>\n",
              "    <tr>\n",
              "      <th>2</th>\n",
              "      <td>1990</td>\n",
              "    </tr>\n",
              "    <tr>\n",
              "      <th>3</th>\n",
              "      <td>1990</td>\n",
              "    </tr>\n",
              "    <tr>\n",
              "      <th>4</th>\n",
              "      <td>3383</td>\n",
              "    </tr>\n",
              "    <tr>\n",
              "      <th>5</th>\n",
              "      <td>3781</td>\n",
              "    </tr>\n",
              "    <tr>\n",
              "      <th rowspan=\"5\" valign=\"top\">TikTok</th>\n",
              "      <th>1</th>\n",
              "      <td>2587</td>\n",
              "    </tr>\n",
              "    <tr>\n",
              "      <th>2</th>\n",
              "      <td>2587</td>\n",
              "    </tr>\n",
              "    <tr>\n",
              "      <th>3</th>\n",
              "      <td>2786</td>\n",
              "    </tr>\n",
              "    <tr>\n",
              "      <th>4</th>\n",
              "      <td>3184</td>\n",
              "    </tr>\n",
              "    <tr>\n",
              "      <th>5</th>\n",
              "      <td>2388</td>\n",
              "    </tr>\n",
              "    <tr>\n",
              "      <th rowspan=\"5\" valign=\"top\">Twitter</th>\n",
              "      <th>1</th>\n",
              "      <td>2587</td>\n",
              "    </tr>\n",
              "    <tr>\n",
              "      <th>2</th>\n",
              "      <td>2388</td>\n",
              "    </tr>\n",
              "    <tr>\n",
              "      <th>3</th>\n",
              "      <td>1990</td>\n",
              "    </tr>\n",
              "    <tr>\n",
              "      <th>4</th>\n",
              "      <td>4577</td>\n",
              "    </tr>\n",
              "    <tr>\n",
              "      <th>5</th>\n",
              "      <td>1990</td>\n",
              "    </tr>\n",
              "    <tr>\n",
              "      <th rowspan=\"5\" valign=\"top\">WhatsApp</th>\n",
              "      <th>1</th>\n",
              "      <td>1592</td>\n",
              "    </tr>\n",
              "    <tr>\n",
              "      <th>2</th>\n",
              "      <td>2786</td>\n",
              "    </tr>\n",
              "    <tr>\n",
              "      <th>3</th>\n",
              "      <td>1990</td>\n",
              "    </tr>\n",
              "    <tr>\n",
              "      <th>4</th>\n",
              "      <td>2786</td>\n",
              "    </tr>\n",
              "    <tr>\n",
              "      <th>5</th>\n",
              "      <td>3582</td>\n",
              "    </tr>\n",
              "  </tbody>\n",
              "</table>\n",
              "</div><br><label><b>dtype:</b> int64</label>"
            ]
          },
          "metadata": {},
          "execution_count": 8
        }
      ],
      "source": [
        "# Number of scores per app\n",
        "df.groupby([\"appName\", \"score\"]).size()"
      ]
    },
    {
      "cell_type": "markdown",
      "id": "e97f91ce-187f-46eb-a5e0-d804908863d1",
      "metadata": {
        "id": "e97f91ce-187f-46eb-a5e0-d804908863d1"
      },
      "source": [
        "### Conclusion after investigation\n",
        "\n",
        "* Smallest group of reviews is for Facebook Messenger with score 2 (1393).\n",
        "* Undersampling will be based on this:\n",
        "    * 1000 observations will be for training\n",
        "    * 200 for validation\n",
        "    * rest is for test data\n",
        "\n",
        "The same number (1000/200/rest) is used for all apps. This will give a balanced training data set, balanced validation training set but an imbalanced test set.  \n",
        "Since the goal is to generalize the test set does not need to be balanced."
      ]
    },
    {
      "cell_type": "code",
      "execution_count": 9,
      "id": "b4c9c77d-b203-47b2-ac5e-f5d5e64b11f3",
      "metadata": {
        "id": "b4c9c77d-b203-47b2-ac5e-f5d5e64b11f3"
      },
      "outputs": [],
      "source": [
        "app_name = df[\"appName\"].unique()\n",
        "scores = range(1, 6)\n",
        "train_ind = list()\n",
        "valid_ind = list()\n",
        "test_ind  = list()\n",
        "n_train = 1000\n",
        "n_valid = 200\n",
        "\n",
        "for app in app_name:\n",
        "    temp_df = df.loc[df[\"appName\"] == app]\n",
        "\n",
        "    for score in scores:\n",
        "        # Grouped by app & score\n",
        "        ind = temp_df[\"score\"] == score\n",
        "        # Get index-numbers in original df\n",
        "        ind = ind[ind].index.to_list()\n",
        "\n",
        "        # Training samples\n",
        "        tr_ind = sample(ind, n_train)\n",
        "        train_ind += tr_ind\n",
        "\n",
        "        # Validation samples\n",
        "        # Remaining indices after train indices\n",
        "        temp_ind = list(set(ind)-set(tr_ind))\n",
        "        val_ind = sample(temp_ind, n_valid)\n",
        "        valid_ind += val_ind\n",
        "\n",
        "        # Test samples\n",
        "        # Remaining indices\n",
        "        te_ind = list(set(temp_ind) - set(val_ind))\n",
        "        test_ind += te_ind\n"
      ]
    },
    {
      "cell_type": "code",
      "execution_count": 10,
      "id": "5912b05a-5901-4037-a7ad-75a235633148",
      "metadata": {
        "id": "5912b05a-5901-4037-a7ad-75a235633148"
      },
      "outputs": [],
      "source": [
        "training_data = df.loc[train_ind]\n",
        "validation_data = df.loc[valid_ind]\n",
        "test_data = df.loc[test_ind]"
      ]
    },
    {
      "cell_type": "markdown",
      "id": "09fca199-9a37-4df3-af90-3b3c89ef661d",
      "metadata": {
        "id": "09fca199-9a37-4df3-af90-3b3c89ef661d"
      },
      "source": [
        "# Multinomial Naive Bayes"
      ]
    },
    {
      "cell_type": "code",
      "execution_count": 11,
      "id": "5e32409b-6996-4033-ad2b-8c67ec9d9a92",
      "metadata": {
        "id": "5e32409b-6996-4033-ad2b-8c67ec9d9a92",
        "colab": {
          "base_uri": "https://localhost:8080/"
        },
        "outputId": "59bd2dfd-53d6-47f8-b04a-998fd600990d"
      },
      "outputs": [
        {
          "output_type": "stream",
          "name": "stdout",
          "text": [
            "              precision    recall  f1-score   support\n",
            "\n",
            "           1       0.60      0.68      0.64     11295\n",
            "           2       0.46      0.52      0.49      9902\n",
            "           3       0.43      0.47      0.45      9106\n",
            "           4       0.62      0.49      0.55     15474\n",
            "           5       0.70      0.68      0.69     12688\n",
            "\n",
            "    accuracy                           0.57     58465\n",
            "   macro avg       0.56      0.57      0.56     58465\n",
            "weighted avg       0.58      0.57      0.57     58465\n",
            "\n"
          ]
        }
      ],
      "source": [
        "clf = make_pipeline(\n",
        "    CountVectorizer(),\n",
        "    MultinomialNB()\n",
        ")\n",
        "clf.fit(training_data[\"content\"],training_data[\"score\"])\n",
        "\n",
        "pred_nb = clf.predict(test_data[\"content\"])\n",
        "\n",
        "print(classification_report(test_data[\"score\"], pred_nb))"
      ]
    },
    {
      "cell_type": "code",
      "execution_count": 12,
      "id": "6ca278c4-16ba-401e-b6e2-9a90cb316f56",
      "metadata": {
        "id": "6ca278c4-16ba-401e-b6e2-9a90cb316f56",
        "colab": {
          "base_uri": "https://localhost:8080/",
          "height": 449
        },
        "outputId": "528919b7-373f-4f9b-d0b8-2f692f42bcc1"
      },
      "outputs": [
        {
          "output_type": "display_data",
          "data": {
            "text/plain": [
              "<Figure size 640x480 with 2 Axes>"
            ],
            "image/png": "[encoded data removed]"
          },
          "metadata": {}
        }
      ],
      "source": [
        "with sns.axes_style(\"white\"):  # Seaborn’s default style doesn’t play well with ConfusionMatrixDisplay, so we change it temporarily\n",
        "  ConfusionMatrixDisplay.from_estimator(\n",
        "      clf,             # The model that you want to plot the confusion matrix for\n",
        "      test_data['content'],    # The input data for the model\n",
        "      test_data['score'],    # The correct (gold-standard) labels for the input data\n",
        "      normalize='true',\n",
        "      values_format='.2f'\n",
        "   )"
      ]
    },
    {
      "cell_type": "code",
      "source": [
        "pred_nb = clf.predict(test_data.loc[test_data[\"appName\"] == \"Facebook\"][\"content\"])\n",
        "print(classification_report(test_data.loc[test_data[\"appName\"] == \"Facebook\"][\"score\"], pred_nb))"
      ],
      "metadata": {
        "colab": {
          "base_uri": "https://localhost:8080/"
        },
        "id": "NtdTw0pC2BdX",
        "outputId": "b955bdc4-63df-4d34-ffc3-366f8db33b24"
      },
      "id": "NtdTw0pC2BdX",
      "execution_count": 15,
      "outputs": [
        {
          "output_type": "stream",
          "name": "stdout",
          "text": [
            "              precision    recall  f1-score   support\n",
            "\n",
            "           1       0.53      0.81      0.64      1387\n",
            "           2       0.63      0.43      0.51      1785\n",
            "           3       0.50      0.47      0.48       989\n",
            "           4       0.78      0.43      0.55      1188\n",
            "           5       0.50      0.88      0.64       591\n",
            "\n",
            "    accuracy                           0.57      5940\n",
            "   macro avg       0.59      0.60      0.57      5940\n",
            "weighted avg       0.60      0.57      0.56      5940\n",
            "\n"
          ]
        }
      ]
    },
    {
      "cell_type": "code",
      "source": [
        "pred_nb = clf.predict(test_data.loc[test_data[\"appName\"] == \"Facebook Messenger\"][\"content\"])\n",
        "print(classification_report(test_data.loc[test_data[\"appName\"] == \"Facebook Messenger\"][\"score\"], pred_nb))"
      ],
      "metadata": {
        "colab": {
          "base_uri": "https://localhost:8080/"
        },
        "id": "FQ2NDtf62B4l",
        "outputId": "b44fd643-63ff-469d-ffde-0d98b757a10b"
      },
      "id": "FQ2NDtf62B4l",
      "execution_count": 17,
      "outputs": [
        {
          "output_type": "stream",
          "name": "stdout",
          "text": [
            "              precision    recall  f1-score   support\n",
            "\n",
            "           1       0.70      0.59      0.64      2780\n",
            "           2       0.07      0.78      0.13       193\n",
            "           3       0.58      0.35      0.43      2581\n",
            "           4       0.59      0.51      0.55      2183\n",
            "           5       0.65      0.60      0.62       989\n",
            "\n",
            "    accuracy                           0.50      8726\n",
            "   macro avg       0.52      0.56      0.47      8726\n",
            "weighted avg       0.62      0.50      0.54      8726\n",
            "\n"
          ]
        }
      ]
    },
    {
      "cell_type": "code",
      "source": [
        "pred_nb = clf.predict(test_data.loc[test_data[\"appName\"] == \"Google Maps\"][\"content\"])\n",
        "print(classification_report(test_data.loc[test_data[\"appName\"] == \"Google Maps\"][\"score\"], pred_nb))"
      ],
      "metadata": {
        "colab": {
          "base_uri": "https://localhost:8080/"
        },
        "id": "h9O7uLhB2B_-",
        "outputId": "f285b60d-ff2a-46b0-a2b1-289fcf6e805e"
      },
      "id": "h9O7uLhB2B_-",
      "execution_count": 18,
      "outputs": [
        {
          "output_type": "stream",
          "name": "stdout",
          "text": [
            "              precision    recall  f1-score   support\n",
            "\n",
            "           1       0.70      0.63      0.66      1785\n",
            "           2       0.60      0.66      0.63      1586\n",
            "           3       0.50      0.59      0.54       989\n",
            "           4       0.60      0.60      0.60      1188\n",
            "           5       0.86      0.75      0.80      1387\n",
            "\n",
            "    accuracy                           0.65      6935\n",
            "   macro avg       0.65      0.65      0.65      6935\n",
            "weighted avg       0.66      0.65      0.65      6935\n",
            "\n"
          ]
        }
      ]
    },
    {
      "cell_type": "code",
      "source": [
        "pred_nb = clf.predict(test_data.loc[test_data[\"appName\"] == \"Instagram\"][\"content\"])\n",
        "print(classification_report(test_data.loc[test_data[\"appName\"] == \"Instagram\"][\"score\"], pred_nb))"
      ],
      "metadata": {
        "colab": {
          "base_uri": "https://localhost:8080/"
        },
        "id": "8engCVIn2CFN",
        "outputId": "2f8f3ef6-1d7a-4969-8427-73a35a371083"
      },
      "id": "8engCVIn2CFN",
      "execution_count": 19,
      "outputs": [
        {
          "output_type": "stream",
          "name": "stdout",
          "text": [
            "              precision    recall  f1-score   support\n",
            "\n",
            "           1       0.60      0.63      0.61      1387\n",
            "           2       0.50      0.56      0.53      1387\n",
            "           3       0.26      0.59      0.36       591\n",
            "           4       0.55      0.46      0.50      1785\n",
            "           5       0.84      0.63      0.72      2780\n",
            "\n",
            "    accuracy                           0.58      7930\n",
            "   macro avg       0.55      0.57      0.54      7930\n",
            "weighted avg       0.63      0.58      0.59      7930\n",
            "\n"
          ]
        }
      ]
    },
    {
      "cell_type": "code",
      "source": [
        "pred_nb = clf.predict(test_data.loc[test_data[\"appName\"] == \"Reddit\"][\"content\"])\n",
        "print(classification_report(test_data.loc[test_data[\"appName\"] == \"Reddit\"][\"score\"], pred_nb))"
      ],
      "metadata": {
        "colab": {
          "base_uri": "https://localhost:8080/"
        },
        "id": "5iZfpm7h2CLG",
        "outputId": "cecc3aad-4a1d-43ff-de6f-86d7e400cac4"
      },
      "id": "5iZfpm7h2CLG",
      "execution_count": 20,
      "outputs": [
        {
          "output_type": "stream",
          "name": "stdout",
          "text": [
            "              precision    recall  f1-score   support\n",
            "\n",
            "           1       0.57      0.91      0.70       790\n",
            "           2       0.50      0.67      0.57       790\n",
            "           3       0.51      0.50      0.50       790\n",
            "           4       0.71      0.47      0.57      2183\n",
            "           5       0.79      0.79      0.79      2581\n",
            "\n",
            "    accuracy                           0.66      7134\n",
            "   macro avg       0.62      0.67      0.63      7134\n",
            "weighted avg       0.68      0.66      0.66      7134\n",
            "\n"
          ]
        }
      ]
    },
    {
      "cell_type": "code",
      "source": [
        "pred_nb = clf.predict(test_data.loc[test_data[\"appName\"] == \"TikTok\"][\"content\"])\n",
        "print(classification_report(test_data.loc[test_data[\"appName\"] == \"TikTok\"][\"score\"], pred_nb))"
      ],
      "metadata": {
        "colab": {
          "base_uri": "https://localhost:8080/"
        },
        "id": "Jk5bp1hQ2CPh",
        "outputId": "4a54282b-1a13-40ac-8569-255daa7103f7"
      },
      "id": "Jk5bp1hQ2CPh",
      "execution_count": 21,
      "outputs": [
        {
          "output_type": "stream",
          "name": "stdout",
          "text": [
            "              precision    recall  f1-score   support\n",
            "\n",
            "           1       0.58      0.65      0.62      1387\n",
            "           2       0.48      0.45      0.47      1387\n",
            "           3       0.47      0.47      0.47      1586\n",
            "           4       0.60      0.52      0.56      1984\n",
            "           5       0.62      0.71      0.66      1188\n",
            "\n",
            "    accuracy                           0.55      7532\n",
            "   macro avg       0.55      0.56      0.56      7532\n",
            "weighted avg       0.55      0.55      0.55      7532\n",
            "\n"
          ]
        }
      ]
    },
    {
      "cell_type": "code",
      "source": [
        "pred_nb = clf.predict(test_data.loc[test_data[\"appName\"] == \"Twitter\"][\"content\"])\n",
        "print(classification_report(test_data.loc[test_data[\"appName\"] == \"Twitter\"][\"score\"], pred_nb))"
      ],
      "metadata": {
        "colab": {
          "base_uri": "https://localhost:8080/"
        },
        "id": "ZvtFm_p33AY8",
        "outputId": "5ea75c75-b72a-4f2e-9531-9d8e893a2314"
      },
      "id": "ZvtFm_p33AY8",
      "execution_count": 22,
      "outputs": [
        {
          "output_type": "stream",
          "name": "stdout",
          "text": [
            "              precision    recall  f1-score   support\n",
            "\n",
            "           1       0.59      0.79      0.68      1387\n",
            "           2       0.52      0.54      0.53      1188\n",
            "           3       0.30      0.43      0.35       790\n",
            "           4       0.87      0.42      0.56      3377\n",
            "           5       0.42      0.88      0.57       790\n",
            "\n",
            "    accuracy                           0.56      7532\n",
            "   macro avg       0.54      0.61      0.54      7532\n",
            "weighted avg       0.66      0.56      0.56      7532\n",
            "\n"
          ]
        }
      ]
    },
    {
      "cell_type": "code",
      "source": [
        "pred_nb = clf.predict(test_data.loc[test_data[\"appName\"] == \"WhatsApp\"][\"content\"])\n",
        "print(classification_report(test_data.loc[test_data[\"appName\"] == \"WhatsApp\"][\"score\"], pred_nb))"
      ],
      "metadata": {
        "colab": {
          "base_uri": "https://localhost:8080/"
        },
        "id": "xT1SLJRm3Ag6",
        "outputId": "fc59f3fa-a35d-4574-ca17-1c915ebf5ecc"
      },
      "id": "xT1SLJRm3Ag6",
      "execution_count": 23,
      "outputs": [
        {
          "output_type": "stream",
          "name": "stdout",
          "text": [
            "              precision    recall  f1-score   support\n",
            "\n",
            "           1       0.34      0.65      0.44       392\n",
            "           2       0.65      0.37      0.47      1586\n",
            "           3       0.33      0.64      0.44       790\n",
            "           4       0.43      0.60      0.50      1586\n",
            "           5       0.82      0.47      0.60      2382\n",
            "\n",
            "    accuracy                           0.51      6736\n",
            "   macro avg       0.51      0.55      0.49      6736\n",
            "weighted avg       0.60      0.51      0.52      6736\n",
            "\n"
          ]
        }
      ]
    },
    {
      "cell_type": "markdown",
      "id": "80cb4f23-091a-4b32-8764-b9b3e13f3772",
      "metadata": {
        "id": "80cb4f23-091a-4b32-8764-b9b3e13f3772"
      },
      "source": [
        "# Training BERT-model"
      ]
    },
    {
      "cell_type": "code",
      "execution_count": null,
      "id": "2NN9HedwyG38",
      "metadata": {
        "id": "2NN9HedwyG38"
      },
      "outputs": [],
      "source": [
        "# Transforming data to type \"datasets.arrow_dataset.Dataset\"\n",
        "\n",
        "training_data = df.loc[train_ind]\n",
        "validation_data = df.loc[valid_ind]\n",
        "test_data = df.loc[test_ind]\n",
        "\n",
        "# Bert models wants labels from 0 to 4 instead of 1 to 5\n",
        "training_data[\"score\"] += -1\n",
        "validation_data[\"score\"] += -1\n",
        "test_data[\"score\"] += -1\n",
        "\n",
        "\n",
        "training_data = dict({\"text\" : training_data[\"content\"],\n",
        "                     \"label\" : training_data[\"score\"]\n",
        "})\n",
        "\n",
        "validation_data = dict({\"text\" : validation_data[\"content\"],\n",
        "                        \"label\" : validation_data[\"score\"]\n",
        "})\n",
        "test_data = dict({\"text\" : test_data[\"content\"],\n",
        "                  \"label\" : test_data[\"score\"]\n",
        "})\n",
        "\n",
        "\n",
        "training_data = Dataset.from_dict(training_data)\n",
        "validation_data = Dataset.from_dict(validation_data)\n",
        "test_data = Dataset.from_dict(test_data)"
      ]
    },
    {
      "cell_type": "code",
      "execution_count": null,
      "id": "a2ee1131-a860-4bf0-bee3-911f1ebb3826",
      "metadata": {
        "id": "a2ee1131-a860-4bf0-bee3-911f1ebb3826"
      },
      "outputs": [],
      "source": [
        "# Do not delete\n",
        "# Wand\n",
        "# f2bca7abf33eb282605b44f81908a815b2ecda8e"
      ]
    },
    {
      "cell_type": "code",
      "execution_count": null,
      "id": "059cb525-f84c-4f68-aada-7a4457e7ecb0",
      "metadata": {
        "colab": {
          "base_uri": "https://localhost:8080/",
          "height": 241,
          "referenced_widgets": [
            "d41b29bd2ede412cb0ffc8004f7c9a0b",
            "eced50a152f149609d3e11f54f5e36b0",
            "a4764b702bc44453830336aa2f7115df",
            "a71086641b8f497cb8030f0034901d4d",
            "2858aef696cd447abfaab560e1447f90",
            "f8ba0d79cfcf4c6a8e2e45c3f9413f20",
            "d0200352810a4ce7af60e5cc597f46dc",
            "e8507113ed144894ae70a64584f002b8",
            "be16d52b2fe24e019d85563e7e26ce97",
            "6aab8c01864043efaced7d9a9fc43a32",
            "03770498497c44bc890fa5abd04f67eb",
            "0d0bbcbac00046079b41d70ed63ff74e",
            "7a96e17e08d14405863b35cd6a3956ca",
            "61ce16ca4ba14a44bb7358467c8bdd33",
            "1c796a2314f0479e81e16852659c88b6",
            "5aa00ccf62414a87b475b647555c8b8a",
            "95f9bc8a25ca48959cef5df68e5a438e",
            "0f5cfa81aa1f40a3b4c304d7d4224048",
            "66526b37cfad477ea0836396721fa9d1",
            "52ce5ae5ee5d48a1946a5543f8041523",
            "2258294bd1364454a1bca72b7cfecf72",
            "71c77f7a79ff4064bc69d7f84314a6e0",
            "2288f9e593284c349399b1a26a3e7564",
            "1970e14875984d3699c20a92b17edb90",
            "1b8a1e241b4246cc90458eabebd8c93c",
            "cf6d4910162e487e8de7a485c8ee5353",
            "0718d236a7f340e4a539a5280b795f30",
            "529c361082924d24a9e569b97d4767e3",
            "51e09c3afc5b4b439c83dd9b6e11beea",
            "5f989d515b104bbe9edc713e9efa1900",
            "482edd43be844455b8fae9a49139bb8a",
            "1f6f4da42ecf46daa2f71b874bcbb57e",
            "7bab4116baf84d369419d59bcbc0497e",
            "c7b4c0c379a44aed8dc88efd98fe3881",
            "692f81ada748461da55e871e6ac869ec",
            "f831d5b2973d4155aec5d8b7bb2b3fac",
            "301874a81e484861a397d608bc97ed1a",
            "226b3345b1ac432fabff9596a3d26e69",
            "0e4f43747a5f41c1941d76ba1afb2dbc",
            "f01592f743b94099b6f8bbd31e980629",
            "4041ed82f20d458abf30aee196a954b6",
            "2a94869d4188439ea558f0faa89faf45",
            "91f43168d4ed45acb70068857983a0e0",
            "2ea1bce1d8584dcb91185af23ba3cc2f",
            "bc79ba56d2fd4419899d005538de264e",
            "990f1253287d482e9cc965f6f3e60fec",
            "d89e218a740b4bb4b9f6a76e662414f3",
            "f8a62e25ce8b4a7a947da1cd2dd19959",
            "ccf30a47027848b6be3edc731740c87e",
            "f98e8f4915d04d1fab3004d232e25a31",
            "7143685a8aeb4b3eb1d1635883da6b83",
            "916f4f639dc448508fa1244f54f703f5",
            "76052b616b2b4f688f71ebd6fb873120",
            "f1d8c77ca43f4c88b115fe95f184fb43",
            "9326295e25ce45b0892d027d5b56da8e",
            "7fba2fbcf77b413482c711be7cbfb1f0",
            "00ba7e31b96d403ebf002ad3b5bc7e6f",
            "953205f378074fa9b6beafc358eaf70c",
            "8ad9e30ba5204d43a38accf0b77a2c39",
            "21a73ca70702437c892cbd3999ed7991",
            "55eb95e8c6fc4f4497238e320d7d0a7d",
            "02b93b0d9d5c47f3a3a6f0c35426f3cb",
            "0230ebfbb2334f9a97620faec5fba75a",
            "1d6b5cd88f7340f99090ed21d635e6fd",
            "ccb69610ecc44b92b1bf48c42dab0ca7",
            "1a21ae51df3a4194bb159ebf306f39b4",
            "2aba7f399ebd4b27b4564d19c3d87610",
            "fd7dbd8e13644a0d9086ece25d4b370d",
            "c61cac6cabfe4991ad139ad3c47f6934",
            "596e8974283d4571ab0d345459b81465",
            "32a353dd7a944bc48883686d4efe0a61",
            "7d1465232cd94da0935122178f1c010e",
            "ed98a49856e341f39c06e1a438142bf5",
            "5b7052ebbffe427285119a8860217378",
            "9829519cef3f4150967e25022570d786",
            "bdb839c96b5d41239314ce130c1eccae",
            "63b0b03638c74195a2159c9285694242"
          ]
        },
        "id": "059cb525-f84c-4f68-aada-7a4457e7ecb0",
        "outputId": "ed1b9977-70c8-4952-aab4-db34313f3286"
      },
      "outputs": [
        {
          "output_type": "display_data",
          "data": {
            "text/plain": [
              "tokenizer_config.json:   0%|          | 0.00/48.0 [00:00<?, ?B/s]"
            ],
            "application/vnd.jupyter.widget-view+json": {
              "version_major": 2,
              "version_minor": 0,
              "model_id": "d41b29bd2ede412cb0ffc8004f7c9a0b"
            }
          },
          "metadata": {}
        },
        {
          "output_type": "display_data",
          "data": {
            "text/plain": [
              "config.json:   0%|          | 0.00/483 [00:00<?, ?B/s]"
            ],
            "application/vnd.jupyter.widget-view+json": {
              "version_major": 2,
              "version_minor": 0,
              "model_id": "0d0bbcbac00046079b41d70ed63ff74e"
            }
          },
          "metadata": {}
        },
        {
          "output_type": "display_data",
          "data": {
            "text/plain": [
              "vocab.txt:   0%|          | 0.00/232k [00:00<?, ?B/s]"
            ],
            "application/vnd.jupyter.widget-view+json": {
              "version_major": 2,
              "version_minor": 0,
              "model_id": "2288f9e593284c349399b1a26a3e7564"
            }
          },
          "metadata": {}
        },
        {
          "output_type": "display_data",
          "data": {
            "text/plain": [
              "tokenizer.json:   0%|          | 0.00/466k [00:00<?, ?B/s]"
            ],
            "application/vnd.jupyter.widget-view+json": {
              "version_major": 2,
              "version_minor": 0,
              "model_id": "c7b4c0c379a44aed8dc88efd98fe3881"
            }
          },
          "metadata": {}
        },
        {
          "output_type": "display_data",
          "data": {
            "text/plain": [
              "Map:   0%|          | 0/40000 [00:00<?, ? examples/s]"
            ],
            "application/vnd.jupyter.widget-view+json": {
              "version_major": 2,
              "version_minor": 0,
              "model_id": "bc79ba56d2fd4419899d005538de264e"
            }
          },
          "metadata": {}
        },
        {
          "output_type": "display_data",
          "data": {
            "text/plain": [
              "Map:   0%|          | 0/8000 [00:00<?, ? examples/s]"
            ],
            "application/vnd.jupyter.widget-view+json": {
              "version_major": 2,
              "version_minor": 0,
              "model_id": "7fba2fbcf77b413482c711be7cbfb1f0"
            }
          },
          "metadata": {}
        },
        {
          "output_type": "display_data",
          "data": {
            "text/plain": [
              "Map:   0%|          | 0/58465 [00:00<?, ? examples/s]"
            ],
            "application/vnd.jupyter.widget-view+json": {
              "version_major": 2,
              "version_minor": 0,
              "model_id": "2aba7f399ebd4b27b4564d19c3d87610"
            }
          },
          "metadata": {}
        }
      ],
      "source": [
        "from transformers import AutoTokenizer\n",
        "tokenizer = AutoTokenizer.from_pretrained(\"distilbert-base-uncased\")\n",
        "\n",
        "def preprocess_function(examples):\n",
        "   return tokenizer(examples[\"text\"], truncation=True)\n",
        "\n",
        "tokenized_train = training_data.map(preprocess_function)\n",
        "tokenized_valid = validation_data.map(preprocess_function)\n",
        "tokenized_test = test_data.map(preprocess_function)\n",
        "\n",
        "\n"
      ]
    },
    {
      "cell_type": "code",
      "execution_count": null,
      "id": "3303b50d-a27b-4206-b5b5-c6e01a43ddcb",
      "metadata": {
        "colab": {
          "base_uri": "https://localhost:8080/",
          "height": 105,
          "referenced_widgets": [
            "c5e9f52524e741cb995953c00a8b461c",
            "b4a3a5b9f64b4bbb9e19e092ab113430",
            "dbbb950dede242c387fc7b8fe1d65efa",
            "3d604516a49c40b3814df9472d4b3a48",
            "a956b0ae2b324490ab2f7334b59c6617",
            "bdd29d34865e436d92f3a2db3db5c38f",
            "47b05e2e58354049814d35b82c2cd3fb",
            "a0f976b9ebd143408e50e20d352adf48",
            "cd2a784521b547e9abec43765fb49cd6",
            "2bfc2575e3c9446896a19e7f22055003",
            "db2efc99b92048809ac4cd2cb3d00b9c"
          ]
        },
        "id": "3303b50d-a27b-4206-b5b5-c6e01a43ddcb",
        "outputId": "3be54f81-f410-4a78-b243-db39cb2aa478"
      },
      "outputs": [
        {
          "output_type": "display_data",
          "data": {
            "text/plain": [
              "model.safetensors:   0%|          | 0.00/268M [00:00<?, ?B/s]"
            ],
            "application/vnd.jupyter.widget-view+json": {
              "version_major": 2,
              "version_minor": 0,
              "model_id": "c5e9f52524e741cb995953c00a8b461c"
            }
          },
          "metadata": {}
        },
        {
          "output_type": "stream",
          "name": "stderr",
          "text": [
            "Some weights of DistilBertForSequenceClassification were not initialized from the model checkpoint at distilbert-base-uncased and are newly initialized: ['classifier.bias', 'classifier.weight', 'pre_classifier.bias', 'pre_classifier.weight']\n",
            "You should probably TRAIN this model on a down-stream task to be able to use it for predictions and inference.\n"
          ]
        }
      ],
      "source": [
        "from transformers import AutoModelForSequenceClassification\n",
        "model = AutoModelForSequenceClassification.from_pretrained(\"distilbert-base-uncased\", num_labels=5)"
      ]
    },
    {
      "cell_type": "code",
      "execution_count": null,
      "id": "9241cdc4-17cf-4570-9a90-909c18ad6087",
      "metadata": {
        "colab": {
          "base_uri": "https://localhost:8080/"
        },
        "id": "9241cdc4-17cf-4570-9a90-909c18ad6087",
        "outputId": "c64698e6-32a2-4724-ad44-78553355d5c0"
      },
      "outputs": [
        {
          "output_type": "stream",
          "name": "stderr",
          "text": [
            "/usr/local/lib/python3.10/dist-packages/transformers/training_args.py:1568: FutureWarning: `evaluation_strategy` is deprecated and will be removed in version 4.46 of 🤗 Transformers. Use `eval_strategy` instead\n",
            "  warnings.warn(\n",
            "<ipython-input-17-ac9d66744f1e>:32: FutureWarning: `tokenizer` is deprecated and will be removed in version 5.0.0 for `Trainer.__init__`. Use `processing_class` instead.\n",
            "  trainer = Trainer(\n"
          ]
        }
      ],
      "source": [
        "from transformers import TrainingArguments, Trainer\n",
        "import evaluate\n",
        "\n",
        "# After training the model for 15 epochs and saving it, it would not work the day after with the following error:\n",
        "# \"safetensorerror: error while deserializing header: metadataincompletebuffer\"\n",
        "# For 7 epochs it was 0.825857\n",
        "# For 8 epochs it was 0.831637\n",
        "# For 15 epochs the F1-score was 0.850791.\n",
        "\n",
        "# I had to retrain the model and with limited GPU time I set on 5 epochs (score was 0.795528)\n",
        "\n",
        "\n",
        "def compute_metrics(eval_pred):\n",
        "   load_accuracy = evaluate.load(\"accuracy\")\n",
        "   load_f1 = evaluate.load(\"f1\")\n",
        "\n",
        "   logits, labels = eval_pred\n",
        "   predictions = np.argmax(logits, axis=-1)\n",
        "   accuracy = load_accuracy.compute(predictions=predictions, references=labels)[\"accuracy\"]\n",
        "   f1 = load_f1.compute(predictions=predictions, references=labels, average = \"macro\")[\"f1\"]\n",
        "   return {\"accuracy\": accuracy, \"f1\": f1}\n",
        "\n",
        "training_args = TrainingArguments(\n",
        "    output_dir='./results',\n",
        "    evaluation_strategy=\"epoch\",\n",
        "    learning_rate=2e-5,\n",
        "    per_device_train_batch_size=100,\n",
        "    per_device_eval_batch_size=100,\n",
        "    num_train_epochs=5,\n",
        "    weight_decay=0.01,\n",
        ")\n",
        "\n",
        "\n",
        "trainer = Trainer(\n",
        "   model=model,\n",
        "   args=training_args,\n",
        "   train_dataset=tokenized_train,\n",
        "   eval_dataset=tokenized_valid,\n",
        "   tokenizer=tokenizer,\n",
        "   compute_metrics=compute_metrics,\n",
        ")\n",
        "# Wand\n",
        "# f2bca7abf33eb282605b44f81908a815b2ecda8e"
      ]
    },
    {
      "cell_type": "code",
      "execution_count": null,
      "id": "e2f42ccb-a6eb-4b47-b800-4088e13468e1",
      "metadata": {
        "colab": {
          "base_uri": "https://localhost:8080/",
          "height": 531,
          "referenced_widgets": [
            "05af96cdd3004394bf7163bb03151c6a",
            "5b8c04a97ca94453adb1c1bc529b72a0",
            "dee3ff27f74b4a859c7c6d3500eccebb",
            "fc711401951e42e2b393086d69709dad",
            "346a47634ae745fea94a6f166d6aee4e",
            "97b9703210154a18bdfdcf1260f5bedf",
            "76c8d9b12b0145c88407cdc6fd12500a",
            "bcb83b8321db4b36a4c1a6f87eb71300",
            "9e90a38f9d234f17877fa39355061384",
            "0db01ca6c62742dea00ca5afd9bc31a3",
            "9bc02e490fa141548a1aa3db0ed89b9a",
            "85a1ae2d87ff401f88d0d8cd92c2ea96",
            "ec0aa73f35b046d4a7ae0d3247d1a549",
            "d4e626e151f643bebcb7eac6469d89d6",
            "95dfe9b7b862473e8c67e3655f19afb1",
            "7c7463e571804984a758372970585b66",
            "985fc41b7b5e448ebc37c4dbc430a3de",
            "fcc702161cce401aba8d39e0bd377dc0",
            "32e2d6fa047c4fb088b6dff53ecf3b00",
            "1e341a171d744c3c8a086eea9a5969a8",
            "4b26793a0b064cbcb8bd59d4f38c86df",
            "ec23919e0a984a25a5fa69c76fab3004"
          ]
        },
        "id": "e2f42ccb-a6eb-4b47-b800-4088e13468e1",
        "outputId": "167eaa90-48fa-4557-fba3-dcabad7f83ea"
      },
      "outputs": [
        {
          "output_type": "stream",
          "name": "stderr",
          "text": [
            "\u001b[34m\u001b[1mwandb\u001b[0m: \u001b[33mWARNING\u001b[0m The `run_name` is currently set to the same value as `TrainingArguments.output_dir`. If this was not intended, please specify a different run name by setting the `TrainingArguments.run_name` parameter.\n",
            "\u001b[34m\u001b[1mwandb\u001b[0m: Using wandb-core as the SDK backend.  Please refer to https://wandb.me/wandb-core for more information.\n"
          ]
        },
        {
          "output_type": "display_data",
          "data": {
            "text/plain": [
              "<IPython.core.display.Javascript object>"
            ],
            "application/javascript": [
              "\n",
              "        window._wandbApiKey = new Promise((resolve, reject) => {\n",
              "            function loadScript(url) {\n",
              "            return new Promise(function(resolve, reject) {\n",
              "                let newScript = document.createElement(\"script\");\n",
              "                newScript.onerror = reject;\n",
              "                newScript.onload = resolve;\n",
              "                document.body.appendChild(newScript);\n",
              "                newScript.src = url;\n",
              "            });\n",
              "            }\n",
              "            loadScript(\"https://cdn.jsdelivr.net/npm/postmate/build/postmate.min.js\").then(() => {\n",
              "            const iframe = document.createElement('iframe')\n",
              "            iframe.style.cssText = \"width:0;height:0;border:none\"\n",
              "            document.body.appendChild(iframe)\n",
              "            const handshake = new Postmate({\n",
              "                container: iframe,\n",
              "                url: 'https://wandb.ai/authorize'\n",
              "            });\n",
              "            const timeout = setTimeout(() => reject(\"Couldn't auto authenticate\"), 5000)\n",
              "            handshake.then(function(child) {\n",
              "                child.on('authorize', data => {\n",
              "                    clearTimeout(timeout)\n",
              "                    resolve(data)\n",
              "                });\n",
              "            });\n",
              "            })\n",
              "        });\n",
              "    "
            ]
          },
          "metadata": {}
        },
        {
          "output_type": "stream",
          "name": "stderr",
          "text": [
            "\u001b[34m\u001b[1mwandb\u001b[0m: Appending key for api.wandb.ai to your netrc file: /root/.netrc\n"
          ]
        },
        {
          "output_type": "display_data",
          "data": {
            "text/plain": [
              "<IPython.core.display.HTML object>"
            ],
            "text/html": [
              "Tracking run with wandb version 0.18.7"
            ]
          },
          "metadata": {}
        },
        {
          "output_type": "display_data",
          "data": {
            "text/plain": [
              "<IPython.core.display.HTML object>"
            ],
            "text/html": [
              "Run data is saved locally in <code>/content/wandb/run-20241212_170301-2p1s8hd3</code>"
            ]
          },
          "metadata": {}
        },
        {
          "output_type": "display_data",
          "data": {
            "text/plain": [
              "<IPython.core.display.HTML object>"
            ],
            "text/html": [
              "Syncing run <strong><a href='https://wandb.ai/ductran91-link-ping-university/huggingface/runs/2p1s8hd3' target=\"_blank\">./results</a></strong> to <a href='https://wandb.ai/ductran91-link-ping-university/huggingface' target=\"_blank\">Weights & Biases</a> (<a href='https://wandb.me/developer-guide' target=\"_blank\">docs</a>)<br/>"
            ]
          },
          "metadata": {}
        },
        {
          "output_type": "display_data",
          "data": {
            "text/plain": [
              "<IPython.core.display.HTML object>"
            ],
            "text/html": [
              " View project at <a href='https://wandb.ai/ductran91-link-ping-university/huggingface' target=\"_blank\">https://wandb.ai/ductran91-link-ping-university/huggingface</a>"
            ]
          },
          "metadata": {}
        },
        {
          "output_type": "display_data",
          "data": {
            "text/plain": [
              "<IPython.core.display.HTML object>"
            ],
            "text/html": [
              " View run at <a href='https://wandb.ai/ductran91-link-ping-university/huggingface/runs/2p1s8hd3' target=\"_blank\">https://wandb.ai/ductran91-link-ping-university/huggingface/runs/2p1s8hd3</a>"
            ]
          },
          "metadata": {}
        },
        {
          "output_type": "display_data",
          "data": {
            "text/plain": [
              "<IPython.core.display.HTML object>"
            ],
            "text/html": [
              "\n",
              "    <div>\n",
              "      \n",
              "      <progress value='2000' max='2000' style='width:300px; height:20px; vertical-align: middle;'></progress>\n",
              "      [2000/2000 37:26, Epoch 5/5]\n",
              "    </div>\n",
              "    <table border=\"1\" class=\"dataframe\">\n",
              "  <thead>\n",
              " <tr style=\"text-align: left;\">\n",
              "      <th>Epoch</th>\n",
              "      <th>Training Loss</th>\n",
              "      <th>Validation Loss</th>\n",
              "      <th>Accuracy</th>\n",
              "      <th>F1</th>\n",
              "    </tr>\n",
              "  </thead>\n",
              "  <tbody>\n",
              "    <tr>\n",
              "      <td>1</td>\n",
              "      <td>No log</td>\n",
              "      <td>1.036057</td>\n",
              "      <td>0.563625</td>\n",
              "      <td>0.564438</td>\n",
              "    </tr>\n",
              "    <tr>\n",
              "      <td>2</td>\n",
              "      <td>1.147500</td>\n",
              "      <td>0.918286</td>\n",
              "      <td>0.635125</td>\n",
              "      <td>0.629189</td>\n",
              "    </tr>\n",
              "    <tr>\n",
              "      <td>3</td>\n",
              "      <td>0.904300</td>\n",
              "      <td>0.824088</td>\n",
              "      <td>0.698750</td>\n",
              "      <td>0.696768</td>\n",
              "    </tr>\n",
              "    <tr>\n",
              "      <td>4</td>\n",
              "      <td>0.733400</td>\n",
              "      <td>0.775860</td>\n",
              "      <td>0.729250</td>\n",
              "      <td>0.728809</td>\n",
              "    </tr>\n",
              "    <tr>\n",
              "      <td>5</td>\n",
              "      <td>0.635000</td>\n",
              "      <td>0.761170</td>\n",
              "      <td>0.743500</td>\n",
              "      <td>0.742904</td>\n",
              "    </tr>\n",
              "  </tbody>\n",
              "</table><p>"
            ]
          },
          "metadata": {}
        },
        {
          "output_type": "display_data",
          "data": {
            "text/plain": [
              "Downloading builder script:   0%|          | 0.00/4.20k [00:00<?, ?B/s]"
            ],
            "application/vnd.jupyter.widget-view+json": {
              "version_major": 2,
              "version_minor": 0,
              "model_id": "05af96cdd3004394bf7163bb03151c6a"
            }
          },
          "metadata": {}
        },
        {
          "output_type": "display_data",
          "data": {
            "text/plain": [
              "Downloading builder script:   0%|          | 0.00/6.77k [00:00<?, ?B/s]"
            ],
            "application/vnd.jupyter.widget-view+json": {
              "version_major": 2,
              "version_minor": 0,
              "model_id": "85a1ae2d87ff401f88d0d8cd92c2ea96"
            }
          },
          "metadata": {}
        },
        {
          "output_type": "execute_result",
          "data": {
            "text/plain": [
              "TrainOutput(global_step=2000, training_loss=0.855047119140625, metrics={'train_runtime': 2257.062, 'train_samples_per_second': 88.611, 'train_steps_per_second': 0.886, 'total_flos': 6867456642660000.0, 'train_loss': 0.855047119140625, 'epoch': 5.0})"
            ]
          },
          "metadata": {},
          "execution_count": 18
        }
      ],
      "source": [
        "trainer.train()"
      ]
    },
    {
      "cell_type": "code",
      "execution_count": null,
      "id": "KUbFu2shKNh_",
      "metadata": {
        "id": "KUbFu2shKNh_"
      },
      "outputs": [],
      "source": [
        "trainer.save_model(\"./trained_model\")"
      ]
    },
    {
      "cell_type": "code",
      "execution_count": null,
      "id": "rQnD505jaN5J",
      "metadata": {
        "colab": {
          "base_uri": "https://localhost:8080/"
        },
        "id": "rQnD505jaN5J",
        "outputId": "ccf3aebb-0510-4720-9cde-dc72635dd064"
      },
      "outputs": [
        {
          "output_type": "stream",
          "name": "stdout",
          "text": [
            "  adding: content/trained_model/ (stored 0%)\n",
            "  adding: content/trained_model/vocab.txt (deflated 53%)\n",
            "  adding: content/trained_model/special_tokens_map.json (deflated 42%)\n",
            "  adding: content/trained_model/config.json (deflated 51%)\n",
            "  adding: content/trained_model/tokenizer_config.json (deflated 76%)\n",
            "  adding: content/trained_model/tokenizer.json (deflated 71%)\n",
            "  adding: content/trained_model/model.safetensors (deflated 8%)\n",
            "  adding: content/trained_model/training_args.bin (deflated 51%)\n"
          ]
        }
      ],
      "source": [
        "# Save results to zip\n",
        "!zip -r /content/file.zip /content/trained_model\n",
        "# Look in files to the left to download manually\n"
      ]
    },
    {
      "cell_type": "markdown",
      "id": "qdnhjthf1g6C",
      "metadata": {
        "id": "qdnhjthf1g6C"
      },
      "source": [
        "# Loading pretrained Bert model (not used anymore)"
      ]
    },
    {
      "cell_type": "code",
      "execution_count": null,
      "id": "SU9BvWYZL64f",
      "metadata": {
        "colab": {
          "base_uri": "https://localhost:8080/"
        },
        "id": "SU9BvWYZL64f",
        "outputId": "8babf257-a4d7-4da7-df58-4d4cc03b68cc"
      },
      "outputs": [
        {
          "output_type": "stream",
          "name": "stderr",
          "text": [
            "Hardware accelerator e.g. GPU is available in the environment, but no `device` argument is passed to the `Pipeline` object. Model will be on CPU.\n"
          ]
        }
      ],
      "source": [
        "# Load pretrained model\n",
        "from transformers import AutoModelForSequenceClassification, AutoTokenizer, TextClassificationPipeline\n",
        "model2 = AutoModelForSequenceClassification.from_pretrained(\"./trained_model\")\n",
        "tokenizer = AutoTokenizer.from_pretrained(\"./trained_model\")\n",
        "pipe = TextClassificationPipeline(model=model2, tokenizer=tokenizer)\n",
        "\n",
        "# Need to run code that process data + tokenization"
      ]
    },
    {
      "cell_type": "markdown",
      "id": "81c4174f-39bf-4690-9c3c-61ae7890ecf6",
      "metadata": {
        "id": "81c4174f-39bf-4690-9c3c-61ae7890ecf6"
      },
      "source": [
        "# Predicting with BERT model on test data"
      ]
    },
    {
      "cell_type": "code",
      "source": [
        "# Splitting data per app\n",
        "test_facebook = test_data[test_data[\"appName\"] == \"Facebook\"]\n",
        "test_facebook_mess = test_data[test_data[\"appName\"] == \"Facebook Messenger\"]\n",
        "test_google = test_data[test_data[\"appName\"] == \"Google Maps\"]\n",
        "test_instagram = test_data[test_data[\"appName\"] == \"Instagram\"]\n",
        "test_reddit = test_data[test_data[\"appName\"] == \"Reddit\"]\n",
        "test_tiktok = test_data[test_data[\"appName\"] == \"TikTok\"]\n",
        "test_twitter = test_data[test_data[\"appName\"] == \"Twitter\"]\n",
        "test_whatsapp = test_data[test_data[\"appName\"] == \"WhatsApp\"]"
      ],
      "metadata": {
        "id": "GOoqGYBpBf6K"
      },
      "id": "GOoqGYBpBf6K",
      "execution_count": null,
      "outputs": []
    },
    {
      "cell_type": "code",
      "source": [
        "# Predict result to original labels\n",
        "dict_val = {\n",
        "    \"LABEL_0\" : 1,\n",
        "    \"LABEL_1\" : 2,\n",
        "    \"LABEL_2\" : 3,\n",
        "    \"LABEL_3\" : 4,\n",
        "    \"LABEL_4\" : 5\n",
        "}\n",
        "from tqdm import tqdm\n",
        "\n",
        "def pred(data):\n",
        "  res = list()\n",
        "  for row in tqdm(data):\n",
        "    pred_val = pipe(row)\n",
        "    res.append(dict_val[pred_val[0][\"label\"]])\n",
        "  return res\n",
        "\n",
        "\n"
      ],
      "metadata": {
        "id": "ChWEPeQwBt0s"
      },
      "id": "ChWEPeQwBt0s",
      "execution_count": null,
      "outputs": []
    },
    {
      "cell_type": "code",
      "source": [
        "pred_facebook = pred(list(test_facebook[\"content\"]))"
      ],
      "metadata": {
        "id": "PSruckj4BvPy",
        "colab": {
          "base_uri": "https://localhost:8080/"
        },
        "outputId": "f54e2946-7cbf-49ab-d15a-554e13c3e689"
      },
      "id": "PSruckj4BvPy",
      "execution_count": null,
      "outputs": [
        {
          "output_type": "stream",
          "name": "stderr",
          "text": [
            "100%|██████████| 5940/5940 [14:31<00:00,  6.82it/s]\n"
          ]
        }
      ]
    },
    {
      "cell_type": "code",
      "source": [
        "from sklearn.metrics import confusion_matrix, f1_score\n",
        "confusion_matrix(test_facebook[\"score\"], pred_facebook)"
      ],
      "metadata": {
        "id": "lv3w_Ke-12rq",
        "colab": {
          "base_uri": "https://localhost:8080/"
        },
        "outputId": "3aee707b-ae2f-4169-8355-b87d3af80353"
      },
      "id": "lv3w_Ke-12rq",
      "execution_count": null,
      "outputs": [
        {
          "output_type": "execute_result",
          "data": {
            "text/plain": [
              "array([[1219,  123,   29,    4,   12],\n",
              "       [ 244, 1212,  263,   50,   16],\n",
              "       [  34,  123,  752,   57,   23],\n",
              "       [  12,   47,  119,  833,  177],\n",
              "       [   2,    7,    1,   12,  569]])"
            ]
          },
          "metadata": {},
          "execution_count": 88
        }
      ]
    },
    {
      "cell_type": "code",
      "source": [
        "print(confusion_matrix(test_facebook[\"score\"], pred_facebook, normalize=\"true\"))\n",
        "print(\"F1-score per class:\", f1_score(test_facebook[\"score\"], pred_facebook, average=None))\n",
        "print(\"Facebook Macro F1-score:\", f1_score(test_facebook[\"score\"], pred_facebook, average=\"macro\"))"
      ],
      "metadata": {
        "id": "SElb2n7Q2G3Z",
        "colab": {
          "base_uri": "https://localhost:8080/"
        },
        "outputId": "f2553cc7-ff3e-4f34-9fe6-28f5ed66426b"
      },
      "id": "SElb2n7Q2G3Z",
      "execution_count": null,
      "outputs": [
        {
          "output_type": "stream",
          "name": "stdout",
          "text": [
            "[[0.87887527 0.08868061 0.02090844 0.00288392 0.00865177]\n",
            " [0.13669468 0.6789916  0.14733894 0.0280112  0.00896359]\n",
            " [0.03437816 0.12436805 0.760364   0.05763397 0.02325581]\n",
            " [0.01010101 0.03956229 0.10016835 0.70117845 0.1489899 ]\n",
            " [0.00338409 0.01184433 0.00169205 0.02030457 0.96277496]]\n",
            "F1-score per class: [0.84126984 0.73521383 0.69856015 0.77705224 0.81988473]\n",
            "Facebook Macro F1-score: 0.7743961571371293\n"
          ]
        }
      ]
    },
    {
      "cell_type": "code",
      "source": [
        "pred_facebook_mess = pred(list(test_facebook_mess[\"content\"]))\n",
        "confusion_matrix(test_facebook_mess[\"score\"], pred_facebook_mess)"
      ],
      "metadata": {
        "id": "Rv9_W-u-8JW3",
        "colab": {
          "base_uri": "https://localhost:8080/"
        },
        "outputId": "32d91ca4-5578-46c9-fef9-4118018bdf5a"
      },
      "id": "Rv9_W-u-8JW3",
      "execution_count": null,
      "outputs": [
        {
          "output_type": "stream",
          "name": "stderr",
          "text": [
            "100%|██████████| 8726/8726 [20:15<00:00,  7.18it/s]\n"
          ]
        },
        {
          "output_type": "execute_result",
          "data": {
            "text/plain": [
              "array([[2182,  460,  110,   19,    9],\n",
              "       [   8,  179,    5,    1,    0],\n",
              "       [ 109,  375, 1592,  424,   81],\n",
              "       [  57,   84,  334, 1467,  241],\n",
              "       [   8,    8,   32,  110,  831]])"
            ]
          },
          "metadata": {},
          "execution_count": 70
        }
      ]
    },
    {
      "cell_type": "code",
      "source": [
        "print(confusion_matrix(test_facebook_mess[\"score\"], pred_facebook_mess, normalize=\"true\"))\n",
        "print(\"F1-score per class:\", f1_score(test_facebook_mess[\"score\"], pred_facebook_mess, average=None))\n",
        "print(\"Facebook messenger Macro F1-score:\", f1_score(test_facebook_mess[\"score\"], pred_facebook_mess, average=\"macro\"))"
      ],
      "metadata": {
        "id": "zOFUMR908MKY",
        "colab": {
          "base_uri": "https://localhost:8080/"
        },
        "outputId": "8971bb72-a845-42a9-91bf-848a8266bc89"
      },
      "id": "zOFUMR908MKY",
      "execution_count": null,
      "outputs": [
        {
          "output_type": "stream",
          "name": "stdout",
          "text": [
            "[[0.78489209 0.16546763 0.03956835 0.00683453 0.00323741]\n",
            " [0.04145078 0.92746114 0.02590674 0.00518135 0.        ]\n",
            " [0.04223169 0.14529252 0.61681519 0.16427741 0.03138318]\n",
            " [0.02611086 0.03847916 0.15300046 0.67201099 0.11039853]\n",
            " [0.00808898 0.00808898 0.03235592 0.11122346 0.84024267]]\n",
            "F1-score per class: [0.84836703 0.27559661 0.68414267 0.69790676 0.77266388]\n",
            "Facebook messenger Macro F1-score: 0.6557353896069812\n"
          ]
        }
      ]
    },
    {
      "cell_type": "code",
      "source": [
        "pred_google = pred(list(test_google[\"content\"]))\n",
        "confusion_matrix(test_google[\"score\"], pred_google)"
      ],
      "metadata": {
        "id": "zUX3DEi08E-G",
        "colab": {
          "base_uri": "https://localhost:8080/"
        },
        "outputId": "28564600-2295-4bb9-a7ba-496849b7dcef"
      },
      "id": "zUX3DEi08E-G",
      "execution_count": null,
      "outputs": [
        {
          "output_type": "stream",
          "name": "stderr",
          "text": [
            "100%|██████████| 6935/6935 [16:17<00:00,  7.10it/s]\n"
          ]
        },
        {
          "output_type": "execute_result",
          "data": {
            "text/plain": [
              "array([[1411,  279,   78,   13,    4],\n",
              "       [ 232, 1166,  152,   27,    9],\n",
              "       [  34,  114,  778,   57,    6],\n",
              "       [  13,   35,  118,  915,  107],\n",
              "       [  11,   16,   18,  112, 1230]])"
            ]
          },
          "metadata": {},
          "execution_count": 73
        }
      ]
    },
    {
      "cell_type": "code",
      "source": [
        "print(confusion_matrix(test_google[\"score\"], pred_google, normalize=\"true\"))\n",
        "print(\"F1-score per class:\", f1_score(test_google[\"score\"], pred_google, average=None))\n",
        "print(\"Google Macro F1-score:\", f1_score(test_google[\"score\"], pred_google, average=\"macro\"))"
      ],
      "metadata": {
        "id": "WMtdgvtp8YUP",
        "colab": {
          "base_uri": "https://localhost:8080/"
        },
        "outputId": "08a96763-3884-43de-e3dc-e478f67054b3"
      },
      "id": "WMtdgvtp8YUP",
      "execution_count": null,
      "outputs": [
        {
          "output_type": "stream",
          "name": "stdout",
          "text": [
            "[[0.79047619 0.15630252 0.04369748 0.00728291 0.0022409 ]\n",
            " [0.14627995 0.73518285 0.09583859 0.01702396 0.00567465]\n",
            " [0.03437816 0.11526795 0.78665319 0.05763397 0.00606673]\n",
            " [0.01094276 0.02946128 0.0993266  0.77020202 0.09006734]\n",
            " [0.00793079 0.01153569 0.01297765 0.08074982 0.88680606]]\n",
            "F1-score per class: [0.80952381 0.72966208 0.72948898 0.79152249 0.89682829]\n",
            "Google Macro F1-score: 0.7914051302634091\n"
          ]
        }
      ]
    },
    {
      "cell_type": "code",
      "source": [
        "pred_instagram = pred(list(test_instagram[\"content\"]))\n",
        "confusion_matrix(test_instagram[\"score\"], pred_instagram)"
      ],
      "metadata": {
        "id": "9N2Z9fqW8b3n",
        "colab": {
          "base_uri": "https://localhost:8080/"
        },
        "outputId": "1d93c5b8-b337-4a94-a171-bb57c458d12d"
      },
      "id": "9N2Z9fqW8b3n",
      "execution_count": null,
      "outputs": [
        {
          "output_type": "stream",
          "name": "stderr",
          "text": [
            "100%|██████████| 7930/7930 [16:50<00:00,  7.85it/s]\n"
          ]
        },
        {
          "output_type": "execute_result",
          "data": {
            "text/plain": [
              "array([[1123,  194,   59,    8,    3],\n",
              "       [ 168, 1038,  145,   28,    8],\n",
              "       [  16,   51,  490,   30,    4],\n",
              "       [  37,   82,  244, 1190,  232],\n",
              "       [  49,   69,  113,  423, 2126]])"
            ]
          },
          "metadata": {},
          "execution_count": 75
        }
      ]
    },
    {
      "cell_type": "code",
      "source": [
        "print(confusion_matrix(test_instagram[\"score\"], pred_instagram, normalize=\"true\"))\n",
        "print(\"F1-score per class:\", f1_score(test_instagram[\"score\"], pred_instagram, average=None))\n",
        "print(\"Instagram Macro F1-score:\", f1_score(test_instagram[\"score\"], pred_instagram, average=\"macro\"))"
      ],
      "metadata": {
        "id": "pen-jfvU8giC",
        "colab": {
          "base_uri": "https://localhost:8080/"
        },
        "outputId": "80ca1c21-c947-49e0-8a1e-43e28377e342"
      },
      "id": "pen-jfvU8giC",
      "execution_count": null,
      "outputs": [
        {
          "output_type": "stream",
          "name": "stdout",
          "text": [
            "[[0.80966114 0.13987022 0.04253785 0.00576784 0.00216294]\n",
            " [0.12112473 0.74837779 0.10454218 0.02018745 0.00576784]\n",
            " [0.02707276 0.08629442 0.82910321 0.05076142 0.00676819]\n",
            " [0.02072829 0.04593838 0.13669468 0.66666667 0.12997199]\n",
            " [0.0176259  0.02482014 0.04064748 0.15215827 0.7647482 ]]\n",
            "F1-score per class: [0.80791367 0.73590925 0.59683313 0.68706697 0.8251504 ]\n",
            "Instagram Macro F1-score: 0.7305746847708503\n"
          ]
        }
      ]
    },
    {
      "cell_type": "code",
      "source": [
        "pred_reddit = pred(list(test_reddit[\"content\"]))\n",
        "confusion_matrix(test_reddit[\"score\"], pred_reddit)"
      ],
      "metadata": {
        "id": "rpas7eOe8snM",
        "colab": {
          "base_uri": "https://localhost:8080/"
        },
        "outputId": "ea88bbd2-95c5-4cf5-de64-c1c77b605411"
      },
      "id": "rpas7eOe8snM",
      "execution_count": null,
      "outputs": [
        {
          "output_type": "stream",
          "name": "stderr",
          "text": [
            "100%|██████████| 7134/7134 [12:03<00:00,  9.86it/s]\n"
          ]
        },
        {
          "output_type": "execute_result",
          "data": {
            "text/plain": [
              "array([[ 750,   34,    5,    1,    0],\n",
              "       [  81,  641,   52,   12,    4],\n",
              "       [  10,   51,  660,   60,    9],\n",
              "       [  17,   56,  179, 1644,  287],\n",
              "       [   0,   13,   38,  367, 2163]])"
            ]
          },
          "metadata": {},
          "execution_count": 77
        }
      ]
    },
    {
      "cell_type": "code",
      "source": [
        "print(confusion_matrix(test_reddit[\"score\"], pred_reddit, normalize=\"true\"))\n",
        "print(\"F1-score per class:\", f1_score(test_reddit[\"score\"], pred_reddit, average=None))\n",
        "print(\"Reddit Macro F1-score:\", f1_score(test_reddit[\"score\"], pred_reddit, average=\"macro\"))"
      ],
      "metadata": {
        "id": "08sKAdXa8yha",
        "colab": {
          "base_uri": "https://localhost:8080/"
        },
        "outputId": "0d5ac27a-a769-4856-ea02-05fc56901bc0"
      },
      "id": "08sKAdXa8yha",
      "execution_count": null,
      "outputs": [
        {
          "output_type": "stream",
          "name": "stdout",
          "text": [
            "[[0.94936709 0.04303797 0.00632911 0.00126582 0.        ]\n",
            " [0.10253165 0.81139241 0.06582278 0.01518987 0.00506329]\n",
            " [0.01265823 0.06455696 0.83544304 0.07594937 0.01139241]\n",
            " [0.00778745 0.02565277 0.08199725 0.75309208 0.13147045]\n",
            " [0.         0.00503681 0.01472298 0.14219295 0.83804727]]\n",
            "F1-score per class: [0.91019417 0.80883281 0.76566125 0.7705648  0.85765266]\n",
            "Reddit Macro F1-score: 0.8225811382950499\n"
          ]
        }
      ]
    },
    {
      "cell_type": "code",
      "source": [
        "pred_tiktok = pred(list(test_tiktok[\"content\"]))\n",
        "confusion_matrix(test_tiktok[\"score\"], pred_tiktok)"
      ],
      "metadata": {
        "id": "DIddANlh81gz",
        "colab": {
          "base_uri": "https://localhost:8080/"
        },
        "outputId": "bbb2cf53-cc58-465b-b1aa-696a6b88d446"
      },
      "id": "DIddANlh81gz",
      "execution_count": null,
      "outputs": [
        {
          "output_type": "stream",
          "name": "stderr",
          "text": [
            "100%|██████████| 7532/7532 [14:42<00:00,  8.53it/s]\n"
          ]
        },
        {
          "output_type": "execute_result",
          "data": {
            "text/plain": [
              "array([[1128,  167,   64,   12,   16],\n",
              "       [ 182,  936,  198,   44,   27],\n",
              "       [  46,  173, 1165,  171,   31],\n",
              "       [  29,   67,  268, 1400,  220],\n",
              "       [   6,    6,   32,  120, 1024]])"
            ]
          },
          "metadata": {},
          "execution_count": 79
        }
      ]
    },
    {
      "cell_type": "code",
      "source": [
        "print(confusion_matrix(test_tiktok[\"score\"], pred_tiktok, normalize=\"true\"))\n",
        "print(\"F1-score per class:\", f1_score(test_tiktok[\"score\"], pred_tiktok, average=None))\n",
        "print(\"TikTok Macro F1-score:\", f1_score(test_tiktok[\"score\"], pred_tiktok, average=\"macro\"))"
      ],
      "metadata": {
        "id": "rTtGLokb87OW",
        "colab": {
          "base_uri": "https://localhost:8080/"
        },
        "outputId": "15d28d1e-3674-4e11-a643-ce28ff33cd80"
      },
      "id": "rTtGLokb87OW",
      "execution_count": null,
      "outputs": [
        {
          "output_type": "stream",
          "name": "stdout",
          "text": [
            "[[0.81326604 0.12040375 0.04614275 0.00865177 0.01153569]\n",
            " [0.13121846 0.67483778 0.14275415 0.03172314 0.01946647]\n",
            " [0.02900378 0.10907945 0.73455233 0.10781841 0.01954603]\n",
            " [0.01461694 0.03377016 0.13508065 0.70564516 0.1108871 ]\n",
            " [0.00505051 0.00505051 0.02693603 0.1010101  0.86195286]]\n",
            "F1-score per class: [0.81209503 0.68421053 0.70329007 0.75046904 0.81723863]\n",
            "TikTok Macro F1-score: 0.7534606597166288\n"
          ]
        }
      ]
    },
    {
      "cell_type": "code",
      "source": [
        "pred_twitter = pred(list(test_twitter[\"content\"]))\n",
        "confusion_matrix(test_twitter[\"score\"], pred_twitter)"
      ],
      "metadata": {
        "id": "FiYZMdda8_qw",
        "colab": {
          "base_uri": "https://localhost:8080/"
        },
        "outputId": "ebc4a753-1e1a-4be6-8468-3e4addb165ca"
      },
      "id": "FiYZMdda8_qw",
      "execution_count": null,
      "outputs": [
        {
          "output_type": "stream",
          "name": "stderr",
          "text": [
            "100%|██████████| 7532/7532 [14:32<00:00,  8.63it/s]\n"
          ]
        },
        {
          "output_type": "execute_result",
          "data": {
            "text/plain": [
              "array([[1168,  150,   57,    8,    4],\n",
              "       [ 145,  855,  143,   39,    6],\n",
              "       [  21,   99,  601,   64,    5],\n",
              "       [  66,  133,  512, 2126,  540],\n",
              "       [   1,    3,    3,   33,  750]])"
            ]
          },
          "metadata": {},
          "execution_count": 81
        }
      ]
    },
    {
      "cell_type": "code",
      "source": [
        "print(confusion_matrix(test_twitter[\"score\"], pred_twitter, normalize=\"true\"))\n",
        "print(\"F1-score per class:\", f1_score(test_twitter[\"score\"], pred_twitter, average=None))\n",
        "print(\"Twitter Macro F1-score:\", f1_score(test_twitter[\"score\"], pred_twitter, average=\"macro\"))"
      ],
      "metadata": {
        "id": "Od91vNcx9Fvr",
        "colab": {
          "base_uri": "https://localhost:8080/"
        },
        "outputId": "021ce44e-9a86-4d67-831b-7c5182c7eab9"
      },
      "id": "Od91vNcx9Fvr",
      "execution_count": null,
      "outputs": [
        {
          "output_type": "stream",
          "name": "stdout",
          "text": [
            "[[0.84210526 0.10814708 0.04109589 0.00576784 0.00288392]\n",
            " [0.12205387 0.71969697 0.12037037 0.03282828 0.00505051]\n",
            " [0.02658228 0.12531646 0.76075949 0.08101266 0.00632911]\n",
            " [0.01954397 0.03938407 0.15161386 0.62955286 0.15990524]\n",
            " [0.00126582 0.00379747 0.00379747 0.04177215 0.94936709]]\n",
            "F1-score per class: [0.83787661 0.70428336 0.57075024 0.75296618 0.71599045]\n",
            "Twitter Macro F1-score: 0.716373368491913\n"
          ]
        }
      ]
    },
    {
      "cell_type": "code",
      "source": [
        "pred_whatsapp = pred(test_whatsapp[\"content\"])\n",
        "confusion_matrix(test_whatsapp[\"score\"], pred_whatsapp)"
      ],
      "metadata": {
        "id": "oAMbINF69MAl",
        "colab": {
          "base_uri": "https://localhost:8080/"
        },
        "outputId": "273bf696-72d1-4c3d-a89d-39a9b8596df1"
      },
      "id": "oAMbINF69MAl",
      "execution_count": null,
      "outputs": [
        {
          "output_type": "stream",
          "name": "stderr",
          "text": [
            "100%|██████████| 6736/6736 [15:32<00:00,  7.22it/s]\n"
          ]
        },
        {
          "output_type": "execute_result",
          "data": {
            "text/plain": [
              "array([[ 358,   15,   14,    5,    0],\n",
              "       [ 189,  979,  289,   95,   34],\n",
              "       [  20,   41,  661,   60,    8],\n",
              "       [  29,   48,  222, 1115,  172],\n",
              "       [  46,   47,  153,  527, 1609]])"
            ]
          },
          "metadata": {},
          "execution_count": 85
        }
      ]
    },
    {
      "cell_type": "code",
      "source": [
        "print(confusion_matrix(test_whatsapp[\"score\"], pred_whatsapp, normalize=\"true\"))\n",
        "print(\"F1-score per class:\", f1_score(test_whatsapp[\"score\"], pred_whatsapp, average=None))\n",
        "print(\"Whatsapp Macro F1-score:\", f1_score(test_whatsapp[\"score\"], pred_whatsapp, average=\"macro\"))"
      ],
      "metadata": {
        "id": "xWvnEam29QE5",
        "colab": {
          "base_uri": "https://localhost:8080/"
        },
        "outputId": "4288c69f-aa51-4f7f-c8b0-a89f42fb144d"
      },
      "id": "xWvnEam29QE5",
      "execution_count": null,
      "outputs": [
        {
          "output_type": "stream",
          "name": "stdout",
          "text": [
            "[[0.91326531 0.03826531 0.03571429 0.0127551  0.        ]\n",
            " [0.11916772 0.61727617 0.18221942 0.05989912 0.02143758]\n",
            " [0.02531646 0.05189873 0.83670886 0.07594937 0.01012658]\n",
            " [0.01828499 0.03026482 0.13997478 0.70302648 0.10844893]\n",
            " [0.0193115  0.01973132 0.06423174 0.22124265 0.67548279]]\n",
            "F1-score per class: [0.69245648 0.72091311 0.6209488  0.65820543 0.76527943]\n",
            "Whatsapp Macro F1-score: 0.6915606499279486\n"
          ]
        }
      ]
    },
    {
      "cell_type": "code",
      "source": [
        "# All together\n",
        "pred_labels = pred_facebook + pred_facebook_mess + \\\n",
        "               pred_google + pred_instagram + \\\n",
        "               pred_reddit + pred_tiktok + \\\n",
        "               pred_twitter + pred_whatsapp\n",
        "\n",
        "true_labels = list(test_facebook[\"score\"]) + list(test_facebook_mess[\"score\"]) + \\\n",
        "              list(test_google[\"score\"]) + list(test_instagram[\"score\"]) + \\\n",
        "              list(test_reddit[\"score\"]) + list(test_tiktok[\"score\"]) + \\\n",
        "              list(test_twitter[\"score\"]) + list(test_whatsapp[\"score\"])\n",
        "\n",
        "print(confusion_matrix(true_labels, pred_labels, normalize=\"true\"))\n",
        "print(\"F1-score per class:\", f1_score(true_labels, pred_labels, average=None))\n",
        "print(\"Macro F1-score:\", f1_score(true_labels, pred_labels, average=\"macro\"))\n"
      ],
      "metadata": {
        "colab": {
          "base_uri": "https://localhost:8080/"
        },
        "id": "MS_lBxBiRzbD",
        "outputId": "d6161b88-6249-4b0a-968f-16f280d79e91"
      },
      "id": "MS_lBxBiRzbD",
      "execution_count": null,
      "outputs": [
        {
          "output_type": "stream",
          "name": "stdout",
          "text": [
            "[[0.82682603 0.12589641 0.03683046 0.00619743 0.00424967]\n",
            " [0.12613613 0.70753383 0.12593415 0.02989295 0.01050293]\n",
            " [0.03184713 0.11278278 0.73566879 0.10136174 0.01833956]\n",
            " [0.01680238 0.03567274 0.12899056 0.69083624 0.12769807]\n",
            " [0.0096942  0.01331967 0.0307377  0.13430013 0.8119483 ]]\n",
            "F1-score per class: [0.82807235 0.69787827 0.67482623 0.7332716  0.81487048]\n",
            "Macro F1-score: 0.7497837869253305\n"
          ]
        }
      ]
    },
    {
      "cell_type": "markdown",
      "source": [
        "# Post processing"
      ],
      "metadata": {
        "id": "2pU99WgN3abW"
      },
      "id": "2pU99WgN3abW"
    },
    {
      "cell_type": "code",
      "source": [
        "# Data labeled as 5 in test data\n",
        "sub_data_5 = test_data[test_data[\"score\"] == 5]\n",
        "pred = clf.predict(sub_data_5[\"content\"])\n",
        "\n",
        "# Data labeled as 5 but predicted as 1 for MNB\n",
        "sub_data_5_1 = sub_data_5[pred == 1]\n",
        "\n",
        "# Example\n",
        "print(\"Predicted as 1 (MNB):\\n\", sub_data_5_1[\"content\"].iloc[2])\n",
        "\n",
        "# Save to see if BERT model can label this better.\n",
        "pred_obs_bert = sub_data_5_1[\"content\"].iloc[2]\n",
        "pred_val = pipe(pred_obs_bert)\n",
        "print(\"BERT model predicts on the same text as:\", dict_val[pred_val[0][\"label\"]], \"\\n\\n\")\n",
        "\n",
        "\n",
        "# Example\n",
        "print(\"Predicted as 1 (MNB):\\n\", sub_data_5_1[\"content\"].iloc[3])\n",
        "\n",
        "# Save to see if BERT model can label this better.\n",
        "pred_obs_bert = sub_data_5_1[\"content\"].iloc[3]\n",
        "pred_val = pipe(pred_obs_bert)\n",
        "print(\"BERT model predicts on the same text as:\", dict_val[pred_val[0][\"label\"]], \"\\n\\n\")\n",
        "\n",
        "\n",
        "# Example\n",
        "print(\"Predicted as 1 (MNB):\\n\", sub_data_5_1[\"content\"].iloc[4])\n",
        "\n",
        "# Save to see if BERT model can label this better.\n",
        "pred_obs_bert = sub_data_5_1[\"content\"].iloc[4]\n",
        "pred_val = pipe(pred_obs_bert)\n",
        "print(\"BERT model predicts on the same text as:\", dict_val[pred_val[0][\"label\"]], \"\\n\\n\")\n",
        "\n",
        "# Example\n",
        "print(\"Predicted as 1 (MNB):\\n\", sub_data_5_1[\"content\"].iloc[5])\n",
        "\n",
        "# Save to see if BERT model can label this better.\n",
        "pred_obs_bert = sub_data_5_1[\"content\"].iloc[5]\n",
        "pred_val = pipe(pred_obs_bert)\n",
        "print(\"BERT model predicts on the same text as:\", dict_val[pred_val[0][\"label\"]])"
      ],
      "metadata": {
        "colab": {
          "base_uri": "https://localhost:8080/"
        },
        "id": "JbUZAWG31StA",
        "outputId": "13eaf049-4c1a-4a14-b492-78460ea76688"
      },
      "id": "JbUZAWG31StA",
      "execution_count": null,
      "outputs": [
        {
          "output_type": "stream",
          "name": "stdout",
          "text": [
            "Predicted as 1 (MNB):\n",
            " Keep getting lost on it, open up something and the next thing I know it's a hour later, brilliant..\n",
            "BERT model predicts on the same text as: 5 \n",
            "\n",
            "\n",
            "Predicted as 1 (MNB):\n",
            " To be absolutely honest they haven't gone soft you can watch all kinds of videos other platforms wouldn't because they are lame 🤷\n",
            "BERT model predicts on the same text as: 5 \n",
            "\n",
            "\n",
            "Predicted as 1 (MNB):\n",
            " Support has zero reading comprehension and doesn't keep their word other than that great\n",
            "BERT model predicts on the same text as: 5 \n",
            "\n",
            "\n",
            "Predicted as 1 (MNB):\n",
            " This is such a refreshing change from Facebook and even Tumblr that those apps aren't even used on my phone anymore.\n",
            "BERT model predicts on the same text as: 5\n"
          ]
        }
      ]
    },
    {
      "cell_type": "code",
      "source": [],
      "metadata": {
        "id": "RQJg5Luq3m64"
      },
      "id": "RQJg5Luq3m64",
      "execution_count": null,
      "outputs": []
    }
  ],
  "metadata": {
    "colab": {
      "gpuType": "T4",
      "provenance": []
    },
    "kernelspec": {
      "display_name": "Python 3",
      "name": "python3"
    },
    "language_info": {
      "codemirror_mode": {
        "name": "ipython",
        "version": 3
      },
      "file_extension": ".py",
      "mimetype": "text/x-python",
      "name": "python",
      "nbconvert_exporter": "python",
      "pygments_lexer": "ipython3",
      "version": "3.10.12"
    },
    "widgets": {
      "application/vnd.jupyter.widget-state+json": {
        "d41b29bd2ede412cb0ffc8004f7c9a0b": {
          "model_module": "@jupyter-widgets/controls",
          "model_name": "HBoxModel",
          "model_module_version": "1.5.0",
          "state": {
            "_dom_classes": [],
            "_model_module": "@jupyter-widgets/controls",
            "_model_module_version": "1.5.0",
            "_model_name": "HBoxModel",
            "_view_count": null,
            "_view_module": "@jupyter-widgets/controls",
            "_view_module_version": "1.5.0",
            "_view_name": "HBoxView",
            "box_style": "",
            "children": [
              "IPY_MODEL_eced50a152f149609d3e11f54f5e36b0",
              "IPY_MODEL_a4764b702bc44453830336aa2f7115df",
              "IPY_MODEL_a71086641b8f497cb8030f0034901d4d"
            ],
            "layout": "IPY_MODEL_2858aef696cd447abfaab560e1447f90"
          }
        },
        "eced50a152f149609d3e11f54f5e36b0": {
          "model_module": "@jupyter-widgets/controls",
          "model_name": "HTMLModel",
          "model_module_version": "1.5.0",
          "state": {
            "_dom_classes": [],
            "_model_module": "@jupyter-widgets/controls",
            "_model_module_version": "1.5.0",
            "_model_name": "HTMLModel",
            "_view_count": null,
            "_view_module": "@jupyter-widgets/controls",
            "_view_module_version": "1.5.0",
            "_view_name": "HTMLView",
            "description": "",
            "description_tooltip": null,
            "layout": "IPY_MODEL_f8ba0d79cfcf4c6a8e2e45c3f9413f20",
            "placeholder": "​",
            "style": "IPY_MODEL_d0200352810a4ce7af60e5cc597f46dc",
            "value": "tokenizer_config.json: 100%"
          }
        },
        "a4764b702bc44453830336aa2f7115df": {
          "model_module": "@jupyter-widgets/controls",
          "model_name": "FloatProgressModel",
          "model_module_version": "1.5.0",
          "state": {
            "_dom_classes": [],
            "_model_module": "@jupyter-widgets/controls",
            "_model_module_version": "1.5.0",
            "_model_name": "FloatProgressModel",
            "_view_count": null,
            "_view_module": "@jupyter-widgets/controls",
            "_view_module_version": "1.5.0",
            "_view_name": "ProgressView",
            "bar_style": "success",
            "description": "",
            "description_tooltip": null,
            "layout": "IPY_MODEL_e8507113ed144894ae70a64584f002b8",
            "max": 48,
            "min": 0,
            "orientation": "horizontal",
            "style": "IPY_MODEL_be16d52b2fe24e019d85563e7e26ce97",
            "value": 48
          }
        },
        "a71086641b8f497cb8030f0034901d4d": {
          "model_module": "@jupyter-widgets/controls",
          "model_name": "HTMLModel",
          "model_module_version": "1.5.0",
          "state": {
            "_dom_classes": [],
            "_model_module": "@jupyter-widgets/controls",
            "_model_module_version": "1.5.0",
            "_model_name": "HTMLModel",
            "_view_count": null,
            "_view_module": "@jupyter-widgets/controls",
            "_view_module_version": "1.5.0",
            "_view_name": "HTMLView",
            "description": "",
            "description_tooltip": null,
            "layout": "IPY_MODEL_6aab8c01864043efaced7d9a9fc43a32",
            "placeholder": "​",
            "style": "IPY_MODEL_03770498497c44bc890fa5abd04f67eb",
            "value": " 48.0/48.0 [00:00&lt;00:00, 493B/s]"
          }
        },
        "2858aef696cd447abfaab560e1447f90": {
          "model_module": "@jupyter-widgets/base",
          "model_name": "LayoutModel",
          "model_module_version": "1.2.0",
          "state": {
            "_model_module": "@jupyter-widgets/base",
            "_model_module_version": "1.2.0",
            "_model_name": "LayoutModel",
            "_view_count": null,
            "_view_module": "@jupyter-widgets/base",
            "_view_module_version": "1.2.0",
            "_view_name": "LayoutView",
            "align_content": null,
            "align_items": null,
            "align_self": null,
            "border": null,
            "bottom": null,
            "display": null,
            "flex": null,
            "flex_flow": null,
            "grid_area": null,
            "grid_auto_columns": null,
            "grid_auto_flow": null,
            "grid_auto_rows": null,
            "grid_column": null,
            "grid_gap": null,
            "grid_row": null,
            "grid_template_areas": null,
            "grid_template_columns": null,
            "grid_template_rows": null,
            "height": null,
            "justify_content": null,
            "justify_items": null,
            "left": null,
            "margin": null,
            "max_height": null,
            "max_width": null,
            "min_height": null,
            "min_width": null,
            "object_fit": null,
            "object_position": null,
            "order": null,
            "overflow": null,
            "overflow_x": null,
            "overflow_y": null,
            "padding": null,
            "right": null,
            "top": null,
            "visibility": null,
            "width": null
          }
        },
        "f8ba0d79cfcf4c6a8e2e45c3f9413f20": {
          "model_module": "@jupyter-widgets/base",
          "model_name": "LayoutModel",
          "model_module_version": "1.2.0",
          "state": {
            "_model_module": "@jupyter-widgets/base",
            "_model_module_version": "1.2.0",
            "_model_name": "LayoutModel",
            "_view_count": null,
            "_view_module": "@jupyter-widgets/base",
            "_view_module_version": "1.2.0",
            "_view_name": "LayoutView",
            "align_content": null,
            "align_items": null,
            "align_self": null,
            "border": null,
            "bottom": null,
            "display": null,
            "flex": null,
            "flex_flow": null,
            "grid_area": null,
            "grid_auto_columns": null,
            "grid_auto_flow": null,
            "grid_auto_rows": null,
            "grid_column": null,
            "grid_gap": null,
            "grid_row": null,
            "grid_template_areas": null,
            "grid_template_columns": null,
            "grid_template_rows": null,
            "height": null,
            "justify_content": null,
            "justify_items": null,
            "left": null,
            "margin": null,
            "max_height": null,
            "max_width": null,
            "min_height": null,
            "min_width": null,
            "object_fit": null,
            "object_position": null,
            "order": null,
            "overflow": null,
            "overflow_x": null,
            "overflow_y": null,
            "padding": null,
            "right": null,
            "top": null,
            "visibility": null,
            "width": null
          }
        },
        "d0200352810a4ce7af60e5cc597f46dc": {
          "model_module": "@jupyter-widgets/controls",
          "model_name": "DescriptionStyleModel",
          "model_module_version": "1.5.0",
          "state": {
            "_model_module": "@jupyter-widgets/controls",
            "_model_module_version": "1.5.0",
            "_model_name": "DescriptionStyleModel",
            "_view_count": null,
            "_view_module": "@jupyter-widgets/base",
            "_view_module_version": "1.2.0",
            "_view_name": "StyleView",
            "description_width": ""
          }
        },
        "e8507113ed144894ae70a64584f002b8": {
          "model_module": "@jupyter-widgets/base",
          "model_name": "LayoutModel",
          "model_module_version": "1.2.0",
          "state": {
            "_model_module": "@jupyter-widgets/base",
            "_model_module_version": "1.2.0",
            "_model_name": "LayoutModel",
            "_view_count": null,
            "_view_module": "@jupyter-widgets/base",
            "_view_module_version": "1.2.0",
            "_view_name": "LayoutView",
            "align_content": null,
            "align_items": null,
            "align_self": null,
            "border": null,
            "bottom": null,
            "display": null,
            "flex": null,
            "flex_flow": null,
            "grid_area": null,
            "grid_auto_columns": null,
            "grid_auto_flow": null,
            "grid_auto_rows": null,
            "grid_column": null,
            "grid_gap": null,
            "grid_row": null,
            "grid_template_areas": null,
            "grid_template_columns": null,
            "grid_template_rows": null,
            "height": null,
            "justify_content": null,
            "justify_items": null,
            "left": null,
            "margin": null,
            "max_height": null,
            "max_width": null,
            "min_height": null,
            "min_width": null,
            "object_fit": null,
            "object_position": null,
            "order": null,
            "overflow": null,
            "overflow_x": null,
            "overflow_y": null,
            "padding": null,
            "right": null,
            "top": null,
            "visibility": null,
            "width": null
          }
        },
        "be16d52b2fe24e019d85563e7e26ce97": {
          "model_module": "@jupyter-widgets/controls",
          "model_name": "ProgressStyleModel",
          "model_module_version": "1.5.0",
          "state": {
            "_model_module": "@jupyter-widgets/controls",
            "_model_module_version": "1.5.0",
            "_model_name": "ProgressStyleModel",
            "_view_count": null,
            "_view_module": "@jupyter-widgets/base",
            "_view_module_version": "1.2.0",
            "_view_name": "StyleView",
            "bar_color": null,
            "description_width": ""
          }
        },
        "6aab8c01864043efaced7d9a9fc43a32": {
          "model_module": "@jupyter-widgets/base",
          "model_name": "LayoutModel",
          "model_module_version": "1.2.0",
          "state": {
            "_model_module": "@jupyter-widgets/base",
            "_model_module_version": "1.2.0",
            "_model_name": "LayoutModel",
            "_view_count": null,
            "_view_module": "@jupyter-widgets/base",
            "_view_module_version": "1.2.0",
            "_view_name": "LayoutView",
            "align_content": null,
            "align_items": null,
            "align_self": null,
            "border": null,
            "bottom": null,
            "display": null,
            "flex": null,
            "flex_flow": null,
            "grid_area": null,
            "grid_auto_columns": null,
            "grid_auto_flow": null,
            "grid_auto_rows": null,
            "grid_column": null,
            "grid_gap": null,
            "grid_row": null,
            "grid_template_areas": null,
            "grid_template_columns": null,
            "grid_template_rows": null,
            "height": null,
            "justify_content": null,
            "justify_items": null,
            "left": null,
            "margin": null,
            "max_height": null,
            "max_width": null,
            "min_height": null,
            "min_width": null,
            "object_fit": null,
            "object_position": null,
            "order": null,
            "overflow": null,
            "overflow_x": null,
            "overflow_y": null,
            "padding": null,
            "right": null,
            "top": null,
            "visibility": null,
            "width": null
          }
        },
        "03770498497c44bc890fa5abd04f67eb": {
          "model_module": "@jupyter-widgets/controls",
          "model_name": "DescriptionStyleModel",
          "model_module_version": "1.5.0",
          "state": {
            "_model_module": "@jupyter-widgets/controls",
            "_model_module_version": "1.5.0",
            "_model_name": "DescriptionStyleModel",
            "_view_count": null,
            "_view_module": "@jupyter-widgets/base",
            "_view_module_version": "1.2.0",
            "_view_name": "StyleView",
            "description_width": ""
          }
        },
        "0d0bbcbac00046079b41d70ed63ff74e": {
          "model_module": "@jupyter-widgets/controls",
          "model_name": "HBoxModel",
          "model_module_version": "1.5.0",
          "state": {
            "_dom_classes": [],
            "_model_module": "@jupyter-widgets/controls",
            "_model_module_version": "1.5.0",
            "_model_name": "HBoxModel",
            "_view_count": null,
            "_view_module": "@jupyter-widgets/controls",
            "_view_module_version": "1.5.0",
            "_view_name": "HBoxView",
            "box_style": "",
            "children": [
              "IPY_MODEL_7a96e17e08d14405863b35cd6a3956ca",
              "IPY_MODEL_61ce16ca4ba14a44bb7358467c8bdd33",
              "IPY_MODEL_1c796a2314f0479e81e16852659c88b6"
            ],
            "layout": "IPY_MODEL_5aa00ccf62414a87b475b647555c8b8a"
          }
        },
        "7a96e17e08d14405863b35cd6a3956ca": {
          "model_module": "@jupyter-widgets/controls",
          "model_name": "HTMLModel",
          "model_module_version": "1.5.0",
          "state": {
            "_dom_classes": [],
            "_model_module": "@jupyter-widgets/controls",
            "_model_module_version": "1.5.0",
            "_model_name": "HTMLModel",
            "_view_count": null,
            "_view_module": "@jupyter-widgets/controls",
            "_view_module_version": "1.5.0",
            "_view_name": "HTMLView",
            "description": "",
            "description_tooltip": null,
            "layout": "IPY_MODEL_95f9bc8a25ca48959cef5df68e5a438e",
            "placeholder": "​",
            "style": "IPY_MODEL_0f5cfa81aa1f40a3b4c304d7d4224048",
            "value": "config.json: 100%"
          }
        },
        "61ce16ca4ba14a44bb7358467c8bdd33": {
          "model_module": "@jupyter-widgets/controls",
          "model_name": "FloatProgressModel",
          "model_module_version": "1.5.0",
          "state": {
            "_dom_classes": [],
            "_model_module": "@jupyter-widgets/controls",
            "_model_module_version": "1.5.0",
            "_model_name": "FloatProgressModel",
            "_view_count": null,
            "_view_module": "@jupyter-widgets/controls",
            "_view_module_version": "1.5.0",
            "_view_name": "ProgressView",
            "bar_style": "success",
            "description": "",
            "description_tooltip": null,
            "layout": "IPY_MODEL_66526b37cfad477ea0836396721fa9d1",
            "max": 483,
            "min": 0,
            "orientation": "horizontal",
            "style": "IPY_MODEL_52ce5ae5ee5d48a1946a5543f8041523",
            "value": 483
          }
        },
        "1c796a2314f0479e81e16852659c88b6": {
          "model_module": "@jupyter-widgets/controls",
          "model_name": "HTMLModel",
          "model_module_version": "1.5.0",
          "state": {
            "_dom_classes": [],
            "_model_module": "@jupyter-widgets/controls",
            "_model_module_version": "1.5.0",
            "_model_name": "HTMLModel",
            "_view_count": null,
            "_view_module": "@jupyter-widgets/controls",
            "_view_module_version": "1.5.0",
            "_view_name": "HTMLView",
            "description": "",
            "description_tooltip": null,
            "layout": "IPY_MODEL_2258294bd1364454a1bca72b7cfecf72",
            "placeholder": "​",
            "style": "IPY_MODEL_71c77f7a79ff4064bc69d7f84314a6e0",
            "value": " 483/483 [00:00&lt;00:00, 6.80kB/s]"
          }
        },
        "5aa00ccf62414a87b475b647555c8b8a": {
          "model_module": "@jupyter-widgets/base",
          "model_name": "LayoutModel",
          "model_module_version": "1.2.0",
          "state": {
            "_model_module": "@jupyter-widgets/base",
            "_model_module_version": "1.2.0",
            "_model_name": "LayoutModel",
            "_view_count": null,
            "_view_module": "@jupyter-widgets/base",
            "_view_module_version": "1.2.0",
            "_view_name": "LayoutView",
            "align_content": null,
            "align_items": null,
            "align_self": null,
            "border": null,
            "bottom": null,
            "display": null,
            "flex": null,
            "flex_flow": null,
            "grid_area": null,
            "grid_auto_columns": null,
            "grid_auto_flow": null,
            "grid_auto_rows": null,
            "grid_column": null,
            "grid_gap": null,
            "grid_row": null,
            "grid_template_areas": null,
            "grid_template_columns": null,
            "grid_template_rows": null,
            "height": null,
            "justify_content": null,
            "justify_items": null,
            "left": null,
            "margin": null,
            "max_height": null,
            "max_width": null,
            "min_height": null,
            "min_width": null,
            "object_fit": null,
            "object_position": null,
            "order": null,
            "overflow": null,
            "overflow_x": null,
            "overflow_y": null,
            "padding": null,
            "right": null,
            "top": null,
            "visibility": null,
            "width": null
          }
        },
        "95f9bc8a25ca48959cef5df68e5a438e": {
          "model_module": "@jupyter-widgets/base",
          "model_name": "LayoutModel",
          "model_module_version": "1.2.0",
          "state": {
            "_model_module": "@jupyter-widgets/base",
            "_model_module_version": "1.2.0",
            "_model_name": "LayoutModel",
            "_view_count": null,
            "_view_module": "@jupyter-widgets/base",
            "_view_module_version": "1.2.0",
            "_view_name": "LayoutView",
            "align_content": null,
            "align_items": null,
            "align_self": null,
            "border": null,
            "bottom": null,
            "display": null,
            "flex": null,
            "flex_flow": null,
            "grid_area": null,
            "grid_auto_columns": null,
            "grid_auto_flow": null,
            "grid_auto_rows": null,
            "grid_column": null,
            "grid_gap": null,
            "grid_row": null,
            "grid_template_areas": null,
            "grid_template_columns": null,
            "grid_template_rows": null,
            "height": null,
            "justify_content": null,
            "justify_items": null,
            "left": null,
            "margin": null,
            "max_height": null,
            "max_width": null,
            "min_height": null,
            "min_width": null,
            "object_fit": null,
            "object_position": null,
            "order": null,
            "overflow": null,
            "overflow_x": null,
            "overflow_y": null,
            "padding": null,
            "right": null,
            "top": null,
            "visibility": null,
            "width": null
          }
        },
        "0f5cfa81aa1f40a3b4c304d7d4224048": {
          "model_module": "@jupyter-widgets/controls",
          "model_name": "DescriptionStyleModel",
          "model_module_version": "1.5.0",
          "state": {
            "_model_module": "@jupyter-widgets/controls",
            "_model_module_version": "1.5.0",
            "_model_name": "DescriptionStyleModel",
            "_view_count": null,
            "_view_module": "@jupyter-widgets/base",
            "_view_module_version": "1.2.0",
            "_view_name": "StyleView",
            "description_width": ""
          }
        },
        "66526b37cfad477ea0836396721fa9d1": {
          "model_module": "@jupyter-widgets/base",
          "model_name": "LayoutModel",
          "model_module_version": "1.2.0",
          "state": {
            "_model_module": "@jupyter-widgets/base",
            "_model_module_version": "1.2.0",
            "_model_name": "LayoutModel",
            "_view_count": null,
            "_view_module": "@jupyter-widgets/base",
            "_view_module_version": "1.2.0",
            "_view_name": "LayoutView",
            "align_content": null,
            "align_items": null,
            "align_self": null,
            "border": null,
            "bottom": null,
            "display": null,
            "flex": null,
            "flex_flow": null,
            "grid_area": null,
            "grid_auto_columns": null,
            "grid_auto_flow": null,
            "grid_auto_rows": null,
            "grid_column": null,
            "grid_gap": null,
            "grid_row": null,
            "grid_template_areas": null,
            "grid_template_columns": null,
            "grid_template_rows": null,
            "height": null,
            "justify_content": null,
            "justify_items": null,
            "left": null,
            "margin": null,
            "max_height": null,
            "max_width": null,
            "min_height": null,
            "min_width": null,
            "object_fit": null,
            "object_position": null,
            "order": null,
            "overflow": null,
            "overflow_x": null,
            "overflow_y": null,
            "padding": null,
            "right": null,
            "top": null,
            "visibility": null,
            "width": null
          }
        },
        "52ce5ae5ee5d48a1946a5543f8041523": {
          "model_module": "@jupyter-widgets/controls",
          "model_name": "ProgressStyleModel",
          "model_module_version": "1.5.0",
          "state": {
            "_model_module": "@jupyter-widgets/controls",
            "_model_module_version": "1.5.0",
            "_model_name": "ProgressStyleModel",
            "_view_count": null,
            "_view_module": "@jupyter-widgets/base",
            "_view_module_version": "1.2.0",
            "_view_name": "StyleView",
            "bar_color": null,
            "description_width": ""
          }
        },
        "2258294bd1364454a1bca72b7cfecf72": {
          "model_module": "@jupyter-widgets/base",
          "model_name": "LayoutModel",
          "model_module_version": "1.2.0",
          "state": {
            "_model_module": "@jupyter-widgets/base",
            "_model_module_version": "1.2.0",
            "_model_name": "LayoutModel",
            "_view_count": null,
            "_view_module": "@jupyter-widgets/base",
            "_view_module_version": "1.2.0",
            "_view_name": "LayoutView",
            "align_content": null,
            "align_items": null,
            "align_self": null,
            "border": null,
            "bottom": null,
            "display": null,
            "flex": null,
            "flex_flow": null,
            "grid_area": null,
            "grid_auto_columns": null,
            "grid_auto_flow": null,
            "grid_auto_rows": null,
            "grid_column": null,
            "grid_gap": null,
            "grid_row": null,
            "grid_template_areas": null,
            "grid_template_columns": null,
            "grid_template_rows": null,
            "height": null,
            "justify_content": null,
            "justify_items": null,
            "left": null,
            "margin": null,
            "max_height": null,
            "max_width": null,
            "min_height": null,
            "min_width": null,
            "object_fit": null,
            "object_position": null,
            "order": null,
            "overflow": null,
            "overflow_x": null,
            "overflow_y": null,
            "padding": null,
            "right": null,
            "top": null,
            "visibility": null,
            "width": null
          }
        },
        "71c77f7a79ff4064bc69d7f84314a6e0": {
          "model_module": "@jupyter-widgets/controls",
          "model_name": "DescriptionStyleModel",
          "model_module_version": "1.5.0",
          "state": {
            "_model_module": "@jupyter-widgets/controls",
            "_model_module_version": "1.5.0",
            "_model_name": "DescriptionStyleModel",
            "_view_count": null,
            "_view_module": "@jupyter-widgets/base",
            "_view_module_version": "1.2.0",
            "_view_name": "StyleView",
            "description_width": ""
          }
        },
        "2288f9e593284c349399b1a26a3e7564": {
          "model_module": "@jupyter-widgets/controls",
          "model_name": "HBoxModel",
          "model_module_version": "1.5.0",
          "state": {
            "_dom_classes": [],
            "_model_module": "@jupyter-widgets/controls",
            "_model_module_version": "1.5.0",
            "_model_name": "HBoxModel",
            "_view_count": null,
            "_view_module": "@jupyter-widgets/controls",
            "_view_module_version": "1.5.0",
            "_view_name": "HBoxView",
            "box_style": "",
            "children": [
              "IPY_MODEL_1970e14875984d3699c20a92b17edb90",
              "IPY_MODEL_1b8a1e241b4246cc90458eabebd8c93c",
              "IPY_MODEL_cf6d4910162e487e8de7a485c8ee5353"
            ],
            "layout": "IPY_MODEL_0718d236a7f340e4a539a5280b795f30"
          }
        },
        "1970e14875984d3699c20a92b17edb90": {
          "model_module": "@jupyter-widgets/controls",
          "model_name": "HTMLModel",
          "model_module_version": "1.5.0",
          "state": {
            "_dom_classes": [],
            "_model_module": "@jupyter-widgets/controls",
            "_model_module_version": "1.5.0",
            "_model_name": "HTMLModel",
            "_view_count": null,
            "_view_module": "@jupyter-widgets/controls",
            "_view_module_version": "1.5.0",
            "_view_name": "HTMLView",
            "description": "",
            "description_tooltip": null,
            "layout": "IPY_MODEL_529c361082924d24a9e569b97d4767e3",
            "placeholder": "​",
            "style": "IPY_MODEL_51e09c3afc5b4b439c83dd9b6e11beea",
            "value": "vocab.txt: 100%"
          }
        },
        "1b8a1e241b4246cc90458eabebd8c93c": {
          "model_module": "@jupyter-widgets/controls",
          "model_name": "FloatProgressModel",
          "model_module_version": "1.5.0",
          "state": {
            "_dom_classes": [],
            "_model_module": "@jupyter-widgets/controls",
            "_model_module_version": "1.5.0",
            "_model_name": "FloatProgressModel",
            "_view_count": null,
            "_view_module": "@jupyter-widgets/controls",
            "_view_module_version": "1.5.0",
            "_view_name": "ProgressView",
            "bar_style": "success",
            "description": "",
            "description_tooltip": null,
            "layout": "IPY_MODEL_5f989d515b104bbe9edc713e9efa1900",
            "max": 231508,
            "min": 0,
            "orientation": "horizontal",
            "style": "IPY_MODEL_482edd43be844455b8fae9a49139bb8a",
            "value": 231508
          }
        },
        "cf6d4910162e487e8de7a485c8ee5353": {
          "model_module": "@jupyter-widgets/controls",
          "model_name": "HTMLModel",
          "model_module_version": "1.5.0",
          "state": {
            "_dom_classes": [],
            "_model_module": "@jupyter-widgets/controls",
            "_model_module_version": "1.5.0",
            "_model_name": "HTMLModel",
            "_view_count": null,
            "_view_module": "@jupyter-widgets/controls",
            "_view_module_version": "1.5.0",
            "_view_name": "HTMLView",
            "description": "",
            "description_tooltip": null,
            "layout": "IPY_MODEL_1f6f4da42ecf46daa2f71b874bcbb57e",
            "placeholder": "​",
            "style": "IPY_MODEL_7bab4116baf84d369419d59bcbc0497e",
            "value": " 232k/232k [00:00&lt;00:00, 2.44MB/s]"
          }
        },
        "0718d236a7f340e4a539a5280b795f30": {
          "model_module": "@jupyter-widgets/base",
          "model_name": "LayoutModel",
          "model_module_version": "1.2.0",
          "state": {
            "_model_module": "@jupyter-widgets/base",
            "_model_module_version": "1.2.0",
            "_model_name": "LayoutModel",
            "_view_count": null,
            "_view_module": "@jupyter-widgets/base",
            "_view_module_version": "1.2.0",
            "_view_name": "LayoutView",
            "align_content": null,
            "align_items": null,
            "align_self": null,
            "border": null,
            "bottom": null,
            "display": null,
            "flex": null,
            "flex_flow": null,
            "grid_area": null,
            "grid_auto_columns": null,
            "grid_auto_flow": null,
            "grid_auto_rows": null,
            "grid_column": null,
            "grid_gap": null,
            "grid_row": null,
            "grid_template_areas": null,
            "grid_template_columns": null,
            "grid_template_rows": null,
            "height": null,
            "justify_content": null,
            "justify_items": null,
            "left": null,
            "margin": null,
            "max_height": null,
            "max_width": null,
            "min_height": null,
            "min_width": null,
            "object_fit": null,
            "object_position": null,
            "order": null,
            "overflow": null,
            "overflow_x": null,
            "overflow_y": null,
            "padding": null,
            "right": null,
            "top": null,
            "visibility": null,
            "width": null
          }
        },
        "529c361082924d24a9e569b97d4767e3": {
          "model_module": "@jupyter-widgets/base",
          "model_name": "LayoutModel",
          "model_module_version": "1.2.0",
          "state": {
            "_model_module": "@jupyter-widgets/base",
            "_model_module_version": "1.2.0",
            "_model_name": "LayoutModel",
            "_view_count": null,
            "_view_module": "@jupyter-widgets/base",
            "_view_module_version": "1.2.0",
            "_view_name": "LayoutView",
            "align_content": null,
            "align_items": null,
            "align_self": null,
            "border": null,
            "bottom": null,
            "display": null,
            "flex": null,
            "flex_flow": null,
            "grid_area": null,
            "grid_auto_columns": null,
            "grid_auto_flow": null,
            "grid_auto_rows": null,
            "grid_column": null,
            "grid_gap": null,
            "grid_row": null,
            "grid_template_areas": null,
            "grid_template_columns": null,
            "grid_template_rows": null,
            "height": null,
            "justify_content": null,
            "justify_items": null,
            "left": null,
            "margin": null,
            "max_height": null,
            "max_width": null,
            "min_height": null,
            "min_width": null,
            "object_fit": null,
            "object_position": null,
            "order": null,
            "overflow": null,
            "overflow_x": null,
            "overflow_y": null,
            "padding": null,
            "right": null,
            "top": null,
            "visibility": null,
            "width": null
          }
        },
        "51e09c3afc5b4b439c83dd9b6e11beea": {
          "model_module": "@jupyter-widgets/controls",
          "model_name": "DescriptionStyleModel",
          "model_module_version": "1.5.0",
          "state": {
            "_model_module": "@jupyter-widgets/controls",
            "_model_module_version": "1.5.0",
            "_model_name": "DescriptionStyleModel",
            "_view_count": null,
            "_view_module": "@jupyter-widgets/base",
            "_view_module_version": "1.2.0",
            "_view_name": "StyleView",
            "description_width": ""
          }
        },
        "5f989d515b104bbe9edc713e9efa1900": {
          "model_module": "@jupyter-widgets/base",
          "model_name": "LayoutModel",
          "model_module_version": "1.2.0",
          "state": {
            "_model_module": "@jupyter-widgets/base",
            "_model_module_version": "1.2.0",
            "_model_name": "LayoutModel",
            "_view_count": null,
            "_view_module": "@jupyter-widgets/base",
            "_view_module_version": "1.2.0",
            "_view_name": "LayoutView",
            "align_content": null,
            "align_items": null,
            "align_self": null,
            "border": null,
            "bottom": null,
            "display": null,
            "flex": null,
            "flex_flow": null,
            "grid_area": null,
            "grid_auto_columns": null,
            "grid_auto_flow": null,
            "grid_auto_rows": null,
            "grid_column": null,
            "grid_gap": null,
            "grid_row": null,
            "grid_template_areas": null,
            "grid_template_columns": null,
            "grid_template_rows": null,
            "height": null,
            "justify_content": null,
            "justify_items": null,
            "left": null,
            "margin": null,
            "max_height": null,
            "max_width": null,
            "min_height": null,
            "min_width": null,
            "object_fit": null,
            "object_position": null,
            "order": null,
            "overflow": null,
            "overflow_x": null,
            "overflow_y": null,
            "padding": null,
            "right": null,
            "top": null,
            "visibility": null,
            "width": null
          }
        },
        "482edd43be844455b8fae9a49139bb8a": {
          "model_module": "@jupyter-widgets/controls",
          "model_name": "ProgressStyleModel",
          "model_module_version": "1.5.0",
          "state": {
            "_model_module": "@jupyter-widgets/controls",
            "_model_module_version": "1.5.0",
            "_model_name": "ProgressStyleModel",
            "_view_count": null,
            "_view_module": "@jupyter-widgets/base",
            "_view_module_version": "1.2.0",
            "_view_name": "StyleView",
            "bar_color": null,
            "description_width": ""
          }
        },
        "1f6f4da42ecf46daa2f71b874bcbb57e": {
          "model_module": "@jupyter-widgets/base",
          "model_name": "LayoutModel",
          "model_module_version": "1.2.0",
          "state": {
            "_model_module": "@jupyter-widgets/base",
            "_model_module_version": "1.2.0",
            "_model_name": "LayoutModel",
            "_view_count": null,
            "_view_module": "@jupyter-widgets/base",
            "_view_module_version": "1.2.0",
            "_view_name": "LayoutView",
            "align_content": null,
            "align_items": null,
            "align_self": null,
            "border": null,
            "bottom": null,
            "display": null,
            "flex": null,
            "flex_flow": null,
            "grid_area": null,
            "grid_auto_columns": null,
            "grid_auto_flow": null,
            "grid_auto_rows": null,
            "grid_column": null,
            "grid_gap": null,
            "grid_row": null,
            "grid_template_areas": null,
            "grid_template_columns": null,
            "grid_template_rows": null,
            "height": null,
            "justify_content": null,
            "justify_items": null,
            "left": null,
            "margin": null,
            "max_height": null,
            "max_width": null,
            "min_height": null,
            "min_width": null,
            "object_fit": null,
            "object_position": null,
            "order": null,
            "overflow": null,
            "overflow_x": null,
            "overflow_y": null,
            "padding": null,
            "right": null,
            "top": null,
            "visibility": null,
            "width": null
          }
        },
        "7bab4116baf84d369419d59bcbc0497e": {
          "model_module": "@jupyter-widgets/controls",
          "model_name": "DescriptionStyleModel",
          "model_module_version": "1.5.0",
          "state": {
            "_model_module": "@jupyter-widgets/controls",
            "_model_module_version": "1.5.0",
            "_model_name": "DescriptionStyleModel",
            "_view_count": null,
            "_view_module": "@jupyter-widgets/base",
            "_view_module_version": "1.2.0",
            "_view_name": "StyleView",
            "description_width": ""
          }
        },
        "c7b4c0c379a44aed8dc88efd98fe3881": {
          "model_module": "@jupyter-widgets/controls",
          "model_name": "HBoxModel",
          "model_module_version": "1.5.0",
          "state": {
            "_dom_classes": [],
            "_model_module": "@jupyter-widgets/controls",
            "_model_module_version": "1.5.0",
            "_model_name": "HBoxModel",
            "_view_count": null,
            "_view_module": "@jupyter-widgets/controls",
            "_view_module_version": "1.5.0",
            "_view_name": "HBoxView",
            "box_style": "",
            "children": [
              "IPY_MODEL_692f81ada748461da55e871e6ac869ec",
              "IPY_MODEL_f831d5b2973d4155aec5d8b7bb2b3fac",
              "IPY_MODEL_301874a81e484861a397d608bc97ed1a"
            ],
            "layout": "IPY_MODEL_226b3345b1ac432fabff9596a3d26e69"
          }
        },
        "692f81ada748461da55e871e6ac869ec": {
          "model_module": "@jupyter-widgets/controls",
          "model_name": "HTMLModel",
          "model_module_version": "1.5.0",
          "state": {
            "_dom_classes": [],
            "_model_module": "@jupyter-widgets/controls",
            "_model_module_version": "1.5.0",
            "_model_name": "HTMLModel",
            "_view_count": null,
            "_view_module": "@jupyter-widgets/controls",
            "_view_module_version": "1.5.0",
            "_view_name": "HTMLView",
            "description": "",
            "description_tooltip": null,
            "layout": "IPY_MODEL_0e4f43747a5f41c1941d76ba1afb2dbc",
            "placeholder": "​",
            "style": "IPY_MODEL_f01592f743b94099b6f8bbd31e980629",
            "value": "tokenizer.json: 100%"
          }
        },
        "f831d5b2973d4155aec5d8b7bb2b3fac": {
          "model_module": "@jupyter-widgets/controls",
          "model_name": "FloatProgressModel",
          "model_module_version": "1.5.0",
          "state": {
            "_dom_classes": [],
            "_model_module": "@jupyter-widgets/controls",
            "_model_module_version": "1.5.0",
            "_model_name": "FloatProgressModel",
            "_view_count": null,
            "_view_module": "@jupyter-widgets/controls",
            "_view_module_version": "1.5.0",
            "_view_name": "ProgressView",
            "bar_style": "success",
            "description": "",
            "description_tooltip": null,
            "layout": "IPY_MODEL_4041ed82f20d458abf30aee196a954b6",
            "max": 466062,
            "min": 0,
            "orientation": "horizontal",
            "style": "IPY_MODEL_2a94869d4188439ea558f0faa89faf45",
            "value": 466062
          }
        },
        "301874a81e484861a397d608bc97ed1a": {
          "model_module": "@jupyter-widgets/controls",
          "model_name": "HTMLModel",
          "model_module_version": "1.5.0",
          "state": {
            "_dom_classes": [],
            "_model_module": "@jupyter-widgets/controls",
            "_model_module_version": "1.5.0",
            "_model_name": "HTMLModel",
            "_view_count": null,
            "_view_module": "@jupyter-widgets/controls",
            "_view_module_version": "1.5.0",
            "_view_name": "HTMLView",
            "description": "",
            "description_tooltip": null,
            "layout": "IPY_MODEL_91f43168d4ed45acb70068857983a0e0",
            "placeholder": "​",
            "style": "IPY_MODEL_2ea1bce1d8584dcb91185af23ba3cc2f",
            "value": " 466k/466k [00:00&lt;00:00, 750kB/s]"
          }
        },
        "226b3345b1ac432fabff9596a3d26e69": {
          "model_module": "@jupyter-widgets/base",
          "model_name": "LayoutModel",
          "model_module_version": "1.2.0",
          "state": {
            "_model_module": "@jupyter-widgets/base",
            "_model_module_version": "1.2.0",
            "_model_name": "LayoutModel",
            "_view_count": null,
            "_view_module": "@jupyter-widgets/base",
            "_view_module_version": "1.2.0",
            "_view_name": "LayoutView",
            "align_content": null,
            "align_items": null,
            "align_self": null,
            "border": null,
            "bottom": null,
            "display": null,
            "flex": null,
            "flex_flow": null,
            "grid_area": null,
            "grid_auto_columns": null,
            "grid_auto_flow": null,
            "grid_auto_rows": null,
            "grid_column": null,
            "grid_gap": null,
            "grid_row": null,
            "grid_template_areas": null,
            "grid_template_columns": null,
            "grid_template_rows": null,
            "height": null,
            "justify_content": null,
            "justify_items": null,
            "left": null,
            "margin": null,
            "max_height": null,
            "max_width": null,
            "min_height": null,
            "min_width": null,
            "object_fit": null,
            "object_position": null,
            "order": null,
            "overflow": null,
            "overflow_x": null,
            "overflow_y": null,
            "padding": null,
            "right": null,
            "top": null,
            "visibility": null,
            "width": null
          }
        },
        "0e4f43747a5f41c1941d76ba1afb2dbc": {
          "model_module": "@jupyter-widgets/base",
          "model_name": "LayoutModel",
          "model_module_version": "1.2.0",
          "state": {
            "_model_module": "@jupyter-widgets/base",
            "_model_module_version": "1.2.0",
            "_model_name": "LayoutModel",
            "_view_count": null,
            "_view_module": "@jupyter-widgets/base",
            "_view_module_version": "1.2.0",
            "_view_name": "LayoutView",
            "align_content": null,
            "align_items": null,
            "align_self": null,
            "border": null,
            "bottom": null,
            "display": null,
            "flex": null,
            "flex_flow": null,
            "grid_area": null,
            "grid_auto_columns": null,
            "grid_auto_flow": null,
            "grid_auto_rows": null,
            "grid_column": null,
            "grid_gap": null,
            "grid_row": null,
            "grid_template_areas": null,
            "grid_template_columns": null,
            "grid_template_rows": null,
            "height": null,
            "justify_content": null,
            "justify_items": null,
            "left": null,
            "margin": null,
            "max_height": null,
            "max_width": null,
            "min_height": null,
            "min_width": null,
            "object_fit": null,
            "object_position": null,
            "order": null,
            "overflow": null,
            "overflow_x": null,
            "overflow_y": null,
            "padding": null,
            "right": null,
            "top": null,
            "visibility": null,
            "width": null
          }
        },
        "f01592f743b94099b6f8bbd31e980629": {
          "model_module": "@jupyter-widgets/controls",
          "model_name": "DescriptionStyleModel",
          "model_module_version": "1.5.0",
          "state": {
            "_model_module": "@jupyter-widgets/controls",
            "_model_module_version": "1.5.0",
            "_model_name": "DescriptionStyleModel",
            "_view_count": null,
            "_view_module": "@jupyter-widgets/base",
            "_view_module_version": "1.2.0",
            "_view_name": "StyleView",
            "description_width": ""
          }
        },
        "4041ed82f20d458abf30aee196a954b6": {
          "model_module": "@jupyter-widgets/base",
          "model_name": "LayoutModel",
          "model_module_version": "1.2.0",
          "state": {
            "_model_module": "@jupyter-widgets/base",
            "_model_module_version": "1.2.0",
            "_model_name": "LayoutModel",
            "_view_count": null,
            "_view_module": "@jupyter-widgets/base",
            "_view_module_version": "1.2.0",
            "_view_name": "LayoutView",
            "align_content": null,
            "align_items": null,
            "align_self": null,
            "border": null,
            "bottom": null,
            "display": null,
            "flex": null,
            "flex_flow": null,
            "grid_area": null,
            "grid_auto_columns": null,
            "grid_auto_flow": null,
            "grid_auto_rows": null,
            "grid_column": null,
            "grid_gap": null,
            "grid_row": null,
            "grid_template_areas": null,
            "grid_template_columns": null,
            "grid_template_rows": null,
            "height": null,
            "justify_content": null,
            "justify_items": null,
            "left": null,
            "margin": null,
            "max_height": null,
            "max_width": null,
            "min_height": null,
            "min_width": null,
            "object_fit": null,
            "object_position": null,
            "order": null,
            "overflow": null,
            "overflow_x": null,
            "overflow_y": null,
            "padding": null,
            "right": null,
            "top": null,
            "visibility": null,
            "width": null
          }
        },
        "2a94869d4188439ea558f0faa89faf45": {
          "model_module": "@jupyter-widgets/controls",
          "model_name": "ProgressStyleModel",
          "model_module_version": "1.5.0",
          "state": {
            "_model_module": "@jupyter-widgets/controls",
            "_model_module_version": "1.5.0",
            "_model_name": "ProgressStyleModel",
            "_view_count": null,
            "_view_module": "@jupyter-widgets/base",
            "_view_module_version": "1.2.0",
            "_view_name": "StyleView",
            "bar_color": null,
            "description_width": ""
          }
        },
        "91f43168d4ed45acb70068857983a0e0": {
          "model_module": "@jupyter-widgets/base",
          "model_name": "LayoutModel",
          "model_module_version": "1.2.0",
          "state": {
            "_model_module": "@jupyter-widgets/base",
            "_model_module_version": "1.2.0",
            "_model_name": "LayoutModel",
            "_view_count": null,
            "_view_module": "@jupyter-widgets/base",
            "_view_module_version": "1.2.0",
            "_view_name": "LayoutView",
            "align_content": null,
            "align_items": null,
            "align_self": null,
            "border": null,
            "bottom": null,
            "display": null,
            "flex": null,
            "flex_flow": null,
            "grid_area": null,
            "grid_auto_columns": null,
            "grid_auto_flow": null,
            "grid_auto_rows": null,
            "grid_column": null,
            "grid_gap": null,
            "grid_row": null,
            "grid_template_areas": null,
            "grid_template_columns": null,
            "grid_template_rows": null,
            "height": null,
            "justify_content": null,
            "justify_items": null,
            "left": null,
            "margin": null,
            "max_height": null,
            "max_width": null,
            "min_height": null,
            "min_width": null,
            "object_fit": null,
            "object_position": null,
            "order": null,
            "overflow": null,
            "overflow_x": null,
            "overflow_y": null,
            "padding": null,
            "right": null,
            "top": null,
            "visibility": null,
            "width": null
          }
        },
        "2ea1bce1d8584dcb91185af23ba3cc2f": {
          "model_module": "@jupyter-widgets/controls",
          "model_name": "DescriptionStyleModel",
          "model_module_version": "1.5.0",
          "state": {
            "_model_module": "@jupyter-widgets/controls",
            "_model_module_version": "1.5.0",
            "_model_name": "DescriptionStyleModel",
            "_view_count": null,
            "_view_module": "@jupyter-widgets/base",
            "_view_module_version": "1.2.0",
            "_view_name": "StyleView",
            "description_width": ""
          }
        },
        "bc79ba56d2fd4419899d005538de264e": {
          "model_module": "@jupyter-widgets/controls",
          "model_name": "HBoxModel",
          "model_module_version": "1.5.0",
          "state": {
            "_dom_classes": [],
            "_model_module": "@jupyter-widgets/controls",
            "_model_module_version": "1.5.0",
            "_model_name": "HBoxModel",
            "_view_count": null,
            "_view_module": "@jupyter-widgets/controls",
            "_view_module_version": "1.5.0",
            "_view_name": "HBoxView",
            "box_style": "",
            "children": [
              "IPY_MODEL_990f1253287d482e9cc965f6f3e60fec",
              "IPY_MODEL_d89e218a740b4bb4b9f6a76e662414f3",
              "IPY_MODEL_f8a62e25ce8b4a7a947da1cd2dd19959"
            ],
            "layout": "IPY_MODEL_ccf30a47027848b6be3edc731740c87e"
          }
        },
        "990f1253287d482e9cc965f6f3e60fec": {
          "model_module": "@jupyter-widgets/controls",
          "model_name": "HTMLModel",
          "model_module_version": "1.5.0",
          "state": {
            "_dom_classes": [],
            "_model_module": "@jupyter-widgets/controls",
            "_model_module_version": "1.5.0",
            "_model_name": "HTMLModel",
            "_view_count": null,
            "_view_module": "@jupyter-widgets/controls",
            "_view_module_version": "1.5.0",
            "_view_name": "HTMLView",
            "description": "",
            "description_tooltip": null,
            "layout": "IPY_MODEL_f98e8f4915d04d1fab3004d232e25a31",
            "placeholder": "​",
            "style": "IPY_MODEL_7143685a8aeb4b3eb1d1635883da6b83",
            "value": "Map: 100%"
          }
        },
        "d89e218a740b4bb4b9f6a76e662414f3": {
          "model_module": "@jupyter-widgets/controls",
          "model_name": "FloatProgressModel",
          "model_module_version": "1.5.0",
          "state": {
            "_dom_classes": [],
            "_model_module": "@jupyter-widgets/controls",
            "_model_module_version": "1.5.0",
            "_model_name": "FloatProgressModel",
            "_view_count": null,
            "_view_module": "@jupyter-widgets/controls",
            "_view_module_version": "1.5.0",
            "_view_name": "ProgressView",
            "bar_style": "success",
            "description": "",
            "description_tooltip": null,
            "layout": "IPY_MODEL_916f4f639dc448508fa1244f54f703f5",
            "max": 40000,
            "min": 0,
            "orientation": "horizontal",
            "style": "IPY_MODEL_76052b616b2b4f688f71ebd6fb873120",
            "value": 40000
          }
        },
        "f8a62e25ce8b4a7a947da1cd2dd19959": {
          "model_module": "@jupyter-widgets/controls",
          "model_name": "HTMLModel",
          "model_module_version": "1.5.0",
          "state": {
            "_dom_classes": [],
            "_model_module": "@jupyter-widgets/controls",
            "_model_module_version": "1.5.0",
            "_model_name": "HTMLModel",
            "_view_count": null,
            "_view_module": "@jupyter-widgets/controls",
            "_view_module_version": "1.5.0",
            "_view_name": "HTMLView",
            "description": "",
            "description_tooltip": null,
            "layout": "IPY_MODEL_f1d8c77ca43f4c88b115fe95f184fb43",
            "placeholder": "​",
            "style": "IPY_MODEL_9326295e25ce45b0892d027d5b56da8e",
            "value": " 40000/40000 [00:46&lt;00:00, 486.40 examples/s]"
          }
        },
        "ccf30a47027848b6be3edc731740c87e": {
          "model_module": "@jupyter-widgets/base",
          "model_name": "LayoutModel",
          "model_module_version": "1.2.0",
          "state": {
            "_model_module": "@jupyter-widgets/base",
            "_model_module_version": "1.2.0",
            "_model_name": "LayoutModel",
            "_view_count": null,
            "_view_module": "@jupyter-widgets/base",
            "_view_module_version": "1.2.0",
            "_view_name": "LayoutView",
            "align_content": null,
            "align_items": null,
            "align_self": null,
            "border": null,
            "bottom": null,
            "display": null,
            "flex": null,
            "flex_flow": null,
            "grid_area": null,
            "grid_auto_columns": null,
            "grid_auto_flow": null,
            "grid_auto_rows": null,
            "grid_column": null,
            "grid_gap": null,
            "grid_row": null,
            "grid_template_areas": null,
            "grid_template_columns": null,
            "grid_template_rows": null,
            "height": null,
            "justify_content": null,
            "justify_items": null,
            "left": null,
            "margin": null,
            "max_height": null,
            "max_width": null,
            "min_height": null,
            "min_width": null,
            "object_fit": null,
            "object_position": null,
            "order": null,
            "overflow": null,
            "overflow_x": null,
            "overflow_y": null,
            "padding": null,
            "right": null,
            "top": null,
            "visibility": null,
            "width": null
          }
        },
        "f98e8f4915d04d1fab3004d232e25a31": {
          "model_module": "@jupyter-widgets/base",
          "model_name": "LayoutModel",
          "model_module_version": "1.2.0",
          "state": {
            "_model_module": "@jupyter-widgets/base",
            "_model_module_version": "1.2.0",
            "_model_name": "LayoutModel",
            "_view_count": null,
            "_view_module": "@jupyter-widgets/base",
            "_view_module_version": "1.2.0",
            "_view_name": "LayoutView",
            "align_content": null,
            "align_items": null,
            "align_self": null,
            "border": null,
            "bottom": null,
            "display": null,
            "flex": null,
            "flex_flow": null,
            "grid_area": null,
            "grid_auto_columns": null,
            "grid_auto_flow": null,
            "grid_auto_rows": null,
            "grid_column": null,
            "grid_gap": null,
            "grid_row": null,
            "grid_template_areas": null,
            "grid_template_columns": null,
            "grid_template_rows": null,
            "height": null,
            "justify_content": null,
            "justify_items": null,
            "left": null,
            "margin": null,
            "max_height": null,
            "max_width": null,
            "min_height": null,
            "min_width": null,
            "object_fit": null,
            "object_position": null,
            "order": null,
            "overflow": null,
            "overflow_x": null,
            "overflow_y": null,
            "padding": null,
            "right": null,
            "top": null,
            "visibility": null,
            "width": null
          }
        },
        "7143685a8aeb4b3eb1d1635883da6b83": {
          "model_module": "@jupyter-widgets/controls",
          "model_name": "DescriptionStyleModel",
          "model_module_version": "1.5.0",
          "state": {
            "_model_module": "@jupyter-widgets/controls",
            "_model_module_version": "1.5.0",
            "_model_name": "DescriptionStyleModel",
            "_view_count": null,
            "_view_module": "@jupyter-widgets/base",
            "_view_module_version": "1.2.0",
            "_view_name": "StyleView",
            "description_width": ""
          }
        },
        "916f4f639dc448508fa1244f54f703f5": {
          "model_module": "@jupyter-widgets/base",
          "model_name": "LayoutModel",
          "model_module_version": "1.2.0",
          "state": {
            "_model_module": "@jupyter-widgets/base",
            "_model_module_version": "1.2.0",
            "_model_name": "LayoutModel",
            "_view_count": null,
            "_view_module": "@jupyter-widgets/base",
            "_view_module_version": "1.2.0",
            "_view_name": "LayoutView",
            "align_content": null,
            "align_items": null,
            "align_self": null,
            "border": null,
            "bottom": null,
            "display": null,
            "flex": null,
            "flex_flow": null,
            "grid_area": null,
            "grid_auto_columns": null,
            "grid_auto_flow": null,
            "grid_auto_rows": null,
            "grid_column": null,
            "grid_gap": null,
            "grid_row": null,
            "grid_template_areas": null,
            "grid_template_columns": null,
            "grid_template_rows": null,
            "height": null,
            "justify_content": null,
            "justify_items": null,
            "left": null,
            "margin": null,
            "max_height": null,
            "max_width": null,
            "min_height": null,
            "min_width": null,
            "object_fit": null,
            "object_position": null,
            "order": null,
            "overflow": null,
            "overflow_x": null,
            "overflow_y": null,
            "padding": null,
            "right": null,
            "top": null,
            "visibility": null,
            "width": null
          }
        },
        "76052b616b2b4f688f71ebd6fb873120": {
          "model_module": "@jupyter-widgets/controls",
          "model_name": "ProgressStyleModel",
          "model_module_version": "1.5.0",
          "state": {
            "_model_module": "@jupyter-widgets/controls",
            "_model_module_version": "1.5.0",
            "_model_name": "ProgressStyleModel",
            "_view_count": null,
            "_view_module": "@jupyter-widgets/base",
            "_view_module_version": "1.2.0",
            "_view_name": "StyleView",
            "bar_color": null,
            "description_width": ""
          }
        },
        "f1d8c77ca43f4c88b115fe95f184fb43": {
          "model_module": "@jupyter-widgets/base",
          "model_name": "LayoutModel",
          "model_module_version": "1.2.0",
          "state": {
            "_model_module": "@jupyter-widgets/base",
            "_model_module_version": "1.2.0",
            "_model_name": "LayoutModel",
            "_view_count": null,
            "_view_module": "@jupyter-widgets/base",
            "_view_module_version": "1.2.0",
            "_view_name": "LayoutView",
            "align_content": null,
            "align_items": null,
            "align_self": null,
            "border": null,
            "bottom": null,
            "display": null,
            "flex": null,
            "flex_flow": null,
            "grid_area": null,
            "grid_auto_columns": null,
            "grid_auto_flow": null,
            "grid_auto_rows": null,
            "grid_column": null,
            "grid_gap": null,
            "grid_row": null,
            "grid_template_areas": null,
            "grid_template_columns": null,
            "grid_template_rows": null,
            "height": null,
            "justify_content": null,
            "justify_items": null,
            "left": null,
            "margin": null,
            "max_height": null,
            "max_width": null,
            "min_height": null,
            "min_width": null,
            "object_fit": null,
            "object_position": null,
            "order": null,
            "overflow": null,
            "overflow_x": null,
            "overflow_y": null,
            "padding": null,
            "right": null,
            "top": null,
            "visibility": null,
            "width": null
          }
        },
        "9326295e25ce45b0892d027d5b56da8e": {
          "model_module": "@jupyter-widgets/controls",
          "model_name": "DescriptionStyleModel",
          "model_module_version": "1.5.0",
          "state": {
            "_model_module": "@jupyter-widgets/controls",
            "_model_module_version": "1.5.0",
            "_model_name": "DescriptionStyleModel",
            "_view_count": null,
            "_view_module": "@jupyter-widgets/base",
            "_view_module_version": "1.2.0",
            "_view_name": "StyleView",
            "description_width": ""
          }
        },
        "7fba2fbcf77b413482c711be7cbfb1f0": {
          "model_module": "@jupyter-widgets/controls",
          "model_name": "HBoxModel",
          "model_module_version": "1.5.0",
          "state": {
            "_dom_classes": [],
            "_model_module": "@jupyter-widgets/controls",
            "_model_module_version": "1.5.0",
            "_model_name": "HBoxModel",
            "_view_count": null,
            "_view_module": "@jupyter-widgets/controls",
            "_view_module_version": "1.5.0",
            "_view_name": "HBoxView",
            "box_style": "",
            "children": [
              "IPY_MODEL_00ba7e31b96d403ebf002ad3b5bc7e6f",
              "IPY_MODEL_953205f378074fa9b6beafc358eaf70c",
              "IPY_MODEL_8ad9e30ba5204d43a38accf0b77a2c39"
            ],
            "layout": "IPY_MODEL_21a73ca70702437c892cbd3999ed7991"
          }
        },
        "00ba7e31b96d403ebf002ad3b5bc7e6f": {
          "model_module": "@jupyter-widgets/controls",
          "model_name": "HTMLModel",
          "model_module_version": "1.5.0",
          "state": {
            "_dom_classes": [],
            "_model_module": "@jupyter-widgets/controls",
            "_model_module_version": "1.5.0",
            "_model_name": "HTMLModel",
            "_view_count": null,
            "_view_module": "@jupyter-widgets/controls",
            "_view_module_version": "1.5.0",
            "_view_name": "HTMLView",
            "description": "",
            "description_tooltip": null,
            "layout": "IPY_MODEL_55eb95e8c6fc4f4497238e320d7d0a7d",
            "placeholder": "​",
            "style": "IPY_MODEL_02b93b0d9d5c47f3a3a6f0c35426f3cb",
            "value": "Map: 100%"
          }
        },
        "953205f378074fa9b6beafc358eaf70c": {
          "model_module": "@jupyter-widgets/controls",
          "model_name": "FloatProgressModel",
          "model_module_version": "1.5.0",
          "state": {
            "_dom_classes": [],
            "_model_module": "@jupyter-widgets/controls",
            "_model_module_version": "1.5.0",
            "_model_name": "FloatProgressModel",
            "_view_count": null,
            "_view_module": "@jupyter-widgets/controls",
            "_view_module_version": "1.5.0",
            "_view_name": "ProgressView",
            "bar_style": "success",
            "description": "",
            "description_tooltip": null,
            "layout": "IPY_MODEL_0230ebfbb2334f9a97620faec5fba75a",
            "max": 8000,
            "min": 0,
            "orientation": "horizontal",
            "style": "IPY_MODEL_1d6b5cd88f7340f99090ed21d635e6fd",
            "value": 8000
          }
        },
        "8ad9e30ba5204d43a38accf0b77a2c39": {
          "model_module": "@jupyter-widgets/controls",
          "model_name": "HTMLModel",
          "model_module_version": "1.5.0",
          "state": {
            "_dom_classes": [],
            "_model_module": "@jupyter-widgets/controls",
            "_model_module_version": "1.5.0",
            "_model_name": "HTMLModel",
            "_view_count": null,
            "_view_module": "@jupyter-widgets/controls",
            "_view_module_version": "1.5.0",
            "_view_name": "HTMLView",
            "description": "",
            "description_tooltip": null,
            "layout": "IPY_MODEL_ccb69610ecc44b92b1bf48c42dab0ca7",
            "placeholder": "​",
            "style": "IPY_MODEL_1a21ae51df3a4194bb159ebf306f39b4",
            "value": " 8000/8000 [00:05&lt;00:00, 1700.03 examples/s]"
          }
        },
        "21a73ca70702437c892cbd3999ed7991": {
          "model_module": "@jupyter-widgets/base",
          "model_name": "LayoutModel",
          "model_module_version": "1.2.0",
          "state": {
            "_model_module": "@jupyter-widgets/base",
            "_model_module_version": "1.2.0",
            "_model_name": "LayoutModel",
            "_view_count": null,
            "_view_module": "@jupyter-widgets/base",
            "_view_module_version": "1.2.0",
            "_view_name": "LayoutView",
            "align_content": null,
            "align_items": null,
            "align_self": null,
            "border": null,
            "bottom": null,
            "display": null,
            "flex": null,
            "flex_flow": null,
            "grid_area": null,
            "grid_auto_columns": null,
            "grid_auto_flow": null,
            "grid_auto_rows": null,
            "grid_column": null,
            "grid_gap": null,
            "grid_row": null,
            "grid_template_areas": null,
            "grid_template_columns": null,
            "grid_template_rows": null,
            "height": null,
            "justify_content": null,
            "justify_items": null,
            "left": null,
            "margin": null,
            "max_height": null,
            "max_width": null,
            "min_height": null,
            "min_width": null,
            "object_fit": null,
            "object_position": null,
            "order": null,
            "overflow": null,
            "overflow_x": null,
            "overflow_y": null,
            "padding": null,
            "right": null,
            "top": null,
            "visibility": null,
            "width": null
          }
        },
        "55eb95e8c6fc4f4497238e320d7d0a7d": {
          "model_module": "@jupyter-widgets/base",
          "model_name": "LayoutModel",
          "model_module_version": "1.2.0",
          "state": {
            "_model_module": "@jupyter-widgets/base",
            "_model_module_version": "1.2.0",
            "_model_name": "LayoutModel",
            "_view_count": null,
            "_view_module": "@jupyter-widgets/base",
            "_view_module_version": "1.2.0",
            "_view_name": "LayoutView",
            "align_content": null,
            "align_items": null,
            "align_self": null,
            "border": null,
            "bottom": null,
            "display": null,
            "flex": null,
            "flex_flow": null,
            "grid_area": null,
            "grid_auto_columns": null,
            "grid_auto_flow": null,
            "grid_auto_rows": null,
            "grid_column": null,
            "grid_gap": null,
            "grid_row": null,
            "grid_template_areas": null,
            "grid_template_columns": null,
            "grid_template_rows": null,
            "height": null,
            "justify_content": null,
            "justify_items": null,
            "left": null,
            "margin": null,
            "max_height": null,
            "max_width": null,
            "min_height": null,
            "min_width": null,
            "object_fit": null,
            "object_position": null,
            "order": null,
            "overflow": null,
            "overflow_x": null,
            "overflow_y": null,
            "padding": null,
            "right": null,
            "top": null,
            "visibility": null,
            "width": null
          }
        },
        "02b93b0d9d5c47f3a3a6f0c35426f3cb": {
          "model_module": "@jupyter-widgets/controls",
          "model_name": "DescriptionStyleModel",
          "model_module_version": "1.5.0",
          "state": {
            "_model_module": "@jupyter-widgets/controls",
            "_model_module_version": "1.5.0",
            "_model_name": "DescriptionStyleModel",
            "_view_count": null,
            "_view_module": "@jupyter-widgets/base",
            "_view_module_version": "1.2.0",
            "_view_name": "StyleView",
            "description_width": ""
          }
        },
        "0230ebfbb2334f9a97620faec5fba75a": {
          "model_module": "@jupyter-widgets/base",
          "model_name": "LayoutModel",
          "model_module_version": "1.2.0",
          "state": {
            "_model_module": "@jupyter-widgets/base",
            "_model_module_version": "1.2.0",
            "_model_name": "LayoutModel",
            "_view_count": null,
            "_view_module": "@jupyter-widgets/base",
            "_view_module_version": "1.2.0",
            "_view_name": "LayoutView",
            "align_content": null,
            "align_items": null,
            "align_self": null,
            "border": null,
            "bottom": null,
            "display": null,
            "flex": null,
            "flex_flow": null,
            "grid_area": null,
            "grid_auto_columns": null,
            "grid_auto_flow": null,
            "grid_auto_rows": null,
            "grid_column": null,
            "grid_gap": null,
            "grid_row": null,
            "grid_template_areas": null,
            "grid_template_columns": null,
            "grid_template_rows": null,
            "height": null,
            "justify_content": null,
            "justify_items": null,
            "left": null,
            "margin": null,
            "max_height": null,
            "max_width": null,
            "min_height": null,
            "min_width": null,
            "object_fit": null,
            "object_position": null,
            "order": null,
            "overflow": null,
            "overflow_x": null,
            "overflow_y": null,
            "padding": null,
            "right": null,
            "top": null,
            "visibility": null,
            "width": null
          }
        },
        "1d6b5cd88f7340f99090ed21d635e6fd": {
          "model_module": "@jupyter-widgets/controls",
          "model_name": "ProgressStyleModel",
          "model_module_version": "1.5.0",
          "state": {
            "_model_module": "@jupyter-widgets/controls",
            "_model_module_version": "1.5.0",
            "_model_name": "ProgressStyleModel",
            "_view_count": null,
            "_view_module": "@jupyter-widgets/base",
            "_view_module_version": "1.2.0",
            "_view_name": "StyleView",
            "bar_color": null,
            "description_width": ""
          }
        },
        "ccb69610ecc44b92b1bf48c42dab0ca7": {
          "model_module": "@jupyter-widgets/base",
          "model_name": "LayoutModel",
          "model_module_version": "1.2.0",
          "state": {
            "_model_module": "@jupyter-widgets/base",
            "_model_module_version": "1.2.0",
            "_model_name": "LayoutModel",
            "_view_count": null,
            "_view_module": "@jupyter-widgets/base",
            "_view_module_version": "1.2.0",
            "_view_name": "LayoutView",
            "align_content": null,
            "align_items": null,
            "align_self": null,
            "border": null,
            "bottom": null,
            "display": null,
            "flex": null,
            "flex_flow": null,
            "grid_area": null,
            "grid_auto_columns": null,
            "grid_auto_flow": null,
            "grid_auto_rows": null,
            "grid_column": null,
            "grid_gap": null,
            "grid_row": null,
            "grid_template_areas": null,
            "grid_template_columns": null,
            "grid_template_rows": null,
            "height": null,
            "justify_content": null,
            "justify_items": null,
            "left": null,
            "margin": null,
            "max_height": null,
            "max_width": null,
            "min_height": null,
            "min_width": null,
            "object_fit": null,
            "object_position": null,
            "order": null,
            "overflow": null,
            "overflow_x": null,
            "overflow_y": null,
            "padding": null,
            "right": null,
            "top": null,
            "visibility": null,
            "width": null
          }
        },
        "1a21ae51df3a4194bb159ebf306f39b4": {
          "model_module": "@jupyter-widgets/controls",
          "model_name": "DescriptionStyleModel",
          "model_module_version": "1.5.0",
          "state": {
            "_model_module": "@jupyter-widgets/controls",
            "_model_module_version": "1.5.0",
            "_model_name": "DescriptionStyleModel",
            "_view_count": null,
            "_view_module": "@jupyter-widgets/base",
            "_view_module_version": "1.2.0",
            "_view_name": "StyleView",
            "description_width": ""
          }
        },
        "2aba7f399ebd4b27b4564d19c3d87610": {
          "model_module": "@jupyter-widgets/controls",
          "model_name": "HBoxModel",
          "model_module_version": "1.5.0",
          "state": {
            "_dom_classes": [],
            "_model_module": "@jupyter-widgets/controls",
            "_model_module_version": "1.5.0",
            "_model_name": "HBoxModel",
            "_view_count": null,
            "_view_module": "@jupyter-widgets/controls",
            "_view_module_version": "1.5.0",
            "_view_name": "HBoxView",
            "box_style": "",
            "children": [
              "IPY_MODEL_fd7dbd8e13644a0d9086ece25d4b370d",
              "IPY_MODEL_c61cac6cabfe4991ad139ad3c47f6934",
              "IPY_MODEL_596e8974283d4571ab0d345459b81465"
            ],
            "layout": "IPY_MODEL_32a353dd7a944bc48883686d4efe0a61"
          }
        },
        "fd7dbd8e13644a0d9086ece25d4b370d": {
          "model_module": "@jupyter-widgets/controls",
          "model_name": "HTMLModel",
          "model_module_version": "1.5.0",
          "state": {
            "_dom_classes": [],
            "_model_module": "@jupyter-widgets/controls",
            "_model_module_version": "1.5.0",
            "_model_name": "HTMLModel",
            "_view_count": null,
            "_view_module": "@jupyter-widgets/controls",
            "_view_module_version": "1.5.0",
            "_view_name": "HTMLView",
            "description": "",
            "description_tooltip": null,
            "layout": "IPY_MODEL_7d1465232cd94da0935122178f1c010e",
            "placeholder": "​",
            "style": "IPY_MODEL_ed98a49856e341f39c06e1a438142bf5",
            "value": "Map: 100%"
          }
        },
        "c61cac6cabfe4991ad139ad3c47f6934": {
          "model_module": "@jupyter-widgets/controls",
          "model_name": "FloatProgressModel",
          "model_module_version": "1.5.0",
          "state": {
            "_dom_classes": [],
            "_model_module": "@jupyter-widgets/controls",
            "_model_module_version": "1.5.0",
            "_model_name": "FloatProgressModel",
            "_view_count": null,
            "_view_module": "@jupyter-widgets/controls",
            "_view_module_version": "1.5.0",
            "_view_name": "ProgressView",
            "bar_style": "success",
            "description": "",
            "description_tooltip": null,
            "layout": "IPY_MODEL_5b7052ebbffe427285119a8860217378",
            "max": 58465,
            "min": 0,
            "orientation": "horizontal",
            "style": "IPY_MODEL_9829519cef3f4150967e25022570d786",
            "value": 58465
          }
        },
        "596e8974283d4571ab0d345459b81465": {
          "model_module": "@jupyter-widgets/controls",
          "model_name": "HTMLModel",
          "model_module_version": "1.5.0",
          "state": {
            "_dom_classes": [],
            "_model_module": "@jupyter-widgets/controls",
            "_model_module_version": "1.5.0",
            "_model_name": "HTMLModel",
            "_view_count": null,
            "_view_module": "@jupyter-widgets/controls",
            "_view_module_version": "1.5.0",
            "_view_name": "HTMLView",
            "description": "",
            "description_tooltip": null,
            "layout": "IPY_MODEL_bdb839c96b5d41239314ce130c1eccae",
            "placeholder": "​",
            "style": "IPY_MODEL_63b0b03638c74195a2159c9285694242",
            "value": " 58465/58465 [00:46&lt;00:00, 1200.43 examples/s]"
          }
        },
        "32a353dd7a944bc48883686d4efe0a61": {
          "model_module": "@jupyter-widgets/base",
          "model_name": "LayoutModel",
          "model_module_version": "1.2.0",
          "state": {
            "_model_module": "@jupyter-widgets/base",
            "_model_module_version": "1.2.0",
            "_model_name": "LayoutModel",
            "_view_count": null,
            "_view_module": "@jupyter-widgets/base",
            "_view_module_version": "1.2.0",
            "_view_name": "LayoutView",
            "align_content": null,
            "align_items": null,
            "align_self": null,
            "border": null,
            "bottom": null,
            "display": null,
            "flex": null,
            "flex_flow": null,
            "grid_area": null,
            "grid_auto_columns": null,
            "grid_auto_flow": null,
            "grid_auto_rows": null,
            "grid_column": null,
            "grid_gap": null,
            "grid_row": null,
            "grid_template_areas": null,
            "grid_template_columns": null,
            "grid_template_rows": null,
            "height": null,
            "justify_content": null,
            "justify_items": null,
            "left": null,
            "margin": null,
            "max_height": null,
            "max_width": null,
            "min_height": null,
            "min_width": null,
            "object_fit": null,
            "object_position": null,
            "order": null,
            "overflow": null,
            "overflow_x": null,
            "overflow_y": null,
            "padding": null,
            "right": null,
            "top": null,
            "visibility": null,
            "width": null
          }
        },
        "7d1465232cd94da0935122178f1c010e": {
          "model_module": "@jupyter-widgets/base",
          "model_name": "LayoutModel",
          "model_module_version": "1.2.0",
          "state": {
            "_model_module": "@jupyter-widgets/base",
            "_model_module_version": "1.2.0",
            "_model_name": "LayoutModel",
            "_view_count": null,
            "_view_module": "@jupyter-widgets/base",
            "_view_module_version": "1.2.0",
            "_view_name": "LayoutView",
            "align_content": null,
            "align_items": null,
            "align_self": null,
            "border": null,
            "bottom": null,
            "display": null,
            "flex": null,
            "flex_flow": null,
            "grid_area": null,
            "grid_auto_columns": null,
            "grid_auto_flow": null,
            "grid_auto_rows": null,
            "grid_column": null,
            "grid_gap": null,
            "grid_row": null,
            "grid_template_areas": null,
            "grid_template_columns": null,
            "grid_template_rows": null,
            "height": null,
            "justify_content": null,
            "justify_items": null,
            "left": null,
            "margin": null,
            "max_height": null,
            "max_width": null,
            "min_height": null,
            "min_width": null,
            "object_fit": null,
            "object_position": null,
            "order": null,
            "overflow": null,
            "overflow_x": null,
            "overflow_y": null,
            "padding": null,
            "right": null,
            "top": null,
            "visibility": null,
            "width": null
          }
        },
        "ed98a49856e341f39c06e1a438142bf5": {
          "model_module": "@jupyter-widgets/controls",
          "model_name": "DescriptionStyleModel",
          "model_module_version": "1.5.0",
          "state": {
            "_model_module": "@jupyter-widgets/controls",
            "_model_module_version": "1.5.0",
            "_model_name": "DescriptionStyleModel",
            "_view_count": null,
            "_view_module": "@jupyter-widgets/base",
            "_view_module_version": "1.2.0",
            "_view_name": "StyleView",
            "description_width": ""
          }
        },
        "5b7052ebbffe427285119a8860217378": {
          "model_module": "@jupyter-widgets/base",
          "model_name": "LayoutModel",
          "model_module_version": "1.2.0",
          "state": {
            "_model_module": "@jupyter-widgets/base",
            "_model_module_version": "1.2.0",
            "_model_name": "LayoutModel",
            "_view_count": null,
            "_view_module": "@jupyter-widgets/base",
            "_view_module_version": "1.2.0",
            "_view_name": "LayoutView",
            "align_content": null,
            "align_items": null,
            "align_self": null,
            "border": null,
            "bottom": null,
            "display": null,
            "flex": null,
            "flex_flow": null,
            "grid_area": null,
            "grid_auto_columns": null,
            "grid_auto_flow": null,
            "grid_auto_rows": null,
            "grid_column": null,
            "grid_gap": null,
            "grid_row": null,
            "grid_template_areas": null,
            "grid_template_columns": null,
            "grid_template_rows": null,
            "height": null,
            "justify_content": null,
            "justify_items": null,
            "left": null,
            "margin": null,
            "max_height": null,
            "max_width": null,
            "min_height": null,
            "min_width": null,
            "object_fit": null,
            "object_position": null,
            "order": null,
            "overflow": null,
            "overflow_x": null,
            "overflow_y": null,
            "padding": null,
            "right": null,
            "top": null,
            "visibility": null,
            "width": null
          }
        },
        "9829519cef3f4150967e25022570d786": {
          "model_module": "@jupyter-widgets/controls",
          "model_name": "ProgressStyleModel",
          "model_module_version": "1.5.0",
          "state": {
            "_model_module": "@jupyter-widgets/controls",
            "_model_module_version": "1.5.0",
            "_model_name": "ProgressStyleModel",
            "_view_count": null,
            "_view_module": "@jupyter-widgets/base",
            "_view_module_version": "1.2.0",
            "_view_name": "StyleView",
            "bar_color": null,
            "description_width": ""
          }
        },
        "bdb839c96b5d41239314ce130c1eccae": {
          "model_module": "@jupyter-widgets/base",
          "model_name": "LayoutModel",
          "model_module_version": "1.2.0",
          "state": {
            "_model_module": "@jupyter-widgets/base",
            "_model_module_version": "1.2.0",
            "_model_name": "LayoutModel",
            "_view_count": null,
            "_view_module": "@jupyter-widgets/base",
            "_view_module_version": "1.2.0",
            "_view_name": "LayoutView",
            "align_content": null,
            "align_items": null,
            "align_self": null,
            "border": null,
            "bottom": null,
            "display": null,
            "flex": null,
            "flex_flow": null,
            "grid_area": null,
            "grid_auto_columns": null,
            "grid_auto_flow": null,
            "grid_auto_rows": null,
            "grid_column": null,
            "grid_gap": null,
            "grid_row": null,
            "grid_template_areas": null,
            "grid_template_columns": null,
            "grid_template_rows": null,
            "height": null,
            "justify_content": null,
            "justify_items": null,
            "left": null,
            "margin": null,
            "max_height": null,
            "max_width": null,
            "min_height": null,
            "min_width": null,
            "object_fit": null,
            "object_position": null,
            "order": null,
            "overflow": null,
            "overflow_x": null,
            "overflow_y": null,
            "padding": null,
            "right": null,
            "top": null,
            "visibility": null,
            "width": null
          }
        },
        "63b0b03638c74195a2159c9285694242": {
          "model_module": "@jupyter-widgets/controls",
          "model_name": "DescriptionStyleModel",
          "model_module_version": "1.5.0",
          "state": {
            "_model_module": "@jupyter-widgets/controls",
            "_model_module_version": "1.5.0",
            "_model_name": "DescriptionStyleModel",
            "_view_count": null,
            "_view_module": "@jupyter-widgets/base",
            "_view_module_version": "1.2.0",
            "_view_name": "StyleView",
            "description_width": ""
          }
        },
        "c5e9f52524e741cb995953c00a8b461c": {
          "model_module": "@jupyter-widgets/controls",
          "model_name": "HBoxModel",
          "model_module_version": "1.5.0",
          "state": {
            "_dom_classes": [],
            "_model_module": "@jupyter-widgets/controls",
            "_model_module_version": "1.5.0",
            "_model_name": "HBoxModel",
            "_view_count": null,
            "_view_module": "@jupyter-widgets/controls",
            "_view_module_version": "1.5.0",
            "_view_name": "HBoxView",
            "box_style": "",
            "children": [
              "IPY_MODEL_b4a3a5b9f64b4bbb9e19e092ab113430",
              "IPY_MODEL_dbbb950dede242c387fc7b8fe1d65efa",
              "IPY_MODEL_3d604516a49c40b3814df9472d4b3a48"
            ],
            "layout": "IPY_MODEL_a956b0ae2b324490ab2f7334b59c6617"
          }
        },
        "b4a3a5b9f64b4bbb9e19e092ab113430": {
          "model_module": "@jupyter-widgets/controls",
          "model_name": "HTMLModel",
          "model_module_version": "1.5.0",
          "state": {
            "_dom_classes": [],
            "_model_module": "@jupyter-widgets/controls",
            "_model_module_version": "1.5.0",
            "_model_name": "HTMLModel",
            "_view_count": null,
            "_view_module": "@jupyter-widgets/controls",
            "_view_module_version": "1.5.0",
            "_view_name": "HTMLView",
            "description": "",
            "description_tooltip": null,
            "layout": "IPY_MODEL_bdd29d34865e436d92f3a2db3db5c38f",
            "placeholder": "​",
            "style": "IPY_MODEL_47b05e2e58354049814d35b82c2cd3fb",
            "value": "model.safetensors: 100%"
          }
        },
        "dbbb950dede242c387fc7b8fe1d65efa": {
          "model_module": "@jupyter-widgets/controls",
          "model_name": "FloatProgressModel",
          "model_module_version": "1.5.0",
          "state": {
            "_dom_classes": [],
            "_model_module": "@jupyter-widgets/controls",
            "_model_module_version": "1.5.0",
            "_model_name": "FloatProgressModel",
            "_view_count": null,
            "_view_module": "@jupyter-widgets/controls",
            "_view_module_version": "1.5.0",
            "_view_name": "ProgressView",
            "bar_style": "success",
            "description": "",
            "description_tooltip": null,
            "layout": "IPY_MODEL_a0f976b9ebd143408e50e20d352adf48",
            "max": 267954768,
            "min": 0,
            "orientation": "horizontal",
            "style": "IPY_MODEL_cd2a784521b547e9abec43765fb49cd6",
            "value": 267954768
          }
        },
        "3d604516a49c40b3814df9472d4b3a48": {
          "model_module": "@jupyter-widgets/controls",
          "model_name": "HTMLModel",
          "model_module_version": "1.5.0",
          "state": {
            "_dom_classes": [],
            "_model_module": "@jupyter-widgets/controls",
            "_model_module_version": "1.5.0",
            "_model_name": "HTMLModel",
            "_view_count": null,
            "_view_module": "@jupyter-widgets/controls",
            "_view_module_version": "1.5.0",
            "_view_name": "HTMLView",
            "description": "",
            "description_tooltip": null,
            "layout": "IPY_MODEL_2bfc2575e3c9446896a19e7f22055003",
            "placeholder": "​",
            "style": "IPY_MODEL_db2efc99b92048809ac4cd2cb3d00b9c",
            "value": " 268M/268M [00:04&lt;00:00, 86.8MB/s]"
          }
        },
        "a956b0ae2b324490ab2f7334b59c6617": {
          "model_module": "@jupyter-widgets/base",
          "model_name": "LayoutModel",
          "model_module_version": "1.2.0",
          "state": {
            "_model_module": "@jupyter-widgets/base",
            "_model_module_version": "1.2.0",
            "_model_name": "LayoutModel",
            "_view_count": null,
            "_view_module": "@jupyter-widgets/base",
            "_view_module_version": "1.2.0",
            "_view_name": "LayoutView",
            "align_content": null,
            "align_items": null,
            "align_self": null,
            "border": null,
            "bottom": null,
            "display": null,
            "flex": null,
            "flex_flow": null,
            "grid_area": null,
            "grid_auto_columns": null,
            "grid_auto_flow": null,
            "grid_auto_rows": null,
            "grid_column": null,
            "grid_gap": null,
            "grid_row": null,
            "grid_template_areas": null,
            "grid_template_columns": null,
            "grid_template_rows": null,
            "height": null,
            "justify_content": null,
            "justify_items": null,
            "left": null,
            "margin": null,
            "max_height": null,
            "max_width": null,
            "min_height": null,
            "min_width": null,
            "object_fit": null,
            "object_position": null,
            "order": null,
            "overflow": null,
            "overflow_x": null,
            "overflow_y": null,
            "padding": null,
            "right": null,
            "top": null,
            "visibility": null,
            "width": null
          }
        },
        "bdd29d34865e436d92f3a2db3db5c38f": {
          "model_module": "@jupyter-widgets/base",
          "model_name": "LayoutModel",
          "model_module_version": "1.2.0",
          "state": {
            "_model_module": "@jupyter-widgets/base",
            "_model_module_version": "1.2.0",
            "_model_name": "LayoutModel",
            "_view_count": null,
            "_view_module": "@jupyter-widgets/base",
            "_view_module_version": "1.2.0",
            "_view_name": "LayoutView",
            "align_content": null,
            "align_items": null,
            "align_self": null,
            "border": null,
            "bottom": null,
            "display": null,
            "flex": null,
            "flex_flow": null,
            "grid_area": null,
            "grid_auto_columns": null,
            "grid_auto_flow": null,
            "grid_auto_rows": null,
            "grid_column": null,
            "grid_gap": null,
            "grid_row": null,
            "grid_template_areas": null,
            "grid_template_columns": null,
            "grid_template_rows": null,
            "height": null,
            "justify_content": null,
            "justify_items": null,
            "left": null,
            "margin": null,
            "max_height": null,
            "max_width": null,
            "min_height": null,
            "min_width": null,
            "object_fit": null,
            "object_position": null,
            "order": null,
            "overflow": null,
            "overflow_x": null,
            "overflow_y": null,
            "padding": null,
            "right": null,
            "top": null,
            "visibility": null,
            "width": null
          }
        },
        "47b05e2e58354049814d35b82c2cd3fb": {
          "model_module": "@jupyter-widgets/controls",
          "model_name": "DescriptionStyleModel",
          "model_module_version": "1.5.0",
          "state": {
            "_model_module": "@jupyter-widgets/controls",
            "_model_module_version": "1.5.0",
            "_model_name": "DescriptionStyleModel",
            "_view_count": null,
            "_view_module": "@jupyter-widgets/base",
            "_view_module_version": "1.2.0",
            "_view_name": "StyleView",
            "description_width": ""
          }
        },
        "a0f976b9ebd143408e50e20d352adf48": {
          "model_module": "@jupyter-widgets/base",
          "model_name": "LayoutModel",
          "model_module_version": "1.2.0",
          "state": {
            "_model_module": "@jupyter-widgets/base",
            "_model_module_version": "1.2.0",
            "_model_name": "LayoutModel",
            "_view_count": null,
            "_view_module": "@jupyter-widgets/base",
            "_view_module_version": "1.2.0",
            "_view_name": "LayoutView",
            "align_content": null,
            "align_items": null,
            "align_self": null,
            "border": null,
            "bottom": null,
            "display": null,
            "flex": null,
            "flex_flow": null,
            "grid_area": null,
            "grid_auto_columns": null,
            "grid_auto_flow": null,
            "grid_auto_rows": null,
            "grid_column": null,
            "grid_gap": null,
            "grid_row": null,
            "grid_template_areas": null,
            "grid_template_columns": null,
            "grid_template_rows": null,
            "height": null,
            "justify_content": null,
            "justify_items": null,
            "left": null,
            "margin": null,
            "max_height": null,
            "max_width": null,
            "min_height": null,
            "min_width": null,
            "object_fit": null,
            "object_position": null,
            "order": null,
            "overflow": null,
            "overflow_x": null,
            "overflow_y": null,
            "padding": null,
            "right": null,
            "top": null,
            "visibility": null,
            "width": null
          }
        },
        "cd2a784521b547e9abec43765fb49cd6": {
          "model_module": "@jupyter-widgets/controls",
          "model_name": "ProgressStyleModel",
          "model_module_version": "1.5.0",
          "state": {
            "_model_module": "@jupyter-widgets/controls",
            "_model_module_version": "1.5.0",
            "_model_name": "ProgressStyleModel",
            "_view_count": null,
            "_view_module": "@jupyter-widgets/base",
            "_view_module_version": "1.2.0",
            "_view_name": "StyleView",
            "bar_color": null,
            "description_width": ""
          }
        },
        "2bfc2575e3c9446896a19e7f22055003": {
          "model_module": "@jupyter-widgets/base",
          "model_name": "LayoutModel",
          "model_module_version": "1.2.0",
          "state": {
            "_model_module": "@jupyter-widgets/base",
            "_model_module_version": "1.2.0",
            "_model_name": "LayoutModel",
            "_view_count": null,
            "_view_module": "@jupyter-widgets/base",
            "_view_module_version": "1.2.0",
            "_view_name": "LayoutView",
            "align_content": null,
            "align_items": null,
            "align_self": null,
            "border": null,
            "bottom": null,
            "display": null,
            "flex": null,
            "flex_flow": null,
            "grid_area": null,
            "grid_auto_columns": null,
            "grid_auto_flow": null,
            "grid_auto_rows": null,
            "grid_column": null,
            "grid_gap": null,
            "grid_row": null,
            "grid_template_areas": null,
            "grid_template_columns": null,
            "grid_template_rows": null,
            "height": null,
            "justify_content": null,
            "justify_items": null,
            "left": null,
            "margin": null,
            "max_height": null,
            "max_width": null,
            "min_height": null,
            "min_width": null,
            "object_fit": null,
            "object_position": null,
            "order": null,
            "overflow": null,
            "overflow_x": null,
            "overflow_y": null,
            "padding": null,
            "right": null,
            "top": null,
            "visibility": null,
            "width": null
          }
        },
        "db2efc99b92048809ac4cd2cb3d00b9c": {
          "model_module": "@jupyter-widgets/controls",
          "model_name": "DescriptionStyleModel",
          "model_module_version": "1.5.0",
          "state": {
            "_model_module": "@jupyter-widgets/controls",
            "_model_module_version": "1.5.0",
            "_model_name": "DescriptionStyleModel",
            "_view_count": null,
            "_view_module": "@jupyter-widgets/base",
            "_view_module_version": "1.2.0",
            "_view_name": "StyleView",
            "description_width": ""
          }
        },
        "05af96cdd3004394bf7163bb03151c6a": {
          "model_module": "@jupyter-widgets/controls",
          "model_name": "HBoxModel",
          "model_module_version": "1.5.0",
          "state": {
            "_dom_classes": [],
            "_model_module": "@jupyter-widgets/controls",
            "_model_module_version": "1.5.0",
            "_model_name": "HBoxModel",
            "_view_count": null,
            "_view_module": "@jupyter-widgets/controls",
            "_view_module_version": "1.5.0",
            "_view_name": "HBoxView",
            "box_style": "",
            "children": [
              "IPY_MODEL_5b8c04a97ca94453adb1c1bc529b72a0",
              "IPY_MODEL_dee3ff27f74b4a859c7c6d3500eccebb",
              "IPY_MODEL_fc711401951e42e2b393086d69709dad"
            ],
            "layout": "IPY_MODEL_346a47634ae745fea94a6f166d6aee4e"
          }
        },
        "5b8c04a97ca94453adb1c1bc529b72a0": {
          "model_module": "@jupyter-widgets/controls",
          "model_name": "HTMLModel",
          "model_module_version": "1.5.0",
          "state": {
            "_dom_classes": [],
            "_model_module": "@jupyter-widgets/controls",
            "_model_module_version": "1.5.0",
            "_model_name": "HTMLModel",
            "_view_count": null,
            "_view_module": "@jupyter-widgets/controls",
            "_view_module_version": "1.5.0",
            "_view_name": "HTMLView",
            "description": "",
            "description_tooltip": null,
            "layout": "IPY_MODEL_97b9703210154a18bdfdcf1260f5bedf",
            "placeholder": "​",
            "style": "IPY_MODEL_76c8d9b12b0145c88407cdc6fd12500a",
            "value": "Downloading builder script: 100%"
          }
        },
        "dee3ff27f74b4a859c7c6d3500eccebb": {
          "model_module": "@jupyter-widgets/controls",
          "model_name": "FloatProgressModel",
          "model_module_version": "1.5.0",
          "state": {
            "_dom_classes": [],
            "_model_module": "@jupyter-widgets/controls",
            "_model_module_version": "1.5.0",
            "_model_name": "FloatProgressModel",
            "_view_count": null,
            "_view_module": "@jupyter-widgets/controls",
            "_view_module_version": "1.5.0",
            "_view_name": "ProgressView",
            "bar_style": "success",
            "description": "",
            "description_tooltip": null,
            "layout": "IPY_MODEL_bcb83b8321db4b36a4c1a6f87eb71300",
            "max": 4203,
            "min": 0,
            "orientation": "horizontal",
            "style": "IPY_MODEL_9e90a38f9d234f17877fa39355061384",
            "value": 4203
          }
        },
        "fc711401951e42e2b393086d69709dad": {
          "model_module": "@jupyter-widgets/controls",
          "model_name": "HTMLModel",
          "model_module_version": "1.5.0",
          "state": {
            "_dom_classes": [],
            "_model_module": "@jupyter-widgets/controls",
            "_model_module_version": "1.5.0",
            "_model_name": "HTMLModel",
            "_view_count": null,
            "_view_module": "@jupyter-widgets/controls",
            "_view_module_version": "1.5.0",
            "_view_name": "HTMLView",
            "description": "",
            "description_tooltip": null,
            "layout": "IPY_MODEL_0db01ca6c62742dea00ca5afd9bc31a3",
            "placeholder": "​",
            "style": "IPY_MODEL_9bc02e490fa141548a1aa3db0ed89b9a",
            "value": " 4.20k/4.20k [00:00&lt;00:00, 192kB/s]"
          }
        },
        "346a47634ae745fea94a6f166d6aee4e": {
          "model_module": "@jupyter-widgets/base",
          "model_name": "LayoutModel",
          "model_module_version": "1.2.0",
          "state": {
            "_model_module": "@jupyter-widgets/base",
            "_model_module_version": "1.2.0",
            "_model_name": "LayoutModel",
            "_view_count": null,
            "_view_module": "@jupyter-widgets/base",
            "_view_module_version": "1.2.0",
            "_view_name": "LayoutView",
            "align_content": null,
            "align_items": null,
            "align_self": null,
            "border": null,
            "bottom": null,
            "display": null,
            "flex": null,
            "flex_flow": null,
            "grid_area": null,
            "grid_auto_columns": null,
            "grid_auto_flow": null,
            "grid_auto_rows": null,
            "grid_column": null,
            "grid_gap": null,
            "grid_row": null,
            "grid_template_areas": null,
            "grid_template_columns": null,
            "grid_template_rows": null,
            "height": null,
            "justify_content": null,
            "justify_items": null,
            "left": null,
            "margin": null,
            "max_height": null,
            "max_width": null,
            "min_height": null,
            "min_width": null,
            "object_fit": null,
            "object_position": null,
            "order": null,
            "overflow": null,
            "overflow_x": null,
            "overflow_y": null,
            "padding": null,
            "right": null,
            "top": null,
            "visibility": null,
            "width": null
          }
        },
        "97b9703210154a18bdfdcf1260f5bedf": {
          "model_module": "@jupyter-widgets/base",
          "model_name": "LayoutModel",
          "model_module_version": "1.2.0",
          "state": {
            "_model_module": "@jupyter-widgets/base",
            "_model_module_version": "1.2.0",
            "_model_name": "LayoutModel",
            "_view_count": null,
            "_view_module": "@jupyter-widgets/base",
            "_view_module_version": "1.2.0",
            "_view_name": "LayoutView",
            "align_content": null,
            "align_items": null,
            "align_self": null,
            "border": null,
            "bottom": null,
            "display": null,
            "flex": null,
            "flex_flow": null,
            "grid_area": null,
            "grid_auto_columns": null,
            "grid_auto_flow": null,
            "grid_auto_rows": null,
            "grid_column": null,
            "grid_gap": null,
            "grid_row": null,
            "grid_template_areas": null,
            "grid_template_columns": null,
            "grid_template_rows": null,
            "height": null,
            "justify_content": null,
            "justify_items": null,
            "left": null,
            "margin": null,
            "max_height": null,
            "max_width": null,
            "min_height": null,
            "min_width": null,
            "object_fit": null,
            "object_position": null,
            "order": null,
            "overflow": null,
            "overflow_x": null,
            "overflow_y": null,
            "padding": null,
            "right": null,
            "top": null,
            "visibility": null,
            "width": null
          }
        },
        "76c8d9b12b0145c88407cdc6fd12500a": {
          "model_module": "@jupyter-widgets/controls",
          "model_name": "DescriptionStyleModel",
          "model_module_version": "1.5.0",
          "state": {
            "_model_module": "@jupyter-widgets/controls",
            "_model_module_version": "1.5.0",
            "_model_name": "DescriptionStyleModel",
            "_view_count": null,
            "_view_module": "@jupyter-widgets/base",
            "_view_module_version": "1.2.0",
            "_view_name": "StyleView",
            "description_width": ""
          }
        },
        "bcb83b8321db4b36a4c1a6f87eb71300": {
          "model_module": "@jupyter-widgets/base",
          "model_name": "LayoutModel",
          "model_module_version": "1.2.0",
          "state": {
            "_model_module": "@jupyter-widgets/base",
            "_model_module_version": "1.2.0",
            "_model_name": "LayoutModel",
            "_view_count": null,
            "_view_module": "@jupyter-widgets/base",
            "_view_module_version": "1.2.0",
            "_view_name": "LayoutView",
            "align_content": null,
            "align_items": null,
            "align_self": null,
            "border": null,
            "bottom": null,
            "display": null,
            "flex": null,
            "flex_flow": null,
            "grid_area": null,
            "grid_auto_columns": null,
            "grid_auto_flow": null,
            "grid_auto_rows": null,
            "grid_column": null,
            "grid_gap": null,
            "grid_row": null,
            "grid_template_areas": null,
            "grid_template_columns": null,
            "grid_template_rows": null,
            "height": null,
            "justify_content": null,
            "justify_items": null,
            "left": null,
            "margin": null,
            "max_height": null,
            "max_width": null,
            "min_height": null,
            "min_width": null,
            "object_fit": null,
            "object_position": null,
            "order": null,
            "overflow": null,
            "overflow_x": null,
            "overflow_y": null,
            "padding": null,
            "right": null,
            "top": null,
            "visibility": null,
            "width": null
          }
        },
        "9e90a38f9d234f17877fa39355061384": {
          "model_module": "@jupyter-widgets/controls",
          "model_name": "ProgressStyleModel",
          "model_module_version": "1.5.0",
          "state": {
            "_model_module": "@jupyter-widgets/controls",
            "_model_module_version": "1.5.0",
            "_model_name": "ProgressStyleModel",
            "_view_count": null,
            "_view_module": "@jupyter-widgets/base",
            "_view_module_version": "1.2.0",
            "_view_name": "StyleView",
            "bar_color": null,
            "description_width": ""
          }
        },
        "0db01ca6c62742dea00ca5afd9bc31a3": {
          "model_module": "@jupyter-widgets/base",
          "model_name": "LayoutModel",
          "model_module_version": "1.2.0",
          "state": {
            "_model_module": "@jupyter-widgets/base",
            "_model_module_version": "1.2.0",
            "_model_name": "LayoutModel",
            "_view_count": null,
            "_view_module": "@jupyter-widgets/base",
            "_view_module_version": "1.2.0",
            "_view_name": "LayoutView",
            "align_content": null,
            "align_items": null,
            "align_self": null,
            "border": null,
            "bottom": null,
            "display": null,
            "flex": null,
            "flex_flow": null,
            "grid_area": null,
            "grid_auto_columns": null,
            "grid_auto_flow": null,
            "grid_auto_rows": null,
            "grid_column": null,
            "grid_gap": null,
            "grid_row": null,
            "grid_template_areas": null,
            "grid_template_columns": null,
            "grid_template_rows": null,
            "height": null,
            "justify_content": null,
            "justify_items": null,
            "left": null,
            "margin": null,
            "max_height": null,
            "max_width": null,
            "min_height": null,
            "min_width": null,
            "object_fit": null,
            "object_position": null,
            "order": null,
            "overflow": null,
            "overflow_x": null,
            "overflow_y": null,
            "padding": null,
            "right": null,
            "top": null,
            "visibility": null,
            "width": null
          }
        },
        "9bc02e490fa141548a1aa3db0ed89b9a": {
          "model_module": "@jupyter-widgets/controls",
          "model_name": "DescriptionStyleModel",
          "model_module_version": "1.5.0",
          "state": {
            "_model_module": "@jupyter-widgets/controls",
            "_model_module_version": "1.5.0",
            "_model_name": "DescriptionStyleModel",
            "_view_count": null,
            "_view_module": "@jupyter-widgets/base",
            "_view_module_version": "1.2.0",
            "_view_name": "StyleView",
            "description_width": ""
          }
        },
        "85a1ae2d87ff401f88d0d8cd92c2ea96": {
          "model_module": "@jupyter-widgets/controls",
          "model_name": "HBoxModel",
          "model_module_version": "1.5.0",
          "state": {
            "_dom_classes": [],
            "_model_module": "@jupyter-widgets/controls",
            "_model_module_version": "1.5.0",
            "_model_name": "HBoxModel",
            "_view_count": null,
            "_view_module": "@jupyter-widgets/controls",
            "_view_module_version": "1.5.0",
            "_view_name": "HBoxView",
            "box_style": "",
            "children": [
              "IPY_MODEL_ec0aa73f35b046d4a7ae0d3247d1a549",
              "IPY_MODEL_d4e626e151f643bebcb7eac6469d89d6",
              "IPY_MODEL_95dfe9b7b862473e8c67e3655f19afb1"
            ],
            "layout": "IPY_MODEL_7c7463e571804984a758372970585b66"
          }
        },
        "ec0aa73f35b046d4a7ae0d3247d1a549": {
          "model_module": "@jupyter-widgets/controls",
          "model_name": "HTMLModel",
          "model_module_version": "1.5.0",
          "state": {
            "_dom_classes": [],
            "_model_module": "@jupyter-widgets/controls",
            "_model_module_version": "1.5.0",
            "_model_name": "HTMLModel",
            "_view_count": null,
            "_view_module": "@jupyter-widgets/controls",
            "_view_module_version": "1.5.0",
            "_view_name": "HTMLView",
            "description": "",
            "description_tooltip": null,
            "layout": "IPY_MODEL_985fc41b7b5e448ebc37c4dbc430a3de",
            "placeholder": "​",
            "style": "IPY_MODEL_fcc702161cce401aba8d39e0bd377dc0",
            "value": "Downloading builder script: 100%"
          }
        },
        "d4e626e151f643bebcb7eac6469d89d6": {
          "model_module": "@jupyter-widgets/controls",
          "model_name": "FloatProgressModel",
          "model_module_version": "1.5.0",
          "state": {
            "_dom_classes": [],
            "_model_module": "@jupyter-widgets/controls",
            "_model_module_version": "1.5.0",
            "_model_name": "FloatProgressModel",
            "_view_count": null,
            "_view_module": "@jupyter-widgets/controls",
            "_view_module_version": "1.5.0",
            "_view_name": "ProgressView",
            "bar_style": "success",
            "description": "",
            "description_tooltip": null,
            "layout": "IPY_MODEL_32e2d6fa047c4fb088b6dff53ecf3b00",
            "max": 6771,
            "min": 0,
            "orientation": "horizontal",
            "style": "IPY_MODEL_1e341a171d744c3c8a086eea9a5969a8",
            "value": 6771
          }
        },
        "95dfe9b7b862473e8c67e3655f19afb1": {
          "model_module": "@jupyter-widgets/controls",
          "model_name": "HTMLModel",
          "model_module_version": "1.5.0",
          "state": {
            "_dom_classes": [],
            "_model_module": "@jupyter-widgets/controls",
            "_model_module_version": "1.5.0",
            "_model_name": "HTMLModel",
            "_view_count": null,
            "_view_module": "@jupyter-widgets/controls",
            "_view_module_version": "1.5.0",
            "_view_name": "HTMLView",
            "description": "",
            "description_tooltip": null,
            "layout": "IPY_MODEL_4b26793a0b064cbcb8bd59d4f38c86df",
            "placeholder": "​",
            "style": "IPY_MODEL_ec23919e0a984a25a5fa69c76fab3004",
            "value": " 6.77k/6.77k [00:00&lt;00:00, 251kB/s]"
          }
        },
        "7c7463e571804984a758372970585b66": {
          "model_module": "@jupyter-widgets/base",
          "model_name": "LayoutModel",
          "model_module_version": "1.2.0",
          "state": {
            "_model_module": "@jupyter-widgets/base",
            "_model_module_version": "1.2.0",
            "_model_name": "LayoutModel",
            "_view_count": null,
            "_view_module": "@jupyter-widgets/base",
            "_view_module_version": "1.2.0",
            "_view_name": "LayoutView",
            "align_content": null,
            "align_items": null,
            "align_self": null,
            "border": null,
            "bottom": null,
            "display": null,
            "flex": null,
            "flex_flow": null,
            "grid_area": null,
            "grid_auto_columns": null,
            "grid_auto_flow": null,
            "grid_auto_rows": null,
            "grid_column": null,
            "grid_gap": null,
            "grid_row": null,
            "grid_template_areas": null,
            "grid_template_columns": null,
            "grid_template_rows": null,
            "height": null,
            "justify_content": null,
            "justify_items": null,
            "left": null,
            "margin": null,
            "max_height": null,
            "max_width": null,
            "min_height": null,
            "min_width": null,
            "object_fit": null,
            "object_position": null,
            "order": null,
            "overflow": null,
            "overflow_x": null,
            "overflow_y": null,
            "padding": null,
            "right": null,
            "top": null,
            "visibility": null,
            "width": null
          }
        },
        "985fc41b7b5e448ebc37c4dbc430a3de": {
          "model_module": "@jupyter-widgets/base",
          "model_name": "LayoutModel",
          "model_module_version": "1.2.0",
          "state": {
            "_model_module": "@jupyter-widgets/base",
            "_model_module_version": "1.2.0",
            "_model_name": "LayoutModel",
            "_view_count": null,
            "_view_module": "@jupyter-widgets/base",
            "_view_module_version": "1.2.0",
            "_view_name": "LayoutView",
            "align_content": null,
            "align_items": null,
            "align_self": null,
            "border": null,
            "bottom": null,
            "display": null,
            "flex": null,
            "flex_flow": null,
            "grid_area": null,
            "grid_auto_columns": null,
            "grid_auto_flow": null,
            "grid_auto_rows": null,
            "grid_column": null,
            "grid_gap": null,
            "grid_row": null,
            "grid_template_areas": null,
            "grid_template_columns": null,
            "grid_template_rows": null,
            "height": null,
            "justify_content": null,
            "justify_items": null,
            "left": null,
            "margin": null,
            "max_height": null,
            "max_width": null,
            "min_height": null,
            "min_width": null,
            "object_fit": null,
            "object_position": null,
            "order": null,
            "overflow": null,
            "overflow_x": null,
            "overflow_y": null,
            "padding": null,
            "right": null,
            "top": null,
            "visibility": null,
            "width": null
          }
        },
        "fcc702161cce401aba8d39e0bd377dc0": {
          "model_module": "@jupyter-widgets/controls",
          "model_name": "DescriptionStyleModel",
          "model_module_version": "1.5.0",
          "state": {
            "_model_module": "@jupyter-widgets/controls",
            "_model_module_version": "1.5.0",
            "_model_name": "DescriptionStyleModel",
            "_view_count": null,
            "_view_module": "@jupyter-widgets/base",
            "_view_module_version": "1.2.0",
            "_view_name": "StyleView",
            "description_width": ""
          }
        },
        "32e2d6fa047c4fb088b6dff53ecf3b00": {
          "model_module": "@jupyter-widgets/base",
          "model_name": "LayoutModel",
          "model_module_version": "1.2.0",
          "state": {
            "_model_module": "@jupyter-widgets/base",
            "_model_module_version": "1.2.0",
            "_model_name": "LayoutModel",
            "_view_count": null,
            "_view_module": "@jupyter-widgets/base",
            "_view_module_version": "1.2.0",
            "_view_name": "LayoutView",
            "align_content": null,
            "align_items": null,
            "align_self": null,
            "border": null,
            "bottom": null,
            "display": null,
            "flex": null,
            "flex_flow": null,
            "grid_area": null,
            "grid_auto_columns": null,
            "grid_auto_flow": null,
            "grid_auto_rows": null,
            "grid_column": null,
            "grid_gap": null,
            "grid_row": null,
            "grid_template_areas": null,
            "grid_template_columns": null,
            "grid_template_rows": null,
            "height": null,
            "justify_content": null,
            "justify_items": null,
            "left": null,
            "margin": null,
            "max_height": null,
            "max_width": null,
            "min_height": null,
            "min_width": null,
            "object_fit": null,
            "object_position": null,
            "order": null,
            "overflow": null,
            "overflow_x": null,
            "overflow_y": null,
            "padding": null,
            "right": null,
            "top": null,
            "visibility": null,
            "width": null
          }
        },
        "1e341a171d744c3c8a086eea9a5969a8": {
          "model_module": "@jupyter-widgets/controls",
          "model_name": "ProgressStyleModel",
          "model_module_version": "1.5.0",
          "state": {
            "_model_module": "@jupyter-widgets/controls",
            "_model_module_version": "1.5.0",
            "_model_name": "ProgressStyleModel",
            "_view_count": null,
            "_view_module": "@jupyter-widgets/base",
            "_view_module_version": "1.2.0",
            "_view_name": "StyleView",
            "bar_color": null,
            "description_width": ""
          }
        },
        "4b26793a0b064cbcb8bd59d4f38c86df": {
          "model_module": "@jupyter-widgets/base",
          "model_name": "LayoutModel",
          "model_module_version": "1.2.0",
          "state": {
            "_model_module": "@jupyter-widgets/base",
            "_model_module_version": "1.2.0",
            "_model_name": "LayoutModel",
            "_view_count": null,
            "_view_module": "@jupyter-widgets/base",
            "_view_module_version": "1.2.0",
            "_view_name": "LayoutView",
            "align_content": null,
            "align_items": null,
            "align_self": null,
            "border": null,
            "bottom": null,
            "display": null,
            "flex": null,
            "flex_flow": null,
            "grid_area": null,
            "grid_auto_columns": null,
            "grid_auto_flow": null,
            "grid_auto_rows": null,
            "grid_column": null,
            "grid_gap": null,
            "grid_row": null,
            "grid_template_areas": null,
            "grid_template_columns": null,
            "grid_template_rows": null,
            "height": null,
            "justify_content": null,
            "justify_items": null,
            "left": null,
            "margin": null,
            "max_height": null,
            "max_width": null,
            "min_height": null,
            "min_width": null,
            "object_fit": null,
            "object_position": null,
            "order": null,
            "overflow": null,
            "overflow_x": null,
            "overflow_y": null,
            "padding": null,
            "right": null,
            "top": null,
            "visibility": null,
            "width": null
          }
        },
        "ec23919e0a984a25a5fa69c76fab3004": {
          "model_module": "@jupyter-widgets/controls",
          "model_name": "DescriptionStyleModel",
          "model_module_version": "1.5.0",
          "state": {
            "_model_module": "@jupyter-widgets/controls",
            "_model_module_version": "1.5.0",
            "_model_name": "DescriptionStyleModel",
            "_view_count": null,
            "_view_module": "@jupyter-widgets/base",
            "_view_module_version": "1.2.0",
            "_view_name": "StyleView",
            "description_width": ""
          }
        }
      }
    }
  },
  "nbformat": 4,
  "nbformat_minor": 5
}